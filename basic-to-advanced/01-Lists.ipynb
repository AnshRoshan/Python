{
 "cells": [
  {
   "cell_type": "markdown",
   "metadata": {},
   "source": [
    "# Lists\n",
    "\n",
    "List is a collection data type which is ordered and mutable. Unlike Sets, Lists allow duplicate elements.\n",
    "They are useful for preserving a sequence of data and further iterating over it. Lists are created with square brackets.\n",
    "\n",
    "`my_list = [\"banana\", \"cherry\", \"apple\"]`\n",
    "\n",
    "#### Comparison of basic built-in collection data types in Python:\n",
    "\n",
    "- List is a collection which is ordered and mutable. Allows duplicate members.\n",
    "- Tuple is a collection which is ordered and immutable. Allows duplicate members.\n",
    "- Set is a collection which is unordered and unindexed. No duplicate members.\n",
    "- Dictionary is a collection which is unordered, mutable and indexed. No duplicate members.\n",
    "- Strings are immutable sequences of Unicode code points."
   ]
  },
  {
   "cell_type": "markdown",
   "metadata": {},
   "source": [
    "#### Creating a list\n",
    "Lists are created with square brackets or the built-in list function."
   ]
  },
  {
   "cell_type": "code",
   "execution_count": null,
   "metadata": {},
   "outputs": [],
   "source": [
    "list_1 = [\"banana\", \"cherry\", \"apple\"]\n",
    "print(list_1)\n",
    "\n",
    "# Or create an empty list with the list function\n",
    "list_2 = list()\n",
    "print(list_2)\n",
    "\n",
    "# Lists allow different data types\n",
    "list_3 = [5, True, \"apple\"]\n",
    "print(list_3)\n",
    "\n",
    "# Lists allow duplicates\n",
    "list_4 = [0, 0, 1, 1]\n",
    "print(list_4)\n",
    "\n"
   ]
  },
  {
   "cell_type": "markdown",
   "metadata": {},
   "source": [
    "#### Access elements\n",
    "You access the list items by referring to the index number. Note that the indices start at 0."
   ]
  },
  {
   "cell_type": "code",
   "execution_count": null,
   "metadata": {},
   "outputs": [],
   "source": [
    "item = list_1[0]\n",
    "print(item)\n",
    "\n",
    "# You can also use negative indexing, e.g -1 refers to the last item,\n",
    "# -2 to the second last item, and so on\n",
    "item = list_1[-1]\n",
    "print(item)\n",
    "\n"
   ]
  },
  {
   "cell_type": "markdown",
   "metadata": {},
   "source": [
    "#### Change items\n",
    "Just refer to the index number and assign a new value."
   ]
  },
  {
   "cell_type": "code",
   "execution_count": null,
   "metadata": {},
   "outputs": [],
   "source": [
    "# Lists can be altered after their creation\n",
    "list_1[2] = \"lemon\"\n",
    "print(list_1)"
   ]
  },
  {
   "cell_type": "markdown",
   "metadata": {},
   "source": [
    "#### Useful methods\n",
    "Have a look at the Python Documentation to see all list methods: \n",
    "https://docs.python.org/3/tutorial/datastructures.html "
   ]
  },
  {
   "cell_type": "code",
   "execution_count": null,
   "metadata": {},
   "outputs": [
    {
     "name": "stdout",
     "output_type": "stream",
     "text": [
      "Length: 3\n",
      "['banana', 'blueberry', 'cherry', 'apple', 'orange']\n",
      "Popped item:  orange\n",
      "['banana', 'blueberry', 'apple']\n",
      "[]\n",
      "Reversed:  ['apple', 'cherry', 'banana']\n",
      "Sorted:  ['apple', 'banana', 'cherry']\n",
      "[0, 0, 0, 0, 0]\n",
      "[0, 0, 0, 0, 0, 'banana', 'cherry', 'apple']\n",
      "['H', 'e', 'l', 'l', 'o']\n",
      "2\n",
      "0\n"
     ]
    },
    {
     "ename": "ValueError",
     "evalue": "1 is not in list",
     "output_type": "error",
     "traceback": [
      "\u001b[0;31m---------------------------------------------------------------------------\u001b[0m",
      "\u001b[0;31mValueError\u001b[0m                                Traceback (most recent call last)",
      "Cell \u001b[0;32mIn[4], line 55\u001b[0m\n\u001b[1;32m     53\u001b[0m \u001b[38;5;28mprint\u001b[39m(number\u001b[38;5;241m.\u001b[39mcount(\u001b[38;5;241m1\u001b[39m))\n\u001b[1;32m     54\u001b[0m \u001b[38;5;28mprint\u001b[39m(number\u001b[38;5;241m.\u001b[39mindex(\u001b[38;5;241m1\u001b[39m))\n\u001b[0;32m---> 55\u001b[0m \u001b[38;5;28mprint\u001b[39m(\u001b[43mnumber\u001b[49m\u001b[38;5;241;43m.\u001b[39;49m\u001b[43mindex\u001b[49m\u001b[43m(\u001b[49m\u001b[38;5;241;43m1\u001b[39;49m\u001b[43m,\u001b[49m\u001b[38;5;241;43m-\u001b[39;49m\u001b[38;5;241;43m1\u001b[39;49m\u001b[43m)\u001b[49m)\n",
      "\u001b[0;31mValueError\u001b[0m: 1 is not in list"
     ]
    }
   ],
   "source": [
    "my_list = [\"banana\", \"cherry\", \"apple\"]\n",
    "\n",
    "# len() : get the number of elements in a list\n",
    "print(\"Length:\", len(my_list))\n",
    "\n",
    "# append() : adds an element to the end of the list\n",
    "my_list.append(\"orange\")\n",
    "\n",
    "# insert() : adds an element at the specified position\n",
    "my_list.insert(1, \"blueberry\")\n",
    "print(my_list)\n",
    "\n",
    "# pop() : removes and returns the item at the given position, default is the last item\n",
    "item = my_list.pop()\n",
    "print(\"Popped item: \", item)\n",
    "\n",
    "# remove() : removes an item from the list\n",
    "my_list.remove(\"cherry\") # Value error if not in the list\n",
    "print(my_list)\n",
    "\n",
    "# clear() : removes all items from the list\n",
    "my_list.clear()\n",
    "print(my_list)\n",
    "\n",
    "# reverse() : reverse the items\n",
    "my_list = [\"banana\", \"cherry\", \"apple\"]\n",
    "my_list.reverse()\n",
    "print('Reversed: ', my_list)\n",
    "\n",
    "# sort() : sort items in ascending order\n",
    "my_list.sort()\n",
    "print('Sorted: ', my_list)\n",
    "\n",
    "# use sorted() to get a new list, and leave the original unaffected.\n",
    "# sorted() works on any iterable type, not just lists\n",
    "my_list = [\"banana\", \"cherry\", \"apple\"]\n",
    "new_list = sorted(my_list)\n",
    "\n",
    "# create list with repeated elements\n",
    "list_with_zeros = [0] * 5\n",
    "print(list_with_zeros)\n",
    "\n",
    "# concatenation\n",
    "list_concat = list_with_zeros + my_list\n",
    "print(list_concat)\n",
    "\n",
    "# convert string to list\n",
    "string_to_list = list('Hello')\n",
    "print(string_to_list)\n",
    "\n",
    "# count and index\n",
    "number=[1,2 ,1 ,3,4 ,23,12]\n",
    "print(number.count(1))\n",
    "print(number.index(1))\n",
    "\n",
    "# unpacking\n",
    "a,b,c, *other, d = [1,2,3,4,5,6,7,8,9]\n",
    "print(a)\n",
    "print(b)\n",
    "print(c)\n",
    "print(other)\n",
    "print(d)\n",
    "\n",
    "# list comprehension\n",
    "squares = [i*i for i in range(10)]\n",
    "print(squares)\n",
    "\n",
    "# list comprehension with condition\n",
    "evens = [i*i for i in range(10) if i%2 == 0]\n",
    "print(evens)\n",
    "\n",
    "# list comprehension with nested loop\n",
    "pairs = [(i,j) for i in range(2) for j in range(2)]\n",
    "print(pairs)\n",
    "\n",
    "# list comprehension with nested loop and condition\n",
    "pairs = [(i,j) for i in range(2) for j in range(2) if i!=j]\n",
    "print(pairs)\n"
   ]
  },
  {
   "cell_type": "markdown",
   "metadata": {},
   "source": [
    "#### Copy a list\n",
    "Be careful when copying references."
   ]
  },
  {
   "cell_type": "code",
   "execution_count": null,
   "metadata": {},
   "outputs": [],
   "source": [
    "list_org = [\"banana\", \"cherry\", \"apple\"]\n",
    "\n",
    "# this just copies the reference to the list, so be careful\n",
    "list_copy = list_org\n",
    "\n",
    "# now modifying the copy also affects the original\n",
    "list_copy.append(True)\n",
    "print(list_copy)\n",
    "print(list_org)\n",
    "\n",
    "# use copy(), or list(x) to actually copy the list\n",
    "# slicing also works: list_copy = list_org[:]\n",
    "list_org = [\"banana\", \"cherry\", \"apple\"]\n",
    "\n",
    "list_copy = list_org.copy()\n",
    "# list_copy = list(list_org)\n",
    "# list_copy = list_org[:]\n",
    "\n",
    "# now modifying the copy does not affect the original \n",
    "list_copy.append(True)\n",
    "print(list_copy)\n",
    "print(list_org)\n",
    "\n",
    "\n",
    "# copy a list with nested lists -- only the reference is copied\n",
    "list_org = [[1,2], [3,4]]\n",
    "list_copy = list_org.copy()\n",
    "list_copy[1].append(5)\n",
    "print(list_copy)\n",
    "print(list_org)\n",
    "\n",
    "\n",
    "# use deepcopy to also copy nested lists ---depp copy\n",
    "from copy import deepcopy\n",
    "list_org = [[1,2], [3,4]]\n",
    "list_copy = deepcopy(list_org)\n",
    "list_copy[1].append(5)\n",
    "print(list_copy)\n",
    "print(list_org)\n",
    "\n"
   ]
  },
  {
   "cell_type": "markdown",
   "metadata": {},
   "source": [
    "#### Iterating"
   ]
  },
  {
   "cell_type": "code",
   "execution_count": null,
   "metadata": {},
   "outputs": [],
   "source": [
    "# Iterating over a list by using a for in loop\n",
    "for i in list_1:\n",
    "    print(i)\n",
    "\n",
    "# Iterating over a list by using a for in loop with index\n",
    "for i, name in enumerate(list_1):\n",
    "    print(i, name)\n",
    "\n",
    "# uitlizing the range function\n",
    "for i in range(len(list_1)):\n",
    "    print(list_1[i])\n",
    "\n",
    "# use a while loop to iterate over a list\n",
    "i = 0\n",
    "while i < len(list_1):\n",
    "    print(list_1[i])\n",
    "    i += 1\n",
    "\n",
    "# do while loop\n",
    "i = 0\n",
    "while True:\n",
    "    print(list_1[i])\n",
    "    i += 1\n",
    "    if i >= len(list_1):\n",
    "        break\n",
    "\n",
    "\n",
    "\n"
   ]
  },
  {
   "cell_type": "markdown",
   "metadata": {},
   "source": [
    "#### Check if an item exists"
   ]
  },
  {
   "cell_type": "code",
   "execution_count": null,
   "metadata": {},
   "outputs": [],
   "source": [
    "if \"banana\" in list_1:\n",
    "    print(\"yes\")\n",
    "else:\n",
    "    print(\"no\")\n",
    "\n",
    "# check if an item  exist other method\n",
    "try:\n",
    "    list_1.index(\"banana\")\n",
    "    print(\"yes\")\n",
    "except:\n",
    "    print(\"no\")\n",
    "\n",
    "# check if an item  exist other method\n",
    "if list_1.count(\"banana\") > 0:\n",
    "    print(\"yes\")\n",
    "else:\n",
    "    print(\"no\")\n"
   ]
  },
  {
   "cell_type": "markdown",
   "metadata": {},
   "source": [
    "#### Slicing\n",
    "Access sub parts of the list wih the use of colon (:), just as with strings."
   ]
  },
  {
   "cell_type": "code",
   "execution_count": null,
   "metadata": {},
   "outputs": [],
   "source": [
    "# a[start:stop:step], default step is 1\n",
    "a = [1, 2, 3, 4, 5, 6, 7, 8, 9, 10]\n",
    "b = a[1:3] # Note that the last index is not included\n",
    "print(b)\n",
    "b = a[2:] # until the end\n",
    "print(b)\n",
    "b = a[:3] # from beginning\n",
    "print(b)\n",
    "a[0:3] = [0] # replace sub-parts, you need an iterable here\n",
    "print(a)\n",
    "b = a[::2] # start to end with every second item\n",
    "print(b)\n",
    "a = a[::-1] # reverse the list with a negative step:\n",
    "print(a)\n",
    "b = a[:] # copy a list with slicing\n",
    "print(b)\n",
    "\n",
    "#  important  use of list slicing\n",
    "a=[1,2,3,4,5,6,7,8,9]\n",
    "#  to copy a list\n",
    "b=a[:]\n",
    "#  to clear a list\n",
    "b[:]=[]\n",
    "#  to reverse a list\n",
    "b=a[::-1]\n",
    "#  to get a part of a list\n",
    "b=a[2:5]\n",
    "#  to delete a part of a list\n",
    "b=a[:2]+a[5:]\n",
    "#  to replace a part of a list\n",
    "b=a[:2]+[10,11]+a[5:]\n",
    "#  to insert a part into a list\n",
    "b=a[:2]+[10,11]+a[2:]\n",
    "#  to create a copy of a list with a different name\n",
    "b=a[:]\n",
    "#  to sort a list\n",
    "b=sorted(a)\n",
    "#  to shuffle a list\n",
    "from random import shuffle\n",
    "shuffle(a)\n",
    "#  to get the maximum or minimum of a list\n",
    "b=max(a)\n",
    "b=min(a)\n",
    "#  to get the sum of a list\n",
    "b=sum(a)\n",
    "#  to get the average of a list\n",
    "b=sum(a)/len(a)\n",
    "#  to get the median of a list\n",
    "median=sorted(a)[len(a)//2] if len(a)%2!=0 else (sorted(a)[len(a)//2-1]+sorted(a)[len(a)//2])/2\n",
    "#  to get the mean of a list\n",
    "from statistics import mean\n",
    "b=mean(a)\n",
    "#  to get the variance of a list\n",
    "from statistics import variance\n",
    "b=variance(a)\n",
    "#  to get the standard deviation of a list\n",
    "from statistics import stdev\n",
    "b=stdev(a)\n",
    "\n",
    "#  to get the mode of a list\n",
    "from collections import Counter\n",
    "b=Counter(a).most_common(1)[0][0]\n",
    "#  to get the frequency of an item in a list\n",
    "b=a.count(3)\n",
    "\n",
    "\n",
    "#  to get every n-th item of a list\n",
    "num=[1,2,3,4,5,6,7,8,9]\n",
    "b=num[::2]\n",
    "\n",
    "#  to check if a list is sorted\n",
    "check= all(num[i] <= num[i + 1] for i in range(len(num) - 1))\n"
   ]
  },
  {
   "cell_type": "markdown",
   "metadata": {},
   "source": [
    "#### List comprehension\n",
    "A elegant and fast way to create a new list from an existing list.\n",
    "\n",
    "List comprehension consists of an expression followed by a for statement inside square brackets."
   ]
  },
  {
   "cell_type": "code",
   "execution_count": null,
   "metadata": {},
   "outputs": [],
   "source": [
    "a = [1, 2, 3, 4, 5, 6, 7, 8]\n",
    "b = [i * i for i in a] # squares each element\n",
    "print(b)\n",
    "\n",
    "# filter elements greater than 4\n",
    "b = [i for i in a if i > 4]\n",
    "print(b)\n",
    "\n",
    "# create a new list with the squares of the elements\n",
    "b = [i * i for i in a]\n",
    "print(b)\n",
    "\n"
   ]
  },
  {
   "cell_type": "markdown",
   "metadata": {},
   "source": [
    "#### Nested lists\n",
    "Lists can contain other lists (or other container types)."
   ]
  },
  {
   "cell_type": "code",
   "execution_count": null,
   "metadata": {},
   "outputs": [],
   "source": [
    "a = [[1, 2], [3, 4]]\n",
    "print(a)\n",
    "print(a[0])\n",
    "print(a[0][1])"
   ]
  },
  {
   "cell_type": "markdown",
   "metadata": {},
   "source": [
    "### Nested Loop - Matrix\n"
   ]
  },
  {
   "cell_type": "code",
   "execution_count": null,
   "metadata": {},
   "outputs": [],
   "source": [
    "# This way it link all smile together changing one affect others \n",
    "# matrix=[['😀']*3]*3 \n",
    "matrix = [['😀' for _ in range(3)] for _ in range(3)]\n",
    "print(*matrix,sep=\"\\n\")\n",
    "matrix[1][1]= \"x\"\n",
    "print(*matrix,sep=\"\\n\")\n",
    "\n",
    "\n",
    "#  to create a list of lists\n",
    "matrix=[[0]*3 for _ in range(3)]\n",
    "#  to create a list of lists\n",
    "matrix=[[0 for _ in range(3)] for _ in range(3)]\n"
   ]
  },
  {
   "cell_type": "code",
   "execution_count": null,
   "metadata": {},
   "outputs": [],
   "source": [
    "# Rock paper Scissor\n",
    "\n",
    "# from random import randint\n",
    "# option=['Rock','Paper','Scissor']\n",
    "# print(\"The options are\" )\n",
    "# print(*[f'{i+1}. {val}' for i, val in enumerate(option)] ,sep=\"\\n\")\n",
    "# comChoice=randint(0,2)\n",
    "# urchoice= int(input(\"Enter the Value:-> \"))%3\n",
    "# if urchoice==comChoice:\n",
    "#     print(f\" --- DRAW --- \")\n",
    "# elif urchoice-comChoice in [1,-2]:\n",
    "#     print(\"You have WIN\")\n",
    "# else:\n",
    "#     print(\"You have LOST\")\n",
    "# print(f\"Both choice were User-{option[urchoice]} and AI-{option[comChoice]}\")\n",
    "\n",
    "from random import choice\n",
    "\n",
    "options = {1: 'Rock', 2: 'Paper', 3: 'Scissors'}\n",
    "print(\"The options are:\")\n",
    "for key, value in options.items():\n",
    "    print(f'{key}. {value}')\n",
    "\n",
    "try:\n",
    "    user_choice = int(input(\"Enter your choice (1-3): \"))\n",
    "    if user_choice not in options.keys():\n",
    "        raise ValueError\n",
    "    # break\n",
    "except ValueError:\n",
    "    print(\"Invalid input. Please enter a number between 1 and 3.\")\n",
    "\n",
    "computer_choice = choice(list(options.keys()))\n",
    "\n",
    "print(f\"You chose {options[user_choice]}\")\n",
    "print(f\"The computer chose {options[computer_choice]}\")\n",
    "\n",
    "if user_choice == computer_choice:\n",
    "    print(\"It's a tie!\")\n",
    "elif (user_choice - computer_choice) % 3 in [1, 2]:\n",
    "    print(\"You win!\")\n",
    "else:\n",
    "    print(\"You lose!\")"
   ]
  }
 ],
 "metadata": {
  "kernelspec": {
   "display_name": "Python 3 (ipykernel)",
   "language": "python",
   "name": "python3"
  },
  "language_info": {
   "codemirror_mode": {
    "name": "ipython",
    "version": 3
   },
   "file_extension": ".py",
   "mimetype": "text/x-python",
   "name": "python",
   "nbconvert_exporter": "python",
   "pygments_lexer": "ipython3",
   "version": "3.11.8"
  }
 },
 "nbformat": 4,
 "nbformat_minor": 2
}
