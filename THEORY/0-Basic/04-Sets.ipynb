{
 "cells": [
  {
   "cell_type": "markdown",
   "metadata": {},
   "source": [
    "# Python Fundamentals: Sets - Unique Unordered Collections"
   ]
  },
  {
   "cell_type": "markdown",
   "metadata": {},
   "source": [
    "## Introduction\n",
    "\n",
    "A **set** is a mutable, unordered collection of unique, immutable elements. Think of it like a mathematical set – duplicates are automatically removed, and the order of elements is not guaranteed (though iteration order might appear consistent in some CPython versions, it shouldn't be relied upon).\n",
    "\n",
    "**Key Characteristics:**\n",
    "*   **Unordered:** Elements have no fixed position or index.\n",
    "*   **Unique Elements:** Duplicates are automatically discarded.\n",
    "*   **Mutable Set:** Sets themselves can be modified (elements added or removed).\n",
    "*   **Immutable Elements:** Elements within a set *must* be immutable (hashable) types (e.g., numbers, strings, tuples of immutables).\n",
    "*   **No Indexing:** Elements cannot be accessed using index numbers."
   ]
  },
  {
   "cell_type": "markdown",
   "metadata": {},
   "source": [
    "## Real-World Analogies & Use Cases\n",
    "\n",
    "*   **Unique Items:** Collecting unique usernames, email addresses, or product IDs from a list.\n",
    "*   **Membership Testing:** Quickly checking if an item exists in a large collection (e.g., \"Is this user ID already processed?\"). Sets offer very fast O(1) average time complexity for this.\n",
    "*   **Mathematical Set Operations:** Finding intersections (common elements), unions (all unique elements), differences (elements in one set but not another).\n",
    "*   **Removing Duplicates:** The easiest way to remove duplicates from a list is often to convert it to a set and back: `unique_list = list(set(original_list))` (Note: this loses original order)."
   ]
  },
  {
   "cell_type": "markdown",
   "metadata": {},
   "source": [
    "## 1. Explain & Demonstrate: Creating Sets\n",
    "\n",
    "Sets are created using curly braces `{}` with comma-separated elements, or the `set()` constructor. \n",
    "\n",
    "**Important:** Using empty curly braces `{}` creates an *empty dictionary*, not an empty set. Use `set()` for an empty set."
   ]
  },
  {
   "cell_type": "code",
   "execution_count": 1,
   "metadata": {},
   "outputs": [
    {
     "name": "stdout",
     "output_type": "stream",
     "text": [
      "Literal syntax (duplicates removed): {'python', 'api', 'data', 'web'}\n",
      "Type: <class 'set'>\n",
      "\n",
      "Mixed types (duplicates, bool/int treated same): {0, 1, (1, 2), 3.14, 'hello'}\n",
      "\n",
      "Set from list: {1, 2, 3, 4, 5}\n",
      "Set from string: {'o', 'r', 'l', 'w', 'e', 'd', ' ', 'h'}\n",
      "\n",
      "Empty dict: {}, Type: <class 'dict'>\n",
      "Empty set: set(), Type: <class 'set'>\n"
     ]
    }
   ],
   "source": [
    "from typing import Set, Any, Tuple, FrozenSet\n",
    "\n",
    "# Using curly braces (literal syntax)\n",
    "# Duplicates are automatically removed, boolean True/1 and False/0 are treated as duplicates.\n",
    "unique_tags: Set[str] = {\"python\", \"data\", \"web\", \"python\", \"api\"}\n",
    "print(f\"Literal syntax (duplicates removed): {unique_tags}\")\n",
    "print(f\"Type: {type(unique_tags)}\\n\")\n",
    "\n",
    "mixed_set: Set[Any] = {1, \"hello\", 3.14, True, 0, False, (1, 2)}\n",
    "# Note: True == 1, False == 0. Only one of each pair is kept.\n",
    "# Order is NOT guaranteed.\n",
    "print(f\"Mixed types (duplicates, bool/int treated same): {mixed_set}\\n\")\n",
    "\n",
    "# Using the set() constructor with an iterable (e.g., list, string)\n",
    "numbers_list = [1, 2, 2, 3, 4, 3, 5]\n",
    "set_from_list: Set[int] = set(numbers_list)\n",
    "print(f\"Set from list: {set_from_list}\")\n",
    "\n",
    "set_from_string: Set[str] = set(\"hello world\") # Creates set of unique characters\n",
    "print(f\"Set from string: {set_from_string}\\n\")\n",
    "\n",
    "# --- Pitfall Alert: Empty Set Creation ---\n",
    "empty_dict = {}\n",
    "empty_set = set()\n",
    "print(f\"Empty dict: {empty_dict}, Type: {type(empty_dict)}\")\n",
    "print(f\"Empty set: {empty_set}, Type: {type(empty_set)}\")"
   ]
  },
  {
   "cell_type": "markdown",
   "metadata": {},
   "source": [
    "## 2. Explain & Demonstrate: Modifying Sets\n",
    "\n",
    "Sets are mutable, allowing elements to be added or removed."
   ]
  },
  {
   "cell_type": "code",
   "execution_count": 2,
   "metadata": {},
   "outputs": [
    {
     "name": "stdout",
     "output_type": "stream",
     "text": [
      "Initial set: {'bob', 'alice'}\n",
      "\n",
      "After adding 'charlie' and 'alice': {'charlie', 'bob', 'alice'}\n",
      "Error adding mutable list: unhashable type: 'list'\n",
      "After adding tuple: {'charlie', 'bob', ('group', 1), 'alice'}\n",
      "\n",
      "After update with list, set, string: {'charlie', 'heidi', 'bob', 'alice', 'n', 'i', ('group', 1), 'frank', 'v', 'grace', 'a'}\n",
      "\n",
      "After removing 'bob': {'charlie', 'heidi', 'alice', 'n', 'i', ('group', 1), 'frank', 'v', 'grace', 'a'}\n",
      "Error removing non-existent 'zelda' with remove(): 'zelda'\n",
      "\n",
      "After discarding 'alice' and 'zelda': {'charlie', 'heidi', 'n', 'i', ('group', 1), 'frank', 'v', 'grace', 'a'}\n",
      "\n",
      "After pop() (removed 'charlie'): {'heidi', 'n', 'i', ('group', 1), 'frank', 'v', 'grace', 'a'}\n",
      "\n",
      "After clear(): set()\n"
     ]
    }
   ],
   "source": [
    "active_users: Set[str] = {\"alice\", \"bob\"}\n",
    "print(f\"Initial set: {active_users}\\n\")\n",
    "\n",
    "# --- Adding Elements ---\n",
    "\n",
    "# .add(element): Adds a single element. Does nothing if element is already present.\n",
    "active_users.add(\"charlie\")\n",
    "active_users.add(\"alice\") # Adding existing element has no effect\n",
    "print(f\"After adding 'charlie' and 'alice': {active_users}\")\n",
    "\n",
    "# Pitfall: Adding mutable elements raises TypeError\n",
    "try:\n",
    "    active_users.add([\"david\", \"eve\"]) # Cannot add a list\n",
    "except TypeError as e:\n",
    "    print(f\"Error adding mutable list: {e}\")\n",
    "# Can add immutable elements like tuples\n",
    "active_users.add((\"group\", 1))\n",
    "print(f\"After adding tuple: {active_users}\\n\")\n",
    "\n",
    "# .update(iterable): Adds all elements from an iterable (list, tuple, set, string).\n",
    "new_users = [\"frank\", \"grace\", \"bob\"] # List with duplicates\n",
    "inactive_set = {\"heidi\"}\n",
    "active_users.update(new_users, inactive_set, \"ivan\") # Can take multiple iterables\n",
    "print(f\"After update with list, set, string: {active_users}\\n\")\n",
    "\n",
    "# --- Removing Elements ---\n",
    "\n",
    "# .remove(element): Removes the element. Raises KeyError if the element is not found.\n",
    "active_users.remove(\"bob\")\n",
    "print(f\"After removing 'bob': {active_users}\")\n",
    "try:\n",
    "    active_users.remove(\"zelda\") # 'zelda' is not in the set\n",
    "except KeyError as e:\n",
    "    print(f\"Error removing non-existent 'zelda' with remove(): {e}\\n\")\n",
    "\n",
    "# .discard(element): Removes the element if present. Does *nothing* if the element is not found (safer).\n",
    "active_users.discard(\"alice\")\n",
    "active_users.discard(\"zelda\") # No error for non-existent element\n",
    "print(f\"After discarding 'alice' and 'zelda': {active_users}\\n\")\n",
    "\n",
    "# .pop(): Removes and returns an *arbitrary* element from the set.\n",
    "# Raises KeyError if the set is empty. Order is not guaranteed.\n",
    "if active_users:\n",
    "    removed_user = active_users.pop()\n",
    "    print(f\"After pop() (removed '{removed_user}'): {active_users}\\n\")\n",
    "else:\n",
    "    print(\"Set is empty, cannot pop.\")\n",
    "\n",
    "# .clear(): Removes all elements from the set.\n",
    "active_users.clear()\n",
    "print(f\"After clear(): {active_users}\")"
   ]
  },
  {
   "cell_type": "markdown",
   "metadata": {},
   "source": [
    "## 3. Demonstrate: Set Operations (Mathematical)\n",
    "\n",
    "Sets support standard mathematical operations like union, intersection, difference, etc. These can be performed using methods or operators."
   ]
  },
  {
   "cell_type": "code",
   "execution_count": 3,
   "metadata": {},
   "outputs": [
    {
     "name": "stdout",
     "output_type": "stream",
     "text": [
      "Set A: {1, 2, 3, 4, 5}\n",
      "Set B: {4, 5, 6, 7, 8}\n",
      "Set C: {1, 2}\n",
      "\n",
      "A union B (method): {1, 2, 3, 4, 5, 6, 7, 8}\n",
      "A union B (operator): {1, 2, 3, 4, 5, 6, 7, 8}\n",
      "\n",
      "A intersection B (method): {4, 5}\n",
      "A intersection B (operator): {4, 5}\n",
      "\n",
      "A difference B (method): {1, 2, 3}\n",
      "B difference A (method): {8, 6, 7}\n",
      "A difference B (operator): {1, 2, 3}\n",
      "B difference A (operator): {8, 6, 7}\n",
      "\n",
      "A symmetric_difference B (method): {1, 2, 3, 6, 7, 8}\n",
      "A symmetric_difference B (operator): {1, 2, 3, 6, 7, 8}\n",
      "\n",
      "Is C subset of A? True\n",
      "Is A subset of C? False\n",
      "Is A superset of C? True\n",
      "Is C <= A? True\n",
      "Is A >= C? True\n",
      "Is C < A? True\n",
      "Is A < A? False\n",
      "Is A <= A? True\n",
      "Are A and B disjoint? False\n",
      "Are A and D disjoint? True\n"
     ]
    }
   ],
   "source": [
    "set_a: Set[int] = {1, 2, 3, 4, 5}\n",
    "set_b: Set[int] = {4, 5, 6, 7, 8}\n",
    "set_c: Set[int] = {1, 2}\n",
    "\n",
    "print(f\"Set A: {set_a}\")\n",
    "print(f\"Set B: {set_b}\")\n",
    "print(f\"Set C: {set_c}\\n\")\n",
    "\n",
    "# --- Union (Elements in either set) ---\n",
    "# Method: .union() - Returns a new set\n",
    "union_ab_method: Set[int] = set_a.union(set_b)\n",
    "print(f\"A union B (method): {union_ab_method}\")\n",
    "# Operator: | - Returns a new set\n",
    "union_ab_operator: Set[int] = set_a | set_b\n",
    "print(f\"A union B (operator): {union_ab_operator}\\n\")\n",
    "\n",
    "# --- Intersection (Elements in both sets) ---\n",
    "# Method: .intersection() - Returns a new set\n",
    "intersect_ab_method: Set[int] = set_a.intersection(set_b)\n",
    "print(f\"A intersection B (method): {intersect_ab_method}\")\n",
    "# Operator: & - Returns a new set\n",
    "intersect_ab_operator: Set[int] = set_a & set_b\n",
    "print(f\"A intersection B (operator): {intersect_ab_operator}\\n\")\n",
    "\n",
    "# --- Difference (Elements in first set, but not in second) ---\n",
    "# Method: .difference() - Returns a new set (Order matters!)\n",
    "diff_ab_method: Set[int] = set_a.difference(set_b) # A - B\n",
    "diff_ba_method: Set[int] = set_b.difference(set_a) # B - A\n",
    "print(f\"A difference B (method): {diff_ab_method}\")\n",
    "print(f\"B difference A (method): {diff_ba_method}\")\n",
    "# Operator: - - Returns a new set\n",
    "diff_ab_operator: Set[int] = set_a - set_b\n",
    "diff_ba_operator: Set[int] = set_b - set_a\n",
    "print(f\"A difference B (operator): {diff_ab_operator}\")\n",
    "print(f\"B difference A (operator): {diff_ba_operator}\\n\")\n",
    "\n",
    "# --- Symmetric Difference (Elements in either set, but not both) ---\n",
    "# Method: .symmetric_difference() - Returns a new set\n",
    "sym_diff_ab_method: Set[int] = set_a.symmetric_difference(set_b)\n",
    "print(f\"A symmetric_difference B (method): {sym_diff_ab_method}\")\n",
    "# Operator: ^ - Returns a new set\n",
    "sym_diff_ab_operator: Set[int] = set_a ^ set_b\n",
    "print(f\"A symmetric_difference B (operator): {sym_diff_ab_operator}\\n\")\n",
    "\n",
    "# --- Subset and Superset ---\n",
    "# Method: .issubset(), .issuperset()\n",
    "print(f\"Is C subset of A? {set_c.issubset(set_a)}\")     # True\n",
    "print(f\"Is A subset of C? {set_a.issubset(set_c)}\")     # False\n",
    "print(f\"Is A superset of C? {set_a.issuperset(set_c)}\") # True\n",
    "# Operator: <= (subset), >= (superset), < (proper subset), > (proper superset)\n",
    "print(f\"Is C <= A? {set_c <= set_a}\") # True\n",
    "print(f\"Is A >= C? {set_a >= set_c}\") # True\n",
    "print(f\"Is C < A? {set_c < set_a}\")   # True (C is subset, but not equal to A)\n",
    "print(f\"Is A < A? {set_a < set_a}\")   # False (A is not a *proper* subset of itself)\n",
    "print(f\"Is A <= A? {set_a <= set_a}\") # True (A is a subset of itself)\\n\")\n",
    "\n",
    "# --- Disjoint (No common elements) ---\n",
    "# Method: .isdisjoint()\n",
    "set_d: Set[int] = {10, 11}\n",
    "print(f\"Are A and B disjoint? {set_a.isdisjoint(set_b)}\") # False (share 4, 5)\n",
    "print(f\"Are A and D disjoint? {set_a.isdisjoint(set_d)}\") # True"
   ]
  },
  {
   "cell_type": "markdown",
   "metadata": {},
   "source": [
    "## 4. Demonstrate: In-Place Set Operations (Update Methods)\n",
    "\n",
    "Similar to the mathematical operations, there are methods that modify the set *in-place* instead of returning a new set. Their names often include `_update`."
   ]
  },
  {
   "cell_type": "code",
   "execution_count": 4,
   "metadata": {},
   "outputs": [
    {
     "name": "stdout",
     "output_type": "stream",
     "text": [
      "Initial Set X: {1, 2, 3}\n",
      "Initial Set Y: {3, 4, 5}\n",
      "\n",
      "X after |= Y (Union Update): {1, 2, 3, 4, 5}\n",
      "X after &= Y (Intersection Update): {3}\n",
      "X after -= Y (Difference Update): {1, 2}\n",
      "X after ^= Y (Symmetric Difference Update): {1, 2, 4, 5}\n"
     ]
    }
   ],
   "source": [
    "set_x: Set[int] = {1, 2, 3}\n",
    "set_y: Set[int] = {3, 4, 5}\n",
    "print(f\"Initial Set X: {set_x}\")\n",
    "print(f\"Initial Set Y: {set_y}\\n\")\n",
    "\n",
    "# --- Update (In-place Union) ---\n",
    "# Method: .update() (also used for adding from any iterable)\n",
    "# set_x.update(set_y)\n",
    "# Operator: |=\n",
    "set_x |= set_y\n",
    "print(f\"X after |= Y (Union Update): {set_x}\") # set_x is now {1, 2, 3, 4, 5}\n",
    "\n",
    "# Reset X for next demo\n",
    "set_x = {1, 2, 3}\n",
    "\n",
    "# --- Intersection Update (In-place Intersection) ---\n",
    "# Method: .intersection_update()\n",
    "# set_x.intersection_update(set_y)\n",
    "# Operator: &=\n",
    "set_x &= set_y\n",
    "print(f\"X after &= Y (Intersection Update): {set_x}\") # set_x is now {3}\n",
    "\n",
    "# Reset X for next demo\n",
    "set_x = {1, 2, 3}\n",
    "\n",
    "# --- Difference Update (In-place Difference) ---\n",
    "# Method: .difference_update()\n",
    "# set_x.difference_update(set_y) # X - Y\n",
    "# Operator: -=\n",
    "set_x -= set_y\n",
    "print(f\"X after -= Y (Difference Update): {set_x}\") # set_x is now {1, 2}\n",
    "\n",
    "# Reset X for next demo\n",
    "set_x = {1, 2, 3}\n",
    "\n",
    "# --- Symmetric Difference Update (In-place Symmetric Difference) ---\n",
    "# Method: .symmetric_difference_update()\n",
    "# set_x.symmetric_difference_update(set_y)\n",
    "# Operator: ^=\n",
    "set_x ^= set_y\n",
    "print(f\"X after ^= Y (Symmetric Difference Update): {set_x}\") # set_x is now {1, 2, 4, 5}"
   ]
  },
  {
   "cell_type": "markdown",
   "metadata": {},
   "source": [
    "## 5. Apply: Iteration and Membership Testing\n",
    "\n",
    "Sets are iterable, and checking for membership is highly efficient."
   ]
  },
  {
   "cell_type": "code",
   "execution_count": 5,
   "metadata": {},
   "outputs": [
    {
     "name": "stdout",
     "output_type": "stream",
     "text": [
      "Available permissions (iteration order not guaranteed):\n",
      "- read\n",
      "- guest\n",
      "- admin\n",
      "- write\n",
      "\n",
      "\n",
      "Does user have 'admin' permission? True\n",
      "Does user have 'delete' permission? False\n",
      "\n",
      "User has required read/write permissions.\n"
     ]
    }
   ],
   "source": [
    "permissions: Set[str] = {\"read\", \"write\", \"admin\", \"guest\"}\n",
    "\n",
    "# --- Iteration ---\n",
    "# Note: Order is NOT guaranteed!\n",
    "print(\"Available permissions (iteration order not guaranteed):\")\n",
    "for perm in permissions:\n",
    "    print(f\"- {perm}\")\n",
    "print(\"\\n\")\n",
    "\n",
    "# --- Membership Testing (Fast!) ---\n",
    "user_has_admin = \"admin\" in permissions\n",
    "user_has_delete = \"delete\" in permissions\n",
    "\n",
    "print(f\"Does user have 'admin' permission? {user_has_admin}\")\n",
    "print(f\"Does user have 'delete' permission? {user_has_delete}\\n\")\n",
    "\n",
    "# Example: Checking required permissions\n",
    "required_perms = {\"read\", \"write\"}\n",
    "if required_perms.issubset(permissions):\n",
    "    print(\"User has required read/write permissions.\")\n",
    "else:\n",
    "    missing = required_perms - permissions\n",
    "    print(f\"User is missing required permissions: {missing}\")"
   ]
  },
  {
   "cell_type": "markdown",
   "metadata": {},
   "source": [
    "## Performance Considerations\n",
    "\n",
    "*   **Membership Testing:** Checking if an element is in a set (`element in my_set`) has an average time complexity of **O(1)**, thanks to hashing. This is significantly faster than searching in a list (O(n)).\n",
    "*   **Add/Remove:** Adding and removing elements also average O(1).\n",
    "*   **Set Operations:** Operations like union, intersection, and difference typically have a time complexity related to the sizes of the sets involved (e.g., O(len(s) + len(t)) for union, O(min(len(s), len(t))) for intersection in many cases).\n",
    "*   **Memory:** Like dictionaries, sets have memory overhead due to the underlying hash table."
   ]
  },
  {
   "cell_type": "markdown",
   "metadata": {},
   "source": [
    "## Best Practices & Enterprise Context\n",
    "\n",
    "*   **Use Sets for Uniqueness:** When you need to store a collection of items where duplicates are irrelevant or must be prevented, use a set.\n",
    "*   **Fast Membership Checks:** If your code frequently needs to check for the existence of an item in a large collection, a set is often the most performant choice.\n",
    "*   **Removing Duplicates:** `list(set(my_list))` is a common idiom, but remember it doesn't preserve order. For order-preserving unique items, other methods (like iterating and adding to a new list if not seen) are needed.\n",
    "*   **Use `.discard()` for Safe Removal:** Prefer `.discard(x)` over `.remove(x)` if you don't want a `KeyError` when attempting to remove an element that might not be present.\n",
    "*   **Understand Immutability of Elements:** You cannot put mutable items like lists or dictionaries into a set. Use tuples (of immutables) if you need compound elements.\n",
    "*   **Set Operations:** Leverage built-in set operations for efficient comparisons and combinations of collections (e.g., finding common users between two groups)."
   ]
  },
  {
   "cell_type": "markdown",
   "metadata": {},
   "source": [
    "## Common Pitfalls & Interview Questions\n",
    "\n",
    "*   **Pitfall: Unordered Nature:** Do not rely on sets preserving insertion order, even if it sometimes appears to happen in specific Python versions. If order matters, use a list or other ordered sequence.\n",
    "*   **Pitfall: Mutable Elements:** Trying to add a list or dictionary to a set will raise a `TypeError`. Elements must be hashable.\n",
    "*   **Pitfall: Creating Empty Sets:** Using `{}` creates an empty dictionary, not a set. Use `set()`.\n",
    "*   **Pitfall: `remove()` vs `discard()`:** Forgetting that `remove()` raises `KeyError` if the element is absent, while `discard()` does not.\n",
    "*   **Pitfall: `pop()` Behavior:** Remembering that `pop()` removes an *arbitrary* element, not necessarily the first or last.\n",
    "\n",
    "*   **Interview Question:** \"What are the main characteristics of a Python set?\"\n",
    "    *   *Answer:* Unordered, unique immutable elements, mutable set itself, fast membership testing (O(1) average).\n",
    "*   **Interview Question:** \"When would you use a set instead of a list?\"\n",
    "    *   *Answer:* When uniqueness is required, when order doesn't matter, and especially when frequent membership testing is needed.\n",
    "*   **Interview Question:** \"How do you remove duplicates from a list while preserving order?\"\n",
    "    *   *Answer:* `list(set(my_list))` removes duplicates but *loses* order. To preserve order: iterate through the list, adding elements to a new list only if they haven't been seen (using a set to track seen elements efficiently): `seen = set(); result = []; for item in my_list: if item not in seen: seen.add(item); result.append(item)`.\n",
    "*   **Interview Question:** \"What's the difference between `set.remove(x)` and `set.discard(x)`?\"\n",
    "    *   *Answer:* `remove(x)` raises `KeyError` if `x` is not in the set, `discard(x)` does nothing if `x` is not in the set.\n",
    "*   **Interview Question:** \"Can you have a set of lists? Why or why not?\"\n",
    "    *   *Answer:* No, because lists are mutable and therefore not hashable. Set elements must be immutable.\n",
    "*   **Interview Question:** \"What is the time complexity for checking if an element is in a set?\"\n",
    "    *   *Answer:* Average time complexity is O(1)."
   ]
  },
  {
   "cell_type": "markdown",
   "metadata": {},
   "source": [
    "## Advanced Topic: `frozenset`\n",
    "\n",
    "Python also provides `frozenset`, which is an **immutable** version of a set. Once created, a `frozenset` cannot be changed (no adding or removing elements).\n",
    "\n",
    "**Why use `frozenset`?**\n",
    "*   Because they are immutable and hashable, `frozenset` objects *can* be used as elements in other sets or as keys in dictionaries.\n",
    "*   Useful for representing fixed collections of unique items."
   ]
  },
  {
   "cell_type": "code",
   "execution_count": 6,
   "metadata": {},
   "outputs": [
    {
     "name": "stdout",
     "output_type": "stream",
     "text": [
      "Frozenset: frozenset({'read', 'execute'})\n",
      "Type: <class 'frozenset'>\n",
      "\n",
      "Union of frozensets: frozenset({'read', 'write', 'execute'}) (Type: <class 'frozenset'>)\n",
      "Intersection of frozensets: frozenset({'read'}) (Type: <class 'frozenset'>)\n",
      "\n"
     ]
    },
    {
     "ename": "NameError",
     "evalue": "name 'Dict' is not defined",
     "output_type": "error",
     "traceback": [
      "\u001b[31m---------------------------------------------------------------------------\u001b[39m",
      "\u001b[31mNameError\u001b[39m                                 Traceback (most recent call last)",
      "\u001b[36mCell\u001b[39m\u001b[36m \u001b[39m\u001b[32mIn[6]\u001b[39m\u001b[32m, line 17\u001b[39m\n\u001b[32m     14\u001b[39m \u001b[38;5;28mprint\u001b[39m(\u001b[33mf\u001b[39m\u001b[33m\"\u001b[39m\u001b[33mIntersection of frozensets: \u001b[39m\u001b[38;5;132;01m{\u001b[39;00mintersection_frozen\u001b[38;5;132;01m}\u001b[39;00m\u001b[33m (Type: \u001b[39m\u001b[38;5;132;01m{\u001b[39;00m\u001b[38;5;28mtype\u001b[39m(intersection_frozen)\u001b[38;5;132;01m}\u001b[39;00m\u001b[33m)\u001b[39m\u001b[38;5;130;01m\\n\u001b[39;00m\u001b[33m\"\u001b[39m)\n\u001b[32m     16\u001b[39m \u001b[38;5;66;03m# Using frozenset as a dictionary key\u001b[39;00m\n\u001b[32m---> \u001b[39m\u001b[32m17\u001b[39m permission_groups: \u001b[43mDict\u001b[49m[FrozenSet[\u001b[38;5;28mstr\u001b[39m], \u001b[38;5;28mstr\u001b[39m] = {\n\u001b[32m     18\u001b[39m     \u001b[38;5;28mfrozenset\u001b[39m([\u001b[33m\"\u001b[39m\u001b[33mread\u001b[39m\u001b[33m\"\u001b[39m]): \u001b[33m\"\u001b[39m\u001b[33mGuest Access\u001b[39m\u001b[33m\"\u001b[39m,\n\u001b[32m     19\u001b[39m     \u001b[38;5;28mfrozenset\u001b[39m([\u001b[33m\"\u001b[39m\u001b[33mread\u001b[39m\u001b[33m\"\u001b[39m, \u001b[33m\"\u001b[39m\u001b[33mwrite\u001b[39m\u001b[33m\"\u001b[39m]): \u001b[33m\"\u001b[39m\u001b[33mEditor Access\u001b[39m\u001b[33m\"\u001b[39m,\n\u001b[32m     20\u001b[39m     frozen_perms: \u001b[33m\"\u001b[39m\u001b[33mExecute Access\u001b[39m\u001b[33m\"\u001b[39m \u001b[38;5;66;03m# Using the one created earlier\u001b[39;00m\n\u001b[32m     21\u001b[39m }\n\u001b[32m     22\u001b[39m \u001b[38;5;28mprint\u001b[39m(\u001b[33mf\u001b[39m\u001b[33m\"\u001b[39m\u001b[33mDictionary with frozenset keys: \u001b[39m\u001b[38;5;132;01m{\u001b[39;00mpermission_groups\u001b[38;5;132;01m}\u001b[39;00m\u001b[33m\"\u001b[39m)\n\u001b[32m     23\u001b[39m \u001b[38;5;28mprint\u001b[39m(\u001b[33mf\u001b[39m\u001b[33m\"\u001b[39m\u001b[33mAccessing via frozenset key: \u001b[39m\u001b[38;5;132;01m{\u001b[39;00mpermission_groups[\u001b[38;5;28mfrozenset\u001b[39m([\u001b[33m'\u001b[39m\u001b[33mread\u001b[39m\u001b[33m'\u001b[39m,\u001b[38;5;250m \u001b[39m\u001b[33m'\u001b[39m\u001b[33mwrite\u001b[39m\u001b[33m'\u001b[39m])]\u001b[38;5;132;01m}\u001b[39;00m\u001b[33m\"\u001b[39m)\n",
      "\u001b[31mNameError\u001b[39m: name 'Dict' is not defined"
     ]
    }
   ],
   "source": [
    "# Create a frozenset\n",
    "frozen_perms: FrozenSet[str] = frozenset([\"read\", \"execute\", \"read\"])\n",
    "print(f\"Frozenset: {frozen_perms}\")\n",
    "print(f\"Type: {type(frozen_perms)}\\n\")\n",
    "\n",
    "# Methods like .add(), .remove(), .update(), .pop() etc. DO NOT EXIST\n",
    "# try: frozen_perms.add(\"write\") except AttributeError as e: print(e)\n",
    "\n",
    "# Mathematical operations still work (return new frozensets or sets)\n",
    "other_frozen = frozenset([\"read\", \"write\"])\n",
    "union_frozen = frozen_perms.union(other_frozen)\n",
    "intersection_frozen = frozen_perms.intersection(other_frozen)\n",
    "print(f\"Union of frozensets: {union_frozen} (Type: {type(union_frozen)})\")\n",
    "print(f\"Intersection of frozensets: {intersection_frozen} (Type: {type(intersection_frozen)})\\n\")\n",
    "\n",
    "# Using frozenset as a dictionary key\n",
    "permission_groups: Dict[FrozenSet[str], str] = {\n",
    "    frozenset([\"read\"]): \"Guest Access\",\n",
    "    frozenset([\"read\", \"write\"]): \"Editor Access\",\n",
    "    frozen_perms: \"Execute Access\" # Using the one created earlier\n",
    "}\n",
    "print(f\"Dictionary with frozenset keys: {permission_groups}\")\n",
    "print(f\"Accessing via frozenset key: {permission_groups[frozenset(['read', 'write'])]}\")"
   ]
  },
  {
   "cell_type": "markdown",
   "metadata": {},
   "source": [
    "## 6. Challenge: Finding Common and Unique Elements\n",
    "\n",
    "You have two lists representing features supported by two different product versions.\n",
    "\n",
    "1.  Write a function `compare_features` that takes two lists of features (strings) as input.\n",
    "2.  Convert these lists into sets to easily manage uniqueness.\n",
    "3.  The function should determine and return three things:\n",
    "    *   A set of features common to both versions (intersection).\n",
    "    *   A set of features unique to the first version (difference).\n",
    "    *   A set of features unique to the second version (difference).\n",
    "4.  Return these three sets, perhaps as a tuple."
   ]
  },
  {
   "cell_type": "code",
   "execution_count": null,
   "metadata": {},
   "outputs": [],
   "source": [
    "from typing import List, Set, Tuple\n",
    "\n",
    "FeatureSet = Set[str]\n",
    "ComparisonResult = Tuple[FeatureSet, FeatureSet, FeatureSet]\n",
    "\n",
    "def compare_features(version1_features: List[str], version2_features: List[str]) -> ComparisonResult:\n",
    "    \"\"\"Compares feature lists from two versions.\n",
    "\n",
    "    Args:\n",
    "        version1_features: List of feature names for version 1.\n",
    "        version2_features: List of feature names for version 2.\n",
    "\n",
    "    Returns:\n",
    "        A tuple containing:\n",
    "        - Set of common features.\n",
    "        - Set of features unique to version 1.\n",
    "        - Set of features unique to version 2.\n",
    "    \"\"\"\n",
    "    set_v1: FeatureSet = set(version1_features)\n",
    "    set_v2: FeatureSet = set(version2_features)\n",
    "\n",
    "    common_features: FeatureSet = set_v1.intersection(set_v2) # Or set_v1 & set_v2\n",
    "    unique_to_v1: FeatureSet = set_v1.difference(set_v2)   # Or set_v1 - set_v2\n",
    "    unique_to_v2: FeatureSet = set_v2.difference(set_v1)   # Or set_v2 - set_v1\n",
    "\n",
    "    return common_features, unique_to_v1, unique_to_v2\n",
    "\n",
    "# --- Test the function ---\n",
    "features_v1 = [\"login\", \"search\", \"profile\", \"upload\", \"report\", \"search\"]\n",
    "features_v2 = [\"login\", \"search\", \"dashboard\", \"profile\", \"export\", \"login\"]\n",
    "\n",
    "common, unique1, unique2 = compare_features(features_v1, features_v2)\n",
    "\n",
    "print(f\"Version 1 Features (raw): {features_v1}\")\n",
    "print(f\"Version 2 Features (raw): {features_v2}\\n\")\n",
    "\n",
    "print(f\"Common Features: {common}\")\n",
    "print(f\"Unique to Version 1: {unique1}\")\n",
    "print(f\"Unique to Version 2: {unique2}\")"
   ]
  },
  {
   "cell_type": "markdown",
   "metadata": {},
   "source": [
    "## Quiz\n",
    "\n",
    "1.  What is the primary characteristic that distinguishes a set from a list?\n",
    "    a) Sets are ordered.\n",
    "    b) Sets allow duplicate elements.\n",
    "    c) Sets contain only unique elements.\n",
    "    d) Sets can only store strings.\n",
    "\n",
    "2.  How do you create an empty set in Python?\n",
    "    a) `my_set = {}`\n",
    "    b) `my_set = []`\n",
    "    c) `my_set = ()`\n",
    "    d) `my_set = set()`\n",
    "\n",
    "3.  Which operation finds elements present in EITHER set A OR set B (or both)?\n",
    "    a) `A.intersection(B)`\n",
    "    b) `A.union(B)`\n",
    "    c) `A.difference(B)`\n",
    "    d) `A.symmetric_difference(B)`\n",
    "\n",
    "4.  If `my_set = {1, 2, 3}` and you call `my_set.discard(4)`, what happens?\n",
    "    a) A `KeyError` is raised.\n",
    "    b) The set remains unchanged (`{1, 2, 3}`).\n",
    "    c) `4` is added to the set.\n",
    "    d) The set becomes empty.\n",
    "\n",
    "*(Answers: 1-c, 2-d, 3-b, 4-b)*"
   ]
  },
  {
   "cell_type": "markdown",
   "metadata": {},
   "source": [
    "## Conclusion\n",
    "\n",
    "Sets provide an efficient way to work with collections of **unique** items. Their strength lies in fast membership testing and the ability to perform standard mathematical set operations (union, intersection, difference). While their unordered nature and restriction to immutable elements are key considerations, sets are invaluable tools for tasks involving duplicate removal, data comparison, and existence checks in Python."
   ]
  }
 ],
 "metadata": {
  "kernelspec": {
   "display_name": "Python 3",
   "language": "python",
   "name": "python3"
  },
  "language_info": {
   "codemirror_mode": {
    "name": "ipython",
    "version": 3
   },
   "file_extension": ".py",
   "mimetype": "text/x-python",
   "name": "python",
   "nbconvert_exporter": "python",
   "pygments_lexer": "ipython3",
   "version": "3.13.2"
  }
 },
 "nbformat": 4,
 "nbformat_minor": 4
}
