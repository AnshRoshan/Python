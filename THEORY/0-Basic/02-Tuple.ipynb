{
 "cells": [
  {
   "cell_type": "markdown",
   "metadata": {},
   "source": [
    "# 🔒 Python Tuples (`tuple`): Immutable Sequences\n",
    "\n",
    "**Welcome!** This notebook explores Python's `tuple` data type. Tuples are ordered, immutable sequences, meaning once created, their contents cannot be changed. This immutability provides specific advantages and makes tuples suitable for particular use cases where data integrity and fixed structure are important.\n",
    "\n",
    "**Target Audience:** Python developers wanting to understand the characteristics and appropriate uses of tuples, contrasting them with lists.\n",
    "\n",
    "**Learning Objectives:**\n",
    "*   Understand the core characteristics of tuples (ordered, immutable, heterogeneous, allows duplicates).\n",
    "*   Learn how to create tuples, including the syntax for single-element tuples.\n",
    "*   Access tuple elements using indexing and slicing.\n",
    "*   Recognize the implications of immutability (cannot modify, fewer methods).\n",
    "*   Use common tuple methods and operations.\n",
    "*   Master tuple unpacking for assignments and iteration.\n",
    "*   Understand performance considerations compared to lists.\n",
    "*   Identify use cases where tuples are preferred over lists (e.g., dictionary keys, representing records).\n",
    "*   Recognize common pitfalls and prepare for tuple-related interview questions.\n",
    "*   Briefly explore `collections.namedtuple` and `typing.NamedTuple`."
   ]
  },
  {
   "cell_type": "markdown",
   "metadata": {},
   "source": [
    "## 1. Introduction: What is a Tuple?\n",
    "\n",
    "A **tuple** is an **ordered**, **immutable** sequence of objects. It's similar to a list in that it maintains the order of elements and allows duplicates, but its key difference is that it cannot be modified after creation.\n",
    "\n",
    "**Key Characteristics:**\n",
    "*   **Ordered:** Elements maintain their position.\n",
    "*   **Immutable:** Cannot be changed after creation (no adding, removing, or modifying elements).\n",
    "*   **Allows Duplicates:** Can contain the same item multiple times.\n",
    "*   **Heterogeneous:** Can contain elements of different data types.\n",
    "\n",
    "**Analogy: The Sealed Time Capsule**\n",
    "\n",
    "Think of a tuple like a time capsule that you've sealed:\n",
    "*   **Ordered:** You put items in a specific order before sealing it.\n",
    "*   **Immutable:** Once sealed, you cannot add new items, remove existing ones, or change the items inside.\n",
    "*   **Contents:** It can hold various types of items (letters, photos, small objects).\n",
    "\n",
    "This immutability makes tuples reliable for representing data that shouldn't change, like coordinates, database rows, or fixed configuration values."
   ]
  },
  {
   "cell_type": "markdown",
   "metadata": {},
   "source": [
    "## 2. Explain & Demonstrate: Creating Tuples\n",
    "\n",
    "Tuples are usually created with parentheses `()` containing comma-separated values. The `tuple()` constructor can also be used.\n",
    "\n",
    "**Important Syntax Note:** For a tuple with only one element, a trailing comma is **required**."
   ]
  },
  {
   "cell_type": "code",
   "execution_count": 1,
   "metadata": {},
   "outputs": [
    {
     "name": "stdout",
     "output_type": "stream",
     "text": [
      "Tuple literal: (255, 128, 0), Type: <class 'tuple'>\n",
      "Tuple literal: (10.5, -3.7)\n",
      "Heterogeneous tuple: ('Transaction A', 101, True)\n",
      "\n",
      "Implicit tuple: (40.7128, -74.006), Type: <class 'tuple'>\n",
      "\n",
      "--- Single Element Tuples --- \n",
      "Correct single tuple: ('lonely',), Type: <class 'tuple'>\n",
      "Incorrect (just str): lonely, Type: <class 'str'>\n",
      "\n",
      "Empty tuple (constructor): ()\n",
      "Tuple from list: ('x', 'y', 'z')\n",
      "Tuple from string: ('a', 'b', 'c')\n"
     ]
    }
   ],
   "source": [
    "from typing import Tuple, Any, List # For type hinting\n",
    "\n",
    "# --- Method 1: Parentheses () (Most Common) --- \n",
    "rgb_color: Tuple[int, int, int] = (255, 128, 0) # Example: Orange\n",
    "print(f\"Tuple literal: {rgb_color}, Type: {type(rgb_color)}\")\n",
    "\n",
    "point_2d: Tuple[float, float] = (10.5, -3.7)\n",
    "print(f\"Tuple literal: {point_2d}\")\n",
    "\n",
    "# Heterogeneous tuple\n",
    "record: Tuple[str, int, bool] = (\"Transaction A\", 101, True)\n",
    "print(f\"Heterogeneous tuple: {record}\\n\")\n",
    "\n",
    "# --- Method 2: Comma-Separated Values (Parentheses Optional) --- \n",
    "# Context usually makes it clear it's a tuple\n",
    "coordinates = 40.7128, -74.0060 # Implicit tuple creation\n",
    "print(f\"Implicit tuple: {coordinates}, Type: {type(coordinates)}\")\n",
    "# Often used in return statements: return val1, val2\n",
    "\n",
    "# --- Pitfall: Single-Element Tuple --- \n",
    "print(\"\\n--- Single Element Tuples --- \")\n",
    "single_correct: Tuple[str] = (\"lonely\",) # Trailing comma is ESSENTIAL\n",
    "single_incorrect = (\"lonely\")       # This is just a string!\n",
    "print(f\"Correct single tuple: {single_correct}, Type: {type(single_correct)}\")\n",
    "print(f\"Incorrect (just str): {single_incorrect}, Type: {type(single_incorrect)}\\n\")\n",
    "\n",
    "# --- Method 3: tuple() Constructor --- \n",
    "# Useful for converting other iterables\n",
    "empty_tuple: Tuple = tuple()\n",
    "print(f\"Empty tuple (constructor): {empty_tuple}\")\n",
    "\n",
    "list_to_convert: List[str] = ['x', 'y', 'z']\n",
    "tuple_from_list: Tuple[str, ...] = tuple(list_to_convert)\n",
    "print(f\"Tuple from list: {tuple_from_list}\")\n",
    "\n",
    "tuple_from_string: Tuple[str, ...] = tuple(\"abc\")\n",
    "print(f\"Tuple from string: {tuple_from_string}\")"
   ]
  },
  {
   "cell_type": "markdown",
   "metadata": {},
   "source": [
    "## 3. Explain & Demonstrate: Accessing Elements\n",
    "\n",
    "Similar to lists, elements are accessed via zero-based indexing `[]` and slicing `[start:stop:step]`."
   ]
  },
  {
   "cell_type": "code",
   "execution_count": 2,
   "metadata": {},
   "outputs": [
    {
     "name": "stdout",
     "output_type": "stream",
     "text": [
      "Year (index 0): 2024\n",
      "Day (index -1): 15\n",
      "\n",
      "Slice [1:]: (3, 15), Type: <class 'tuple'>\n",
      "Slice [::2]: (2024, 15)\n",
      "\n",
      "Caught expected error: tuple index out of range\n"
     ]
    }
   ],
   "source": [
    "date_info: Tuple[int, int, int] = (2024, 3, 15) # Year, Month, Day\n",
    "\n",
    "# --- Indexing --- \n",
    "year = date_info[0]\n",
    "day = date_info[-1]\n",
    "print(f\"Year (index 0): {year}\")\n",
    "print(f\"Day (index -1): {day}\\n\")\n",
    "\n",
    "# --- Slicing --- \n",
    "# Slicing a tuple returns a NEW tuple\n",
    "month_day = date_info[1:] # From index 1 to the end\n",
    "print(f\"Slice [1:]: {month_day}, Type: {type(month_day)}\")\n",
    "\n",
    "year_day = date_info[::2] # Every other element\n",
    "print(f\"Slice [::2]: {year_day}\")\n",
    "\n",
    "# --- IndexError --- \n",
    "try:\n",
    "    invalid = date_info[5]\n",
    "except IndexError as e:\n",
    "    print(f\"\\nCaught expected error: {e}\")"
   ]
  },
  {
   "cell_type": "markdown",
   "metadata": {},
   "source": [
    "## 4. Explain & Demonstrate: Immutability\n",
    "\n",
    "This is the core difference from lists. Once a tuple is created, you **cannot** change its contents.\n",
    "*   Cannot change existing elements.\n",
    "*   Cannot add new elements.\n",
    "*   Cannot remove elements."
   ]
  },
  {
   "cell_type": "code",
   "execution_count": 3,
   "metadata": {},
   "outputs": [
    {
     "name": "stdout",
     "output_type": "stream",
     "text": [
      "Original tuple: (3.14159, 2.71828)\n",
      "\n",
      "Caught TypeError on item assignment: 'tuple' object does not support item assignment\n",
      "Caught AttributeError on append: 'tuple' object has no attribute 'append'\n",
      "Caught TypeError on del item: 'tuple' object doesn't support item deletion\n",
      "\n",
      "Original tuple (unchanged): (3.14159, 2.71828), ID: 138251237267648\n",
      "New tuple (concatenated): (3.14159, 2.71828, 1.618), ID: 138251236013568\n"
     ]
    }
   ],
   "source": [
    "fixed_constants: Tuple[float, float] = (3.14159, 2.71828)\n",
    "print(f\"Original tuple: {fixed_constants}\")\n",
    "\n",
    "# --- Attempting Modifications (will raise TypeError) --- \n",
    "try:\n",
    "    fixed_constants[0] = 3.14 # Attempt to change element\n",
    "except TypeError as e:\n",
    "    print(f\"\\nCaught TypeError on item assignment: {e}\")\n",
    "\n",
    "# Methods like append, insert, remove, pop, clear, sort DO NOT EXIST for tuples\n",
    "try:\n",
    "    fixed_constants.append(1.618)\n",
    "except AttributeError as e:\n",
    "    print(f\"Caught AttributeError on append: {e}\")\n",
    "\n",
    "try:\n",
    "    del fixed_constants[0]\n",
    "except TypeError as e:\n",
    "    print(f\"Caught TypeError on del item: {e}\")\n",
    "\n",
    "# --- Creating a \"Modified\" Version --- \n",
    "# To get a 'modified' tuple, you create a NEW tuple based on the old one.\n",
    "new_constants = fixed_constants + (1.618,) # Concatenate with another tuple\n",
    "print(f\"\\nOriginal tuple (unchanged): {fixed_constants}, ID: {id(fixed_constants)}\")\n",
    "print(f\"New tuple (concatenated): {new_constants}, ID: {id(new_constants)}\") # Different object"
   ]
  },
  {
   "cell_type": "markdown",
   "metadata": {},
   "source": [
    "### 4.1 Caveat: Mutable Elements Inside Tuples\n",
    "\n",
    "While the tuple *itself* is immutable (you can't replace the objects it contains), if those contained objects are *mutable* (like a list), the contents of those mutable objects **can** still be changed."
   ]
  },
  {
   "cell_type": "code",
   "execution_count": 4,
   "metadata": {},
   "outputs": [
    {
     "name": "stdout",
     "output_type": "stream",
     "text": [
      "Original tuple_with_list: (10, [20, 30])\n",
      "Tuple after modifying inner list: (10, [20, 30, 40])\n",
      "Caught TypeError on assigning new list: 'tuple' object does not support item assignment\n"
     ]
    }
   ],
   "source": [
    "tuple_with_list: Tuple[int, List[int]] = (10, [20, 30])\n",
    "print(f\"Original tuple_with_list: {tuple_with_list}\")\n",
    "\n",
    "# Modify the LIST element inside the tuple\n",
    "tuple_with_list[1].append(40)\n",
    "print(f\"Tuple after modifying inner list: {tuple_with_list}\") # The inner list changed!\n",
    "\n",
    "# You still CANNOT assign a new list to that position\n",
    "try:\n",
    "    tuple_with_list[1] = [99, 88]\n",
    "except TypeError as e:\n",
    "    print(f\"Caught TypeError on assigning new list: {e}\")\n",
    "\n",
    "# Consequence: Tuples containing mutable objects are NOT hashable and cannot be dict keys or set elements."
   ]
  },
  {
   "cell_type": "markdown",
   "metadata": {},
   "source": [
    "## 5. Demonstrate: Tuple Methods & Operations\n",
    "\n",
    "Tuples have significantly fewer methods than lists due to immutability."
   ]
  },
  {
   "cell_type": "code",
   "execution_count": 5,
   "metadata": {},
   "outputs": [
    {
     "name": "stdout",
     "output_type": "stream",
     "text": [
      "Length: 7\n",
      "Count of 10: 3\n",
      "Count of 'y': 1\n",
      "Count of 99: 0\n",
      "Index of 'y': 3\n",
      "Index of 10: 0\n",
      "Index of 10 starting from index 1: 4\n",
      "Error finding index of 99: tuple.index(x): x not in tuple\n",
      "\n",
      "Concatenation: (1, 2) + (3, 4) = (1, 2, 3, 4)\n",
      "Repetition: ('A', 'B') * 3 = ('A', 'B', 'A', 'B', 'A', 'B')\n",
      "\n",
      "Tuple: (5, 1, 9, 2)\n",
      "Sum: 17\n",
      "Min: 1\n",
      "Max: 9\n",
      "sorted() result: [1, 2, 5, 9] (Type: <class 'list'>)\n",
      "\n",
      "Is 9 in (5, 1, 9, 2)? True\n",
      "Is 100 not in (5, 1, 9, 2)? True\n"
     ]
    }
   ],
   "source": [
    "data: Tuple[Any, ...] = (10, 'x', 20, 'y', 10, 'z', 10)\n",
    "\n",
    "# len() - Number of items\n",
    "print(f\"Length: {len(data)}\")\n",
    "\n",
    "# count(value) - Number of occurrences of value\n",
    "print(f\"Count of 10: {data.count(10)}\")\n",
    "print(f\"Count of 'y': {data.count('y')}\")\n",
    "print(f\"Count of 99: {data.count(99)}\") # Returns 0\n",
    "\n",
    "# index(value[, start[, end]]) - Index of first occurrence\n",
    "print(f\"Index of 'y': {data.index('y')}\")\n",
    "print(f\"Index of 10: {data.index(10)}\") # Finds the first one at index 0\n",
    "print(f\"Index of 10 starting from index 1: {data.index(10, 1)}\") # Finds the one at index 4\n",
    "try:\n",
    "    data.index(99)\n",
    "except ValueError as e:\n",
    "    print(f\"Error finding index of 99: {e}\\n\")\n",
    "\n",
    "# --- Operations that create NEW tuples --- \n",
    "# Concatenation (+)\n",
    "t1 = (1, 2)\n",
    "t2 = (3, 4)\n",
    "t3 = t1 + t2\n",
    "print(f\"Concatenation: {t1} + {t2} = {t3}\")\n",
    "\n",
    "# Repetition (*)\n",
    "t4 = ('A', 'B') * 3\n",
    "print(f\"Repetition: ('A', 'B') * 3 = {t4}\\n\")\n",
    "\n",
    "# --- Other Built-ins --- \n",
    "numeric_tuple = (5, 1, 9, 2)\n",
    "print(f\"Tuple: {numeric_tuple}\")\n",
    "print(f\"Sum: {sum(numeric_tuple)}\")\n",
    "print(f\"Min: {min(numeric_tuple)}\")\n",
    "print(f\"Max: {max(numeric_tuple)}\")\n",
    "\n",
    "# sorted() returns a new SORTED LIST (not a tuple)\n",
    "sorted_list_from_tuple = sorted(numeric_tuple)\n",
    "print(f\"sorted() result: {sorted_list_from_tuple} (Type: {type(sorted_list_from_tuple)})\\n\")\n",
    "\n",
    "# Membership testing (in / not in)\n",
    "print(f\"Is 9 in {numeric_tuple}? {9 in numeric_tuple}\")\n",
    "print(f\"Is 100 not in {numeric_tuple}? {100 not in numeric_tuple}\")"
   ]
  },
  {
   "cell_type": "markdown",
   "metadata": {},
   "source": [
    "## 6. Apply: Iteration and Unpacking\n",
    "\n",
    "Tuples are fully iterable and are frequently used with unpacking for cleaner code."
   ]
  },
  {
   "cell_type": "code",
   "execution_count": 6,
   "metadata": {},
   "outputs": [
    {
     "name": "stdout",
     "output_type": "stream",
     "text": [
      "Iterating through config settings:\n",
      "  - utf-8 (Type: <class 'str'>)\n",
      "  - True (Type: <class 'bool'>)\n",
      "  - 5000 (Type: <class 'int'>)\n",
      "\n",
      "--- Unpacking Examples ---\n",
      "Unpacked: encoding=utf-8, active=True, timeout=5000\n",
      "Function return unpacked: Code=200, Message='OK'\n",
      "Unpacking with enumerate:\n",
      "  Index 0: Content-Type\n",
      "  Index 1: Accept-Language\n",
      "  Index 2: User-Agent\n",
      "Extended unpacking:\n",
      "  First: 1\n",
      "  Second: 2\n",
      "  Remaining: [3, 4, 5, 6, 7] (Type: <class 'list'>) # Always a list!\n"
     ]
    }
   ],
   "source": [
    "# --- Iteration --- \n",
    "config_settings = (\"utf-8\", True, 5000)\n",
    "print(\"Iterating through config settings:\")\n",
    "for setting in config_settings:\n",
    "    print(f\"  - {setting} (Type: {type(setting)})\")\n",
    "\n",
    "# --- Unpacking --- \n",
    "print(\"\\n--- Unpacking Examples ---\")\n",
    "# Simple unpacking\n",
    "encoding, active, timeout = config_settings\n",
    "print(f\"Unpacked: encoding={encoding}, active={active}, timeout={timeout}\")\n",
    "\n",
    "# Returning multiple values from a function (implicitly a tuple)\n",
    "def get_status() -> Tuple[int, str]:\n",
    "    # Simulate getting status code and message\n",
    "    return 200, \"OK\"\n",
    "\n",
    "status_code, status_message = get_status() # Unpack the returned tuple\n",
    "print(f\"Function return unpacked: Code={status_code}, Message='{status_message}'\")\n",
    "\n",
    "# Unpacking in loops (e.g., with enumerate or zip)\n",
    "headers = ('Content-Type', 'Accept-Language', 'User-Agent')\n",
    "print(\"Unpacking with enumerate:\")\n",
    "for index, header_name in enumerate(headers):\n",
    "    print(f\"  Index {index}: {header_name}\")\n",
    "\n",
    "# Extended Unpacking (*)\n",
    "data_stream = (1, 2, 3, 4, 5, 6, 7)\n",
    "first, second, *remaining_data = data_stream\n",
    "print(\"Extended unpacking:\")\n",
    "print(f\"  First: {first}\")\n",
    "print(f\"  Second: {second}\")\n",
    "print(f\"  Remaining: {remaining_data} (Type: {type(remaining_data)}) # Always a list!\")"
   ]
  },
  {
   "cell_type": "markdown",
   "metadata": {},
   "source": [
    "## 7. Performance & Memory\n",
    "\n",
    "*   **Memory Efficiency:** Tuples generally occupy less memory than lists containing the same elements, as they don't need to allocate extra space for potential future growth.\n",
    "*   **Performance:** Accessing elements and iterating over tuples can be slightly faster than lists due to their fixed size and immutability, allowing for certain optimizations by the interpreter. Creation time is also often faster.\n",
    "\n",
    "However, these differences are usually small and often not the primary reason for choosing tuples over lists. **Immutability and intended use case are typically more important factors.**"
   ]
  },
  {
   "cell_type": "markdown",
   "metadata": {},
   "source": [
    "## 8. Best Practices & Enterprise Context\n",
    "\n",
    "*   **Use for Immutable Sequences:** Choose tuples when you need an ordered sequence that should not be changed after creation. This clearly signals intent to other developers and prevents accidental modification.\n",
    "*   **Representing Records/Structures:** Use tuples for small, fixed structures where the position of each element has intrinsic meaning (e.g., coordinates, RGB values, database rows). Consider `namedtuple` or `dataclasses` for improved readability in these cases.\n",
    "*   **Dictionary Keys:** Tuples (containing only immutable elements) are the standard way to create compound keys for dictionaries.\n",
    "*   **Function Arguments/Returns:** Use tuples for returning multiple related values from functions. Consider accepting tuples as arguments when a fixed collection is expected.\n",
    "*   **Protecting Data:** If you pass a sequence to a function or store it and want to ensure it isn't modified, convert it to a tuple first.\n",
    "*   **Performance (Minor):** While tuples can be slightly faster/smaller, don't choose them over lists *solely* for micro-optimizations unless profiling shows a significant bottleneck."
   ]
  },
  {
   "cell_type": "markdown",
   "metadata": {},
   "source": [
    "## 9. Pitfalls and Common Interview Questions\n",
    "\n",
    "*   **Pitfall: Single-Element Tuple Syntax:** Forgetting the trailing comma: `(item)` vs `(item,)`.\n",
    "*   **Pitfall: Trying to Modify:** Attempting `.append()`, item assignment (`t[0]=x`), etc., results in `TypeError` or `AttributeError`.\n",
    "*   **Pitfall: Mutable Elements Inside:** Modifying mutable items *within* a tuple *is* possible and can lead to unexpected behavior if not understood. Such tuples are not hashable.\n",
    "\n",
    "*   **Interview Question:** \"What is the main difference between a list and a tuple?\"\n",
    "    *   *Answer:* Mutability. Lists are mutable, tuples are immutable.\n",
    "*   **Interview Question:** \"Give reasons why you would choose a tuple over a list.\"\n",
    "    *   *Answer:* Immutability (data integrity, safety), use as dictionary keys/set elements, representing fixed records, potential (minor) performance gains.\n",
    "*   **Interview Question:** \"How do you create a tuple with only one element?\"\n",
    "    *   *Answer:* Add a trailing comma: `(value,)`.\n",
    "*   **Interview Question:** \"Can you change an element inside a tuple if that element is a list?\"\n",
    "    *   *Answer:* Yes, you can modify the list object itself, but you cannot replace the list object within the tuple with a different list object.\n",
    "*   **Interview Question:** \"What is tuple unpacking?\"\n",
    "    *   *Answer:* Assigning the elements of a tuple to individual variables based on position."
   ]
  },
  {
   "cell_type": "markdown",
   "metadata": {},
   "source": [
    "## 10. Advanced: `namedtuple` and `typing.NamedTuple`\n",
    "\n",
    "When the position of elements in a tuple has specific meaning, accessing them by index (`point[0]`, `point[1]`) can be less readable than accessing by name (`point.x`, `point.y`).\n",
    "\n",
    "*   **`collections.namedtuple`:** A factory function that creates tuple subclasses with named fields.\n",
    "*   **`typing.NamedTuple`:** (Python 3.6+) A type-hinting based way to create named tuple types, often preferred in modern code for better static analysis and type checking."
   ]
  },
  {
   "cell_type": "code",
   "execution_count": 7,
   "metadata": {},
   "outputs": [
    {
     "name": "stdout",
     "output_type": "stream",
     "text": [
      "--- collections.namedtuple --- \n",
      "PointOld: PointOld(x=11, y=22)\n",
      "Access by name: p_old.x = 11\n",
      "Access by index: p_old[0] = 11\n",
      "Is instance of tuple? True\n",
      "\n",
      "--- typing.NamedTuple --- \n",
      "PointNew: PointNew(x=10.5, y=-3.2, label='Default')\n",
      "Access by name: p_new.x = 10.5\n",
      "Access by index: p_new[1] = -3.2\n",
      "Labeled PointNew: PointNew(x=5.0, y=5.0, label='Center')\n",
      "Default label: Default\n",
      "Is instance of tuple? True\n"
     ]
    }
   ],
   "source": [
    "from collections import namedtuple\n",
    "from typing import NamedTuple # Preferred in modern Python\n",
    "\n",
    "# --- collections.namedtuple --- \n",
    "PointOld = namedtuple(\"PointOld\", [\"x\", \"y\"]) # Type name, field names\n",
    "p_old = PointOld(11, 22)\n",
    "print(\"--- collections.namedtuple --- \")\n",
    "print(f\"PointOld: {p_old}\")\n",
    "print(f\"Access by name: p_old.x = {p_old.x}\")\n",
    "print(f\"Access by index: p_old[0] = {p_old[0]}\")\n",
    "print(f\"Is instance of tuple? {isinstance(p_old, tuple)}\\n\")\n",
    "\n",
    "# --- typing.NamedTuple --- \n",
    "class PointNew(NamedTuple):\n",
    "    \"\"\"Represents a point with x and y coordinates.\"\"\" # Docstring support\n",
    "    x: float # Type hints!\n",
    "    y: float\n",
    "    label: str = \"Default\" # Default values possible\n",
    "\n",
    "p_new = PointNew(10.5, -3.2)\n",
    "p_new_labeled = PointNew(5.0, 5.0, label=\"Center\")\n",
    "\n",
    "print(\"--- typing.NamedTuple --- \")\n",
    "print(f\"PointNew: {p_new}\")\n",
    "print(f\"Access by name: p_new.x = {p_new.x}\")\n",
    "print(f\"Access by index: p_new[1] = {p_new[1]}\")\n",
    "print(f\"Labeled PointNew: {p_new_labeled}\")\n",
    "print(f\"Default label: {p_new.label}\")\n",
    "print(f\"Is instance of tuple? {isinstance(p_new, tuple)}\")\n",
    "\n",
    "# Both are still immutable\n",
    "# p_new.x = 100 # Raises AttributeError"
   ]
  },
  {
   "cell_type": "markdown",
   "metadata": {},
   "source": [
    "**Modern Practice:** Prefer `typing.NamedTuple` over `collections.namedtuple` for its integration with type hinting and standard class syntax."
   ]
  },
  {
   "cell_type": "markdown",
   "metadata": {},
   "source": [
    "## 11. Challenge: Student Records\n",
    "\n",
    "You are given student data as a list of lists: `[[name, id, score], ...]`. \n",
    "\n",
    "1.  Write a function `convert_to_tuples` that takes this list of lists and converts each inner list into a tuple.\n",
    "2.  Write another function `filter_passing_students` that takes the list of student tuples and returns a new list containing tuples only for students with a `score` >= 60.\n",
    "3.  Demonstrate using tuple unpacking to print the name and score of the passing students."
   ]
  },
  {
   "cell_type": "code",
   "execution_count": 8,
   "metadata": {},
   "outputs": [
    {
     "name": "stdout",
     "output_type": "stream",
     "text": [
      "Warning: Skipping invalid student data length: ['Grace', 107]\n",
      "--- Converted Student Tuples ---\n",
      "('Alice', 101, 88.5)\n",
      "('Bob', 102, 55.0)\n",
      "('Charlie', 103, 92.0)\n",
      "('David', 104, 59.9)\n",
      "('Eve', 105, 75.0)\n",
      "('Frank', 106, 65.0)\n",
      "\n",
      "--- Passing Students ---\n",
      "Name: Alice, Score: 88.5\n",
      "Name: Charlie, Score: 92.0\n",
      "Name: Eve, Score: 75.0\n",
      "Name: Frank, Score: 65.0\n"
     ]
    }
   ],
   "source": [
    "# --- Solution Space for Challenge ---\n",
    "from typing import List, Tuple, Any\n",
    "\n",
    "StudentDataList = List[List[Any]]\n",
    "StudentDataTuple = Tuple[str, int, float]\n",
    "\n",
    "def convert_to_tuples(data: StudentDataList) -> List[StudentDataTuple]:\n",
    "    \"\"\"Converts a list of lists into a list of tuples.\"\"\"\n",
    "    # Could use list comprehension: [tuple(student) for student in data]\n",
    "    student_tuples = []\n",
    "    for student_list in data:\n",
    "        if len(student_list) == 3: # Basic validation\n",
    "            try:\n",
    "                 # Attempt conversion to expected types for robustness\n",
    "                name = str(student_list[0])\n",
    "                student_id = int(student_list[1])\n",
    "                score = float(student_list[2])\n",
    "                student_tuples.append((name, student_id, score)) \n",
    "            except (ValueError, TypeError):\n",
    "                 print(f\"Warning: Skipping invalid student data format: {student_list}\")\n",
    "        else:\n",
    "            print(f\"Warning: Skipping invalid student data length: {student_list}\")\n",
    "            \n",
    "    return student_tuples\n",
    "\n",
    "def filter_passing_students(students: List[StudentDataTuple], passing_grade: float = 60.0) -> List[StudentDataTuple]:\n",
    "    \"\"\"Filters a list of student tuples based on score.\"\"\"\n",
    "    passing_students = []\n",
    "    for student_tuple in students:\n",
    "        # Unpack for clarity (optional, could access by index)\n",
    "        name, student_id, score = student_tuple \n",
    "        if score >= passing_grade:\n",
    "            passing_students.append(student_tuple)\n",
    "            \n",
    "    # Alternative using list comprehension:\n",
    "    # passing_students = [s for s in students if s[2] >= passing_grade]\n",
    "    return passing_students\n",
    "\n",
    "# --- Test Data --- \n",
    "raw_student_data: StudentDataList = [\n",
    "    [\"Alice\", 101, 88.5],\n",
    "    [\"Bob\", 102, 55.0],\n",
    "    [\"Charlie\", 103, 92.0],\n",
    "    [\"David\", 104, 59.9],\n",
    "    [\"Eve\", 105, 75.0],\n",
    "    [\"Frank\", 106, \"65\"], # Test type conversion\n",
    "    [\"Grace\", 107] # Test invalid length\n",
    "]\n",
    "\n",
    "# --- Execute --- \n",
    "student_tuples = convert_to_tuples(raw_student_data)\n",
    "print(\"--- Converted Student Tuples ---\")\n",
    "for s in student_tuples:\n",
    "    print(s)\n",
    "\n",
    "passing = filter_passing_students(student_tuples)\n",
    "print(\"\\n--- Passing Students ---\")\n",
    "for student in passing:\n",
    "    name, _, score = student # Unpack, ignore id with _\n",
    "    print(f\"Name: {name}, Score: {score}\")"
   ]
  },
  {
   "cell_type": "markdown",
   "metadata": {},
   "source": [
    "## 12. Conclusion\n",
    "\n",
    "Tuples provide an essential immutable sequence type in Python. Their fixed nature makes them ideal for representing data records, ensuring data integrity, serving as dictionary keys, and returning multiple values from functions. While lists offer flexibility through mutability, tuples provide safety, predictability, and potential minor performance benefits for collections that should not change.\n",
    "\n",
    "Understanding the distinct characteristics and use cases of both lists and tuples is fundamental to writing effective and Pythonic code."
   ]
  }
 ],
 "metadata": {
  "kernelspec": {
   "display_name": "Python 3",
   "language": "python",
   "name": "python3"
  },
  "language_info": {
   "codemirror_mode": {
    "name": "ipython",
    "version": 3
   },
   "file_extension": ".py",
   "mimetype": "text/x-python",
   "name": "python",
   "nbconvert_exporter": "python",
   "pygments_lexer": "ipython3",
   "version": "3.13.2"
  }
 },
 "nbformat": 4,
 "nbformat_minor": 5
}
