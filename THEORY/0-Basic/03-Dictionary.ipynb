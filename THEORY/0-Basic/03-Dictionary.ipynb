{
 "cells": [
  {
   "cell_type": "markdown",
   "metadata": {},
   "source": [
    "# Python Fundamentals: Dictionaries - Key-Value Stores"
   ]
  },
  {
   "cell_type": "markdown",
   "metadata": {},
   "source": [
    "## Introduction\n",
    "\n",
    "A **dictionary** (`dict`) is a mutable, unordered (in Python < 3.7) or ordered (in Python >= 3.7) collection of key-value pairs. Each key must be unique and immutable (hashable), mapping to a corresponding value. Dictionaries are incredibly versatile for storing and retrieving data based on meaningful keys.\n",
    "\n",
    "**Key Characteristics:**\n",
    "*   **Key-Value Pairs:** Stores data as associations between keys and values.\n",
    "*   **Unique Keys:** Each key within a dictionary must be unique.\n",
    "*   **Immutable Keys:** Keys must be of an immutable type (e.g., string, number, tuple containing only immutables).\n",
    "*   **Mutable Values:** Values can be of any data type and can be changed.\n",
    "*   **Mutable Dictionary:** Dictionaries themselves can be modified (add/remove/update pairs).\n",
    "*   **Ordered (Python 3.7+):** Items retain their insertion order. *Prior to 3.7, dictionaries were unordered.*\n",
    "*   **Dynamic:** Can grow or shrink as needed."
   ]
  },
  {
   "cell_type": "markdown",
   "metadata": {},
   "source": [
    "## Real-World Analogies & Use Cases\n",
    "\n",
    "*   **Actual Dictionary:** Words (keys) map to their definitions (values).\n",
    "*   **Phone Book:** Names (keys) map to phone numbers (values).\n",
    "*   **Configuration Files:** Setting names (keys) map to their configured values (values).\n",
    "*   **JSON Data:** JSON objects directly map to Python dictionaries.\n",
    "*   **Caching:** Storing results of expensive computations (key = input parameters, value = result).\n",
    "*   **Representing Objects:** Storing attributes of an object (e.g., `{'name': 'Laptop', 'price': 1200, 'in_stock': True}`).\n",
    "*   **Counting/Grouping:** Counting item frequencies (key = item, value = count)."
   ]
  },
  {
   "cell_type": "markdown",
   "metadata": {},
   "source": [
    "## 1. Explain & Demonstrate: Creating Dictionaries\n",
    "\n",
    "Dictionaries are created using curly braces `{}` with `key: value` pairs, or using the `dict()` constructor."
   ]
  },
  {
   "cell_type": "code",
   "execution_count": 1,
   "metadata": {},
   "outputs": [
    {
     "name": "stdout",
     "output_type": "stream",
     "text": [
      "Literal syntax: {'username': 'dev_user', 'email': 'dev@example.com', 'level': 5, 'is_active': True}\n",
      "Type: <class 'dict'>\n",
      "\n",
      "Constructor syntax: {'host': 'api.example.com', 'port': 443, 'timeout': 30}\n",
      "Type: <class 'dict'>\n",
      "\n",
      "From tuples: {'a': 1, 'b': 2}\n",
      "\n",
      "Empty dictionaries: {}, {}\n"
     ]
    }
   ],
   "source": [
    "from typing import Dict, Any, Tuple\n",
    "\n",
    "# Using curly braces (literal syntax - common)\n",
    "user_profile: Dict[str, Any] = {\n",
    "    \"username\": \"dev_user\",\n",
    "    \"email\": \"dev@example.com\",\n",
    "    \"level\": 5,\n",
    "    \"is_active\": True\n",
    "}\n",
    "print(f\"Literal syntax: {user_profile}\")\n",
    "print(f\"Type: {type(user_profile)}\\n\")\n",
    "\n",
    "# Using the dict() constructor (less common for literals, useful for conversions)\n",
    "server_config: Dict[str, Any] = dict(\n",
    "    host=\"api.example.com\",\n",
    "    port=443,\n",
    "    timeout=30\n",
    ")\n",
    "print(f\"Constructor syntax: {server_config}\")\n",
    "print(f\"Type: {type(server_config)}\\n\")\n",
    "\n",
    "# Creating from list of key-value tuples\n",
    "initial_data = [('a', 1), ('b', 2)]\n",
    "dict_from_tuples: Dict[str, int] = dict(initial_data)\n",
    "print(f\"From tuples: {dict_from_tuples}\\n\")\n",
    "\n",
    "# Empty dictionary\n",
    "empty_dict: Dict = {}\n",
    "empty_dict_constructor: Dict = dict()\n",
    "print(f\"Empty dictionaries: {empty_dict}, {empty_dict_constructor}\")"
   ]
  },
  {
   "cell_type": "markdown",
   "metadata": {},
   "source": [
    "## 2. Explain & Demonstrate: Accessing Values\n",
    "\n",
    "Values are accessed using their corresponding keys."
   ]
  },
  {
   "cell_type": "code",
   "execution_count": 2,
   "metadata": {},
   "outputs": [
    {
     "name": "stdout",
     "output_type": "stream",
     "text": [
      "Access with []: Theme = dark\n",
      "Error accessing non-existent key with []: 'fontFamily'\n",
      "\n",
      "Access with .get(): Font Size = 12\n",
      "Access with .get() (key missing): Font Family = None\n",
      "Access with .get() (defaulted): Font Family = Monospace\n"
     ]
    }
   ],
   "source": [
    "settings: Dict[str, Any] = {\"theme\": \"dark\", \"fontSize\": 12, \"autosave\": True}\n",
    "\n",
    "# --- Using square brackets [] ---\n",
    "# Retrieves the value associated with the key.\n",
    "# Raises a KeyError if the key does not exist.\n",
    "current_theme: str = settings[\"theme\"]\n",
    "print(f\"Access with []: Theme = {current_theme}\")\n",
    "\n",
    "try:\n",
    "    font_family = settings[\"fontFamily\"] # This key doesn't exist\n",
    "except KeyError as e:\n",
    "    print(f\"Error accessing non-existent key with []: {e}\\n\")\n",
    "\n",
    "# --- Using the .get() method ---\n",
    "# Retrieves the value, but returns None (or a specified default) if the key is not found.\n",
    "# This avoids KeyErrors and is often safer.\n",
    "font_size: int | None = settings.get(\"fontSize\")\n",
    "print(f\"Access with .get(): Font Size = {font_size}\")\n",
    "\n",
    "font_family: str | None = settings.get(\"fontFamily\") # Key doesn't exist\n",
    "print(f\"Access with .get() (key missing): Font Family = {font_family}\")\n",
    "\n",
    "# .get() with a default value\n",
    "default_font = \"Monospace\"\n",
    "font_family_defaulted: str = settings.get(\"fontFamily\", default_font)\n",
    "print(f\"Access with .get() (defaulted): Font Family = {font_family_defaulted}\")"
   ]
  },
  {
   "cell_type": "markdown",
   "metadata": {},
   "source": [
    "## 3. Explain & Demonstrate: Modifying Dictionaries\n",
    "\n",
    "Dictionaries are mutable, allowing addition, updating, and removal of key-value pairs."
   ]
  },
  {
   "cell_type": "code",
   "execution_count": 3,
   "metadata": {},
   "outputs": [
    {
     "name": "stdout",
     "output_type": "stream",
     "text": [
      "Original: {'id': 'P101', 'name': 'Laptop', 'price': 1200.0}\n",
      "\n",
      "After adding 'in_stock': {'id': 'P101', 'name': 'Laptop', 'price': 1200.0, 'in_stock': True}\n",
      "After updating 'price': {'id': 'P101', 'name': 'Laptop', 'price': 1150.5, 'in_stock': True}\n",
      "\n",
      "After del 'in_stock': {'id': 'P101', 'name': 'Laptop', 'price': 1150.5}\n",
      "After pop 'price' (removed value: 1150.5): {'id': 'P101', 'name': 'Laptop'}\n",
      "After pop 'color' (default None): {'id': 'P101', 'name': 'Laptop'}, Removed: None\n",
      "\n",
      "Before popitem(): {'id': 'P101', 'name': 'Laptop', 'temp': 1}\n",
      "After popitem() (removed pair: ('temp', 1)): {'id': 'P101', 'name': 'Laptop'}\n",
      "\n",
      "After clear(): {}\n"
     ]
    }
   ],
   "source": [
    "product_info: Dict[str, Any] = {\"id\": \"P101\", \"name\": \"Laptop\", \"price\": 1200.00}\n",
    "print(f\"Original: {product_info}\\n\")\n",
    "\n",
    "# --- Adding a new key-value pair ---\n",
    "product_info[\"in_stock\"] = True\n",
    "print(f\"After adding 'in_stock': {product_info}\")\n",
    "\n",
    "# --- Updating an existing value ---\n",
    "product_info[\"price\"] = 1150.50 # Price drop\n",
    "print(f\"After updating 'price': {product_info}\\n\")\n",
    "\n",
    "# --- Removing key-value pairs ---\n",
    "\n",
    "# Using del statement (raises KeyError if key doesn't exist)\n",
    "del product_info[\"in_stock\"]\n",
    "print(f\"After del 'in_stock': {product_info}\")\n",
    "# try: del product_info[\"color\"] except KeyError as e: print(e)\n",
    "\n",
    "# Using .pop(key[, default])\n",
    "# Removes the key and returns its value.\n",
    "# Raises KeyError if key doesn't exist *and* no default is provided.\n",
    "removed_price: float = product_info.pop(\"price\")\n",
    "print(f\"After pop 'price' (removed value: {removed_price}): {product_info}\")\n",
    "\n",
    "# Pop with default avoids KeyError\n",
    "removed_color = product_info.pop(\"color\", None) # Key 'color' doesn't exist\n",
    "print(f\"After pop 'color' (default None): {product_info}, Removed: {removed_color}\\n\")\n",
    "\n",
    "# Using .popitem()\n",
    "# Removes and returns the *last* inserted (key, value) pair (LIFO order in Python 3.7+).\n",
    "# Raises KeyError if the dictionary is empty.\n",
    "product_info['temp'] = 1 # Add another item\n",
    "print(f\"Before popitem(): {product_info}\")\n",
    "last_item: Tuple[str, Any] = product_info.popitem()\n",
    "print(f\"After popitem() (removed pair: {last_item}): {product_info}\\n\")\n",
    "\n",
    "# Using .clear()\n",
    "# Removes all items from the dictionary.\n",
    "product_info.clear()\n",
    "print(f\"After clear(): {product_info}\")"
   ]
  },
  {
   "cell_type": "markdown",
   "metadata": {},
   "source": [
    "## 4. Demonstrate: Dictionary Methods & Operations\n",
    "\n",
    "Common operations involve checking for keys, getting views of keys/values/items, and merging."
   ]
  },
  {
   "cell_type": "code",
   "execution_count": 4,
   "metadata": {},
   "outputs": [
    {
     "name": "stdout",
     "output_type": "stream",
     "text": [
      "Does inventory have 'apples'? True\n",
      "Does inventory have 'grapes'? False\n",
      "\n",
      "Keys view: dict_keys(['apples', 'bananas', 'oranges']) (Type: <class 'dict_keys'>)\n",
      "Values view: dict_values([50, 100, 75]) (Type: <class 'dict_values'>)\n",
      "Items view: dict_items([('apples', 50), ('bananas', 100), ('oranges', 75)]) (Type: <class 'dict_items'>)\n",
      "\n",
      "Adding 'pears' to inventory...\n",
      "Updated Keys view: dict_keys(['apples', 'bananas', 'oranges', 'pears'])\n",
      "Updated Items view: dict_items([('apples', 50), ('bananas', 100), ('oranges', 75), ('pears', 30)])\n",
      "\n",
      "Inventory before update: {'apples': 50, 'bananas': 100, 'oranges': 75, 'pears': 30}\n",
      "Inventory after update: {'apples': 50, 'bananas': 150, 'oranges': 75, 'pears': 30, 'grapes': 200}\n",
      "\n",
      "Original dict1: {'a': 1, 'b': 2}\n",
      "Original dict2: {'b': 3, 'c': 4}\n",
      "Merged with | operator: {'a': 1, 'b': 3, 'c': 4}\n"
     ]
    }
   ],
   "source": [
    "inventory: Dict[str, int] = {\"apples\": 50, \"bananas\": 100, \"oranges\": 75}\n",
    "\n",
    "# --- Checking for Keys (Membership) ---\n",
    "has_apples = \"apples\" in inventory\n",
    "has_grapes = \"grapes\" in inventory\n",
    "print(f\"Does inventory have 'apples'? {has_apples}\")\n",
    "print(f\"Does inventory have 'grapes'? {has_grapes}\\n\")\n",
    "\n",
    "# --- Getting Dictionary Views ---\n",
    "# These views reflect changes in the original dictionary.\n",
    "\n",
    "# .keys(): Returns a view object displaying a list of all the keys.\n",
    "all_keys = inventory.keys()\n",
    "print(f\"Keys view: {all_keys} (Type: {type(all_keys)})\")\n",
    "\n",
    "# .values(): Returns a view object displaying a list of all the values.\n",
    "all_values = inventory.values()\n",
    "print(f\"Values view: {all_values} (Type: {type(all_values)})\")\n",
    "\n",
    "# .items(): Returns a view object displaying a list of key-value tuple pairs.\n",
    "all_items = inventory.items()\n",
    "print(f\"Items view: {all_items} (Type: {type(all_items)})\\n\")\n",
    "\n",
    "# Demonstrate view reflects changes\n",
    "print(\"Adding 'pears' to inventory...\")\n",
    "inventory[\"pears\"] = 30\n",
    "print(f\"Updated Keys view: {all_keys}\")\n",
    "print(f\"Updated Items view: {all_items}\\n\")\n",
    "\n",
    "# --- Merging Dictionaries ---\n",
    "more_inventory: Dict[str, int] = {\"bananas\": 150, \"grapes\": 200} # Note overlap\n",
    "\n",
    "# .update(other_dict)\n",
    "# Modifies the original dictionary, adding key-value pairs from other_dict.\n",
    "# Existing keys are updated with values from other_dict.\n",
    "print(f\"Inventory before update: {inventory}\")\n",
    "inventory.update(more_inventory)\n",
    "print(f\"Inventory after update: {inventory}\\n\")\n",
    "\n",
    "# Merge operator | (Python 3.9+)\n",
    "# Creates a *new* dictionary by merging two dictionaries.\n",
    "# If keys overlap, the value from the right-hand dictionary is kept.\n",
    "dict1 = {'a': 1, 'b': 2}\n",
    "dict2 = {'b': 3, 'c': 4}\n",
    "merged_new = dict1 | dict2\n",
    "print(f\"Original dict1: {dict1}\")\n",
    "print(f\"Original dict2: {dict2}\")\n",
    "print(f\"Merged with | operator: {merged_new}\")"
   ]
  },
  {
   "cell_type": "markdown",
   "metadata": {},
   "source": [
    "## 5. Apply: Iteration\n",
    "\n",
    "Iterating over dictionaries is common for processing key-value data."
   ]
  },
  {
   "cell_type": "code",
   "execution_count": 5,
   "metadata": {},
   "outputs": [
    {
     "name": "stdout",
     "output_type": "stream",
     "text": [
      "Iterating over keys:\n",
      "- User: Alice, Score: 85\n",
      "- User: Bob, Score: 92\n",
      "- User: Charlie, Score: 78\n",
      "\n",
      "\n",
      "Iterating using .keys():\n",
      "- Alice\n",
      "- Bob\n",
      "- Charlie\n",
      "\n",
      "\n",
      "Iterating over values using .values():\n",
      "- Score: 85\n",
      "- Score: 92\n",
      "- Score: 78\n",
      "\n",
      "\n",
      "Iterating over items using .items():\n",
      "- User: Alice, Score: 85\n",
      "- User: Bob, Score: 92\n",
      "- User: Charlie, Score: 78\n"
     ]
    }
   ],
   "source": [
    "user_scores: Dict[str, int] = {\"Alice\": 85, \"Bob\": 92, \"Charlie\": 78}\n",
    "\n",
    "# --- Iterate over keys (default iteration behavior) ---\n",
    "print(\"Iterating over keys:\")\n",
    "for user in user_scores:\n",
    "    print(f\"- User: {user}, Score: {user_scores[user]}\") # Access value using key\n",
    "print(\"\\n\")\n",
    "\n",
    "# --- Explicitly iterate over keys using .keys() ---\n",
    "print(\"Iterating using .keys():\")\n",
    "for user in user_scores.keys():\n",
    "    print(f\"- {user}\")\n",
    "print(\"\\n\")\n",
    "\n",
    "# --- Iterate over values using .values() ---\n",
    "print(\"Iterating over values using .values():\")\n",
    "for score in user_scores.values():\n",
    "    print(f\"- Score: {score}\")\n",
    "print(\"\\n\")\n",
    "\n",
    "# --- Iterate over key-value pairs using .items() (most common) ---\n",
    "# This unpacks each tuple in the items view directly.\n",
    "print(\"Iterating over items using .items():\")\n",
    "for user, score in user_scores.items():\n",
    "    print(f\"- User: {user}, Score: {score}\")"
   ]
  },
  {
   "cell_type": "markdown",
   "metadata": {},
   "source": [
    "## Performance Considerations\n",
    "\n",
    "*   **Lookup, Insertion, Deletion:** Dictionaries provide average **O(1)** time complexity for getting, setting, and deleting items. This is achieved through hashing.\n",
    "*   **Worst Case:** In rare hash collision scenarios, these operations can degrade to O(n).\n",
    "*   **Memory:** Dictionaries can consume more memory than lists or tuples for the same number of elements due to the overhead of the hash table.\n",
    "*   **Iteration:** Iterating over a dictionary takes O(n) time, where n is the number of key-value pairs."
   ]
  },
  {
   "cell_type": "markdown",
   "metadata": {},
   "source": [
    "## Best Practices & Enterprise Context\n",
    "\n",
    "*   **Use `.get()` for Safe Access:** Prefer `my_dict.get(key, default)` over `my_dict[key]` when you're not certain if a key exists, to avoid `KeyError` exceptions and write more robust code.\n",
    "*   **Choose Meaningful Keys:** Select keys that clearly describe the data they map to.\n",
    "*   **Immutable Keys:** Remember keys *must* be hashable (strings, numbers, tuples of immutables are common). Lists or other dictionaries cannot be keys.\n",
    "*   **JSON Handling:** Dictionaries are the natural way to represent and work with JSON data in Python (`json.loads()` typically returns a dict).\n",
    "*   **Configuration Management:** Use dictionaries to load and manage application settings.\n",
    "*   **Data Structuring:** Excellent for representing structured data where items are accessed by name rather than position.\n",
    "*   **Readability:** Iterating with `.items()` is often the clearest way to work with both keys and values.\n",
    "*   **Shallow Copies:** Be aware that `dict.copy()` and `dict(other_dict)` create *shallow* copies. If values are mutable objects (like lists), modifying them in the copy will affect the original. Use `copy.deepcopy()` for a fully independent copy if needed."
   ]
  },
  {
   "cell_type": "code",
   "execution_count": 6,
   "metadata": {},
   "outputs": [
    {
     "name": "stdout",
     "output_type": "stream",
     "text": [
      "Original after ref_copy modified: {'a': 99, 'b': [10, 20]}\n",
      "IDs: original=135123890469376, ref_copy=135123890469376\n",
      "\n",
      "Original after shallow_copy modified: {'a': 1, 'b': [10, 20, 30]}\n",
      "Shallow copy: {'a': 100, 'b': [10, 20, 30]}\n",
      "IDs: original=135123890469376, shallow_copy=135123890466816\n",
      "List IDs: original[b]=135123890464320, shallow_copy[b]=135123890464320\n",
      "\n",
      "Original after deep_copy modified: {'a': 1, 'b': [10, 20]}\n",
      "Deep copy: {'a': 500, 'b': [10, 20, 40]}\n",
      "IDs: original=135123890469376, deep_copy=135123890502080\n",
      "List IDs: original[b]=135123890495168, deep_copy[b]=135123890499776\n"
     ]
    }
   ],
   "source": [
    "import copy\n",
    "\n",
    "original = {'a': 1, 'b': [10, 20]}\n",
    "\n",
    "# Assignment (NOT a copy, just another reference)\n",
    "ref_copy = original\n",
    "ref_copy['a'] = 99\n",
    "print(f\"Original after ref_copy modified: {original}\") # Original is changed!\n",
    "print(f\"IDs: original={id(original)}, ref_copy={id(ref_copy)}\\n\")\n",
    "original['a'] = 1 # Reset for next demo\n",
    "\n",
    "# Shallow copy\n",
    "shallow_copy = original.copy()\n",
    "shallow_copy['a'] = 100 # Modifying immutable value (int) - OK\n",
    "shallow_copy['b'].append(30) # Modifying mutable value (list) in copy\n",
    "\n",
    "print(f\"Original after shallow_copy modified: {original}\") # 'b' list is ALSO changed!\n",
    "print(f\"Shallow copy: {shallow_copy}\")\n",
    "print(f\"IDs: original={id(original)}, shallow_copy={id(shallow_copy)}\")\n",
    "print(f\"List IDs: original[b]={id(original['b'])}, shallow_copy[b]={id(shallow_copy['b'])}\\n\") # Same list object!\n",
    "original['b'] = [10, 20] # Reset list\n",
    "\n",
    "# Deep copy\n",
    "deep_copy = copy.deepcopy(original)\n",
    "deep_copy['a'] = 500\n",
    "deep_copy['b'].append(40)\n",
    "\n",
    "print(f\"Original after deep_copy modified: {original}\") # Original is UNCHANGED\n",
    "print(f\"Deep copy: {deep_copy}\")\n",
    "print(f\"IDs: original={id(original)}, deep_copy={id(deep_copy)}\")\n",
    "print(f\"List IDs: original[b]={id(original['b'])}, deep_copy[b]={id(deep_copy['b'])}\") # Different list objects!"
   ]
  },
  {
   "cell_type": "markdown",
   "metadata": {},
   "source": [
    "## Common Pitfalls & Interview Questions\n",
    "\n",
    "*   **Pitfall: `KeyError`:** Accessing a non-existent key using `[]` syntax. Use `.get()` or check with `in` first.\n",
    "*   **Pitfall: Mutable Keys:** Attempting to use a list or another dict as a key will raise a `TypeError` because they are not hashable.\n",
    "*   **Pitfall: Shallow Copies:** Modifying mutable values (like lists) in a shallow copy affects the original dictionary. Use `copy.deepcopy` when complete independence is needed.\n",
    "*   **Pitfall: Modifying While Iterating:** Modifying a dictionary (adding/removing keys) while iterating over it can lead to unexpected behavior or `RuntimeError`. Iterate over a copy (`list(my_dict.keys())` or `my_dict.copy().items()`) if modifications are needed.\n",
    "*   **Pitfall: Order (Pre-Python 3.7):** Relying on dictionary order in older Python versions was unsafe. Assume insertion order preservation only in Python 3.7+.\n",
    "\n",
    "*   **Interview Question:** \"What is a dictionary in Python? What are its main characteristics?\"\n",
    "    *   *Answer:* Key-value pairs, unique & immutable keys, mutable values, mutable dictionary, O(1) average lookup/insert/delete, ordered (3.7+).\n",
    "*   **Interview Question:** \"How do you safely access a value in a dictionary if you're not sure the key exists?\"\n",
    "    *   *Answer:* Use the `.get(key, default)` method.\n",
    "*   **Interview Question:** \"Can you use a list as a dictionary key? Why or why not?\"\n",
    "    *   *Answer:* No, lists are mutable and therefore not hashable. Keys must be immutable/hashable.\n",
    "*   **Interview Question:** \"Explain the difference between a shallow copy and a deep copy of a dictionary.\"\n",
    "    *   *Answer:* Shallow copy (`.copy()`) copies the dictionary structure but shares references to mutable objects within it. Deep copy (`copy.deepcopy()`) recursively copies all objects, creating fully independent structures.\n",
    "*   **Interview Question:** \"How can you iterate over both keys and values of a dictionary efficiently?\"\n",
    "    *   *Answer:* Use the `.items()` method: `for key, value in my_dict.items(): ...`\n",
    "*   **Interview Question:** \"Are dictionaries ordered?\"\n",
    "    *   *Answer:* As of Python 3.7, dictionaries preserve insertion order. In earlier versions (3.6 CPython implementation detail, officially guaranteed 3.7+), they were unordered."
   ]
  },
  {
   "cell_type": "markdown",
   "metadata": {},
   "source": [
    "## Advanced Topics: `defaultdict` and `Counter`\n",
    "\n",
    "The `collections` module provides specialized dictionary subclasses:\n",
    "*   `defaultdict`: Automatically assigns a default value (using a factory function) if a key is accessed that doesn't exist.\n",
    "*   `Counter`: A dict subclass for counting hashable objects."
   ]
  },
  {
   "cell_type": "code",
   "execution_count": 7,
   "metadata": {},
   "outputs": [
    {
     "name": "stdout",
     "output_type": "stream",
     "text": [
      "Word Counts (defaultdict): defaultdict(<class 'int'>, {'this': 2, 'is': 2, 'a': 1, 'sample': 2, 'sentence': 1, 'another': 1})\n",
      "Count of 'sample': 2\n",
      "Count of 'example' (never seen): 0\n",
      "\n",
      "Word Counts (Counter): Counter({'this': 2, 'is': 2, 'sample': 2, 'a': 1, 'sentence': 1, 'another': 1})\n",
      "Most common words: [('this', 2), ('is', 2)]\n"
     ]
    }
   ],
   "source": [
    "from collections import defaultdict, Counter\n",
    "\n",
    "# defaultdict example (counting words)\n",
    "word_counts = defaultdict(int) # Default value for non-existent keys will be int() which is 0\n",
    "sentence = \"this is a sample sentence this is another sample\"\n",
    "for word in sentence.split():\n",
    "    word_counts[word] += 1\n",
    "\n",
    "print(f\"Word Counts (defaultdict): {word_counts}\")\n",
    "print(f\"Count of 'sample': {word_counts['sample']}\")\n",
    "print(f\"Count of 'example' (never seen): {word_counts['example']}\\n\") # Returns 0, doesn't raise KeyError\n",
    "\n",
    "# Counter example\n",
    "word_counts_counter = Counter(sentence.split())\n",
    "print(f\"Word Counts (Counter): {word_counts_counter}\")\n",
    "print(f\"Most common words: {word_counts_counter.most_common(2)}\")"
   ]
  },
  {
   "cell_type": "markdown",
   "metadata": {},
   "source": [
    "## 6. Challenge: Analyzing Log Data\n",
    "\n",
    "You have a list of log entries, each represented as a dictionary with keys like `timestamp`, `level`, `message`.\n",
    "\n",
    "1.  Write a function `analyze_logs` that takes a list of these log entry dictionaries.\n",
    "2.  The function should count how many log entries exist for each `level` (e.g., 'INFO', 'WARNING', 'ERROR').\n",
    "3.  Return a dictionary where keys are the log levels and values are their counts."
   ]
  },
  {
   "cell_type": "code",
   "execution_count": 8,
   "metadata": {},
   "outputs": [
    {
     "name": "stdout",
     "output_type": "stream",
     "text": [
      "Log Level Analysis:\n",
      "- INFO: 4\n",
      "- WARNING: 2\n",
      "- ERROR: 2\n",
      "- DEBUG: 1\n"
     ]
    }
   ],
   "source": [
    "from typing import List, Dict, Any\n",
    "from collections import defaultdict\n",
    "\n",
    "LogEntry = Dict[str, Any]\n",
    "\n",
    "def analyze_logs(logs: List[LogEntry]) -> Dict[str, int]:\n",
    "    \"\"\"Counts log entries by level.\n",
    "\n",
    "    Args:\n",
    "        logs: A list of dictionaries, each representing a log entry \n",
    "              with at least a 'level' key.\n",
    "\n",
    "    Returns:\n",
    "        A dictionary mapping log levels (str) to their counts (int).\n",
    "    \"\"\"\n",
    "    level_counts: Dict[str, int] = defaultdict(int)\n",
    "    for entry in logs:\n",
    "        level = entry.get(\"level\", \"UNKNOWN\") # Safely get the level\n",
    "        level_counts[level] += 1\n",
    "    return dict(level_counts) # Convert back to regular dict if preferred\n",
    "\n",
    "# --- Test the function ---\n",
    "log_data: List[LogEntry] = [\n",
    "    {'timestamp': 1678886400, 'level': 'INFO', 'message': 'User logged in'},\n",
    "    {'timestamp': 1678886405, 'level': 'INFO', 'message': 'Data processed successfully'},\n",
    "    {'timestamp': 1678886410, 'level': 'WARNING', 'message': 'Disk space low'},\n",
    "    {'timestamp': 1678886415, 'level': 'INFO', 'message': 'Request received'},\n",
    "    {'timestamp': 1678886420, 'level': 'ERROR', 'message': 'Database connection failed'},\n",
    "    {'timestamp': 1678886425, 'level': 'WARNING', 'message': 'API rate limit approaching'},\n",
    "    {'timestamp': 1678886430, 'level': 'INFO', 'message': 'User logged out'},\n",
    "    {'timestamp': 1678886435, 'level': 'DEBUG', 'message': 'Variable value: xyz'},\n",
    "    {'timestamp': 1678886440, 'level': 'ERROR', 'message': 'Null pointer exception'},\n",
    "]\n",
    "\n",
    "analysis_result = analyze_logs(log_data)\n",
    "print(\"Log Level Analysis:\")\n",
    "for level, count in analysis_result.items():\n",
    "    print(f\"- {level}: {count}\")"
   ]
  },
  {
   "cell_type": "markdown",
   "metadata": {},
   "source": [
    "## Quiz\n",
    "\n",
    "1.  What will happen if you try to access a non-existent key using square brackets `[]`?\n",
    "    a) It returns `None`.\n",
    "    b) It returns `0`.\n",
    "    c) It raises a `KeyError`.\n",
    "    d) It raises an `IndexError`.\n",
    "\n",
    "2.  Which method is best suited for iterating over both keys and values simultaneously?\n",
    "    a) `.keys()`\n",
    "    b) `.values()`\n",
    "    c) `.items()`\n",
    "    d) `.update()`\n",
    "\n",
    "3.  Can you use `[1, 2]` as a key in a Python dictionary?\n",
    "    a) Yes, lists can be keys.\n",
    "    b) No, because lists are mutable and not hashable.\n",
    "    c) Only if the list contains immutable items.\n",
    "    d) Yes, but it's not recommended.\n",
    "\n",
    "4.  What does the `my_dict.popitem()` method do in Python 3.7+?\n",
    "    a) Removes and returns an arbitrary key-value pair.\n",
    "    b) Removes and returns the key-value pair associated with the key 'item'.\n",
    "    c) Removes and returns the last inserted key-value pair.\n",
    "    d) Returns the last inserted key-value pair without removing it.\n",
    "\n",
    "*(Answers: 1-c, 2-c, 3-b, 4-c)*"
   ]
  },
  {
   "cell_type": "markdown",
   "metadata": {},
   "source": [
    "## Conclusion\n",
    "\n",
    "Dictionaries are a cornerstone of Python data structures, offering efficient key-based lookups and flexible data storage. Their ability to map keys to values makes them ideal for countless programming tasks, from simple data grouping to complex configuration management and data representation. Understanding their characteristics, methods, and best practices (like using `.get()` and `.items()`) is crucial for effective Python development."
   ]
  }
 ],
 "metadata": {
  "kernelspec": {
   "display_name": "Python 3",
   "language": "python",
   "name": "python3"
  },
  "language_info": {
   "codemirror_mode": {
    "name": "ipython",
    "version": 3
   },
   "file_extension": ".py",
   "mimetype": "text/x-python",
   "name": "python",
   "nbconvert_exporter": "python",
   "pygments_lexer": "ipython3",
   "version": "3.13.2"
  }
 },
 "nbformat": 4,
 "nbformat_minor": 4
}
