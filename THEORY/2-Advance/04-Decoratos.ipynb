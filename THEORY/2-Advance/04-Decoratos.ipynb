{
    "cells": [
        {
            "cell_type": "markdown",
            "metadata": {},
            "source": [
                "# ✨ Python Decorators: Enhancing Code with Syntactic Sugar\n",
                "\n",
                "**Welcome!** Decorators are one of Python's most powerful and elegant features, allowing you to modify or enhance functions and methods in a clean, readable way. They are a form of metaprogramming, leveraging Python's support for functions as first-class objects. This notebook provides a detailed exploration of how decorators work, how to create them, and their common use cases.\n",
                "\n",
                "**Target Audience:** Python developers wanting to understand and utilize decorators effectively to write more reusable, maintainable, and expressive code.\n",
                "\n",
                "**Learning Objectives:**\n",
                "*   Understand the concept of functions as first-class citizens in Python.\n",
                "*   Learn the basic syntax and mechanics of function decorators (`@` syntax).\n",
                "*   Implement simple decorators and understand the role of wrapper functions.\n",
                "*   Properly handle function arguments (`*args`, `**kwargs`) and return values in decorators.\n",
                "*   Preserve original function metadata using `@functools.wraps`.\n",
                "*   Create decorators that accept arguments using decorator factories.\n",
                "*   Implement decorators using classes.\n",
                "*   Apply decorators to classes.\n",
                "*   Explore practical use cases like logging, timing, access control, and caching.\n",
                "*   Identify best practices and common pitfalls."
            ]
        },
        {
            "cell_type": "markdown",
            "metadata": {},
            "source": [
                "## 1. Foundation: Functions as First-Class Objects\n",
                "\n",
                "Before diving into decorators, it's crucial to understand that functions in Python are treated like any other object (integers, strings, lists, etc.). This means they can be:\n",
                "\n",
                "1.  **Assigned to variables.**\n",
                "2.  **Passed as arguments** to other functions.\n",
                "3.  **Returned from** other functions.\n",
                "\n",
                "This capability is what makes decorators possible."
            ]
        },
        {
            "cell_type": "code",
            "execution_count": 1,
            "metadata": {},
            "outputs": [
                {
                    "name": "stdout",
                    "output_type": "stream",
                    "text": [
                        "Calling via 'yell': HELLO!\n",
                        "Applying shout via apply_func: GREETINGS!\n",
                        "Calling add_5(10): 15\n",
                        "Calling add_10(10): 20\n"
                    ]
                }
            ],
            "source": [
                "def shout(text: str) -> str:\n",
                "    \"\"\"Converts text to uppercase with an exclamation mark.\"\"\"\n",
                "    return text.upper() + \"!\"\n",
                "\n",
                "# 1. Assign function to a variable\n",
                "yell = shout\n",
                "print(f\"Calling via 'yell': {yell('hello')}\")\n",
                "\n",
                "# 2. Pass function as an argument\n",
                "def apply_func(func, value):\n",
                "    \"\"\"Applies a function to a value.\"\"\"\n",
                "    return func(value)\n",
                "\n",
                "print(f\"Applying shout via apply_func: {apply_func(shout, 'greetings')}\")\n",
                "\n",
                "# 3. Return a function from another function\n",
                "def create_adder(x):\n",
                "    \"\"\"Returns a function that adds 'x' to its argument.\"\"\"\n",
                "    def adder(y):\n",
                "        return x + y\n",
                "    return adder\n",
                "\n",
                "add_5 = create_adder(5)\n",
                "add_10 = create_adder(10)\n",
                "\n",
                "print(f\"Calling add_5(10): {add_5(10)}\")\n",
                "print(f\"Calling add_10(10): {add_10(10)}\")"
            ]
        },
        {
            "cell_type": "markdown",
            "metadata": {},
            "source": [
                "## 2. What is a Decorator?\n",
                "\n",
                "A decorator is essentially a function that takes another function (the decorated function) as input, adds some functionality to it without modifying its source code, and returns the enhanced function.\n",
                "\n",
                "**Analogy: Function Wrapping Paper (Revisited)**\n",
                "As mentioned before, think of a decorator (`@my_decorator`) as special wrapping applied to a function (`def my_func(): ...`). The original function (`my_func`) is the gift inside. The decorator adds behavior (logging, timing, access checks) like adding layers of wrapping paper, ribbons, or labels before the gift is finally presented (the function is called).\n",
                "\n",
                "**The `@` Syntax:**\n",
                "The `@decorator_name` syntax placed directly above a function definition is Python's syntactic sugar for this process."
            ]
        },
        {
            "cell_type": "markdown",
            "metadata": {},
            "source": [
                "### 2.1 A Simple Decorator: Manual Application\n",
                "\n",
                "Let's first see how it works *without* the `@` syntax."
            ]
        },
        {
            "cell_type": "code",
            "execution_count": 2,
            "metadata": {},
            "outputs": [
                {
                    "name": "stderr",
                    "output_type": "stream",
                    "text": [
                        "INFO: Executing 'add'...\n",
                        "INFO: Finished executing 'add'. Result: 30\n"
                    ]
                },
                {
                    "name": "stdout",
                    "output_type": "stream",
                    "text": [
                        "--- Manual Decoration --- \n",
                        "Original add function: <function add at 0x78f4ca993560>\n",
                        "---> Decorator simple_logger_decorator is initializing for add\n",
                        "Decorated add function: <function simple_logger_decorator.<locals>.wrapper_function at 0x78f4ca9920c0>\n",
                        "Final Sum: 30\n"
                    ]
                }
            ],
            "source": [
                "import logging\n",
                "from typing import Callable, Any\n",
                "\n",
                "logging.basicConfig(level=logging.INFO, format='%(levelname)s: %(message)s', force=True)\n",
                "\n",
                "# The Decorator Function\n",
                "def simple_logger_decorator(original_func: Callable) -> Callable:\n",
                "    \"\"\"A simple decorator that logs before and after function execution.\"\"\"\n",
                "    print(f\"---> Decorator simple_logger_decorator is initializing for {original_func.__name__}\")\n",
                "    \n",
                "    # The Inner Wrapper Function\n",
                "    def wrapper_function(*args: Any, **kwargs: Any) -> Any:\n",
                "        \"\"\"This function wraps the original function's execution.\"\"\"\n",
                "        logging.info(f\"Executing '{original_func.__name__}'...\")\n",
                "        \n",
                "        # Call the original function passed to the decorator\n",
                "        result = original_func(*args, **kwargs)\n",
                "        \n",
                "        logging.info(f\"Finished executing '{original_func.__name__}'. Result: {result!r}\")\n",
                "        return result\n",
                "        \n",
                "    # Return the wrapper function\n",
                "    return wrapper_function\n",
                "\n",
                "# The Original Function\n",
                "def add(x: int, y: int) -> int:\n",
                "    \"\"\"Adds two numbers.\"\"\"\n",
                "    return x + y\n",
                "\n",
                "# --- Manually Applying the Decorator --- \n",
                "print(\"--- Manual Decoration --- \")\n",
                "print(f\"Original add function: {add}\")\n",
                "\n",
                "# Pass the original function to the decorator\n",
                "# The decorator returns the 'wrapper_function'\n",
                "decorated_add = simple_logger_decorator(add) \n",
                "\n",
                "print(f\"Decorated add function: {decorated_add}\") # Now points to the wrapper\n",
                "\n",
                "# Call the decorated version\n",
                "sum_result = decorated_add(10, 20)\n",
                "print(f\"Final Sum: {sum_result}\")\n",
                "\n",
                "# Calling the original 'add' directly would NOT have the logging\n",
                "# original_sum = add(5, 3)\n",
                "# print(f\"Original Sum (no logging): {original_sum}\")"
            ]
        },
        {
            "cell_type": "markdown",
            "metadata": {},
            "source": [
                "### 2.2 Using the `@` Syntax\n",
                "\n",
                "The `@` syntax simplifies the manual application process."
            ]
        },
        {
            "cell_type": "code",
            "execution_count": 3,
            "metadata": {},
            "outputs": [
                {
                    "name": "stderr",
                    "output_type": "stream",
                    "text": [
                        "INFO: Executing 'subtract'...\n",
                        "INFO: Finished executing 'subtract'. Result: 35\n"
                    ]
                },
                {
                    "name": "stdout",
                    "output_type": "stream",
                    "text": [
                        "---> Decorator simple_logger_decorator is initializing for subtract\n",
                        "\n",
                        "--- Decorating with @ syntax ---\n",
                        "Final Difference: 35\n"
                    ]
                }
            ],
            "source": [
                "@simple_logger_decorator # Apply decorator using '@'\n",
                "def subtract(x: int, y: int) -> int:\n",
                "    \"\"\"Subtracts two numbers.\"\"\"\n",
                "    return x - y\n",
                "\n",
                "# Now, calling subtract() automatically calls the decorated version\n",
                "print(\"\\n--- Decorating with @ syntax ---\")\n",
                "diff_result = subtract(50, 15)\n",
                "print(f\"Final Difference: {diff_result}\")"
            ]
        },
        {
            "cell_type": "markdown",
            "metadata": {},
            "source": [
                "## 3. Handling Arguments and Return Values\n",
                "\n",
                "Decorators need to handle arbitrary arguments (`*args`, `**kwargs`) and return values from the decorated function correctly.\n",
                "\n",
                "Our `simple_logger_decorator` already does this:\n",
                "*   `def wrapper_function(*args: Any, **kwargs: Any)`: Accepts any positional and keyword arguments.\n",
                "*   `result = original_func(*args, **kwargs)`: Passes these arguments down to the original function.\n",
                "*   `return result`: Returns whatever the original function returned."
            ]
        },
        {
            "cell_type": "markdown",
            "metadata": {},
            "source": [
                "## 4. Preserving Function Metadata: `@functools.wraps`\n",
                "\n",
                "**Problem:** When you decorate a function, the returned object is the *wrapper* function. This means introspection tools (like `help()`, debuggers) see the wrapper's name and docstring, not the original function's.\n",
                "\n",
                "**Solution:** Use the `@functools.wraps` decorator *inside* your decorator, applying it to the wrapper function. It copies metadata (`__name__`, `__doc__`, `__annotations__`, etc.) from the original function to the wrapper."
            ]
        },
        {
            "cell_type": "code",
            "execution_count": 4,
            "metadata": {},
            "outputs": [
                {
                    "name": "stderr",
                    "output_type": "stream",
                    "text": [
                        "INFO: Executing 'multiply'...\n",
                        "INFO: Finished 'multiply'. Result: 42\n"
                    ]
                },
                {
                    "name": "stdout",
                    "output_type": "stream",
                    "text": [
                        "--- Testing @wraps --- \n",
                        "Final Product: 42\n",
                        "\n",
                        "Function name: multiply\n",
                        "Function docstring: Multiplies two numbers. This docstring should be preserved.\n",
                        "Function annotations: {'x': <class 'int'>, 'y': <class 'int'>, 'return': <class 'int'>}\n",
                        "Help on function multiply in module __main__:\n",
                        "\n",
                        "multiply(x: int, y: int) -> int\n",
                        "    Multiplies two numbers. This docstring should be preserved.\n",
                        "\n"
                    ]
                }
            ],
            "source": [
                "import functools\n",
                "import logging\n",
                "\n",
                "def proper_logger_decorator(func: Callable) -> Callable:\n",
                "    \"\"\"A decorator that logs AND preserves metadata.\"\"\"\n",
                "    \n",
                "    @functools.wraps(func) # Apply wraps to the wrapper\n",
                "    def wrapper(*args: Any, **kwargs: Any) -> Any:\n",
                "        \"\"\"This is the wrapper's docstring (now hidden).\"\"\"\n",
                "        logger = logging.getLogger(func.__qualname__) # Use original func name for logger\n",
                "        logger.info(f\"Executing '{func.__name__}'...\")\n",
                "        result = func(*args, **kwargs)\n",
                "        logger.info(f\"Finished '{func.__name__}'. Result: {result!r}\")\n",
                "        return result\n",
                "    return wrapper\n",
                "\n",
                "@proper_logger_decorator\n",
                "def multiply(x: int, y: int) -> int:\n",
                "    \"\"\"Multiplies two numbers. This docstring should be preserved.\"\"\"\n",
                "    return x * y\n",
                "\n",
                "print(\"--- Testing @wraps --- \")\n",
                "prod_result = multiply(6, 7)\n",
                "print(f\"Final Product: {prod_result}\")\n",
                "\n",
                "# Check metadata\n",
                "print(f\"\\nFunction name: {multiply.__name__}\") # Shows 'multiply', not 'wrapper'\n",
                "print(f\"Function docstring: {multiply.__doc__}\") # Shows original docstring\n",
                "print(f\"Function annotations: {multiply.__annotations__}\") # Preserves type hints\n",
                "\n",
                "# Compare with the earlier 'subtract' function (which didn't use wraps)\n",
                "# help(subtract) # Would show info about 'wrapper_function'\n",
                "help(multiply) # Shows info about 'multiply'"
            ]
        },
        {
            "cell_type": "markdown",
            "metadata": {},
            "source": [
                "**Best Practice:** *Always* use `@functools.wraps` when writing decorators."
            ]
        },
        {
            "cell_type": "markdown",
            "metadata": {},
            "source": [
                "## 5. Decorators with Arguments (Decorator Factories)\n",
                "\n",
                "Sometimes you want to configure the decorator itself (e.g., specify a log level, a number of retries). This requires a **decorator factory**: a function that takes the arguments and *returns* the actual decorator."
            ]
        },
        {
            "cell_type": "code",
            "execution_count": 5,
            "metadata": {},
            "outputs": [
                {
                    "name": "stderr",
                    "output_type": "stream",
                    "text": [
                        "INFO: Attempt 1/4: Calling connect_to_service\n",
                        "WARNING: Attempt 1 failed with ConnectionError: Simulated connection failure #1\n",
                        "INFO: Retrying in 0.10 seconds...\n"
                    ]
                },
                {
                    "name": "stdout",
                    "output_type": "stream",
                    "text": [
                        "---> Initializing retry decorator with retries=4, delay=0.1\n",
                        "\n",
                        "--- Testing @retry decorator --- \n",
                        "Attempting connection to http://example-service.com... (Fail counter: 0)\n"
                    ]
                },
                {
                    "name": "stderr",
                    "output_type": "stream",
                    "text": [
                        "INFO: Attempt 2/4: Calling connect_to_service\n",
                        "WARNING: Attempt 2 failed with ConnectionError: Simulated connection failure #2\n"
                    ]
                },
                {
                    "name": "stdout",
                    "output_type": "stream",
                    "text": [
                        "Attempting connection to http://example-service.com... (Fail counter: 1)\n"
                    ]
                },
                {
                    "name": "stderr",
                    "output_type": "stream",
                    "text": [
                        "INFO: Retrying in 0.10 seconds...\n",
                        "INFO: Attempt 3/4: Calling connect_to_service\n",
                        "WARNING: Attempt 3 failed with ConnectionError: Simulated connection failure #3\n",
                        "INFO: Retrying in 0.10 seconds...\n"
                    ]
                },
                {
                    "name": "stdout",
                    "output_type": "stream",
                    "text": [
                        "Attempting connection to http://example-service.com... (Fail counter: 2)\n"
                    ]
                },
                {
                    "name": "stderr",
                    "output_type": "stream",
                    "text": [
                        "INFO: Attempt 4/4: Calling connect_to_service\n",
                        "INFO: Attempt 4 succeeded.\n",
                        "INFO: Attempt 1/3: Calling always_fail\n",
                        "WARNING: Attempt 1 failed with ConnectionError: Permanent failure #1\n",
                        "INFO: Retrying in 1.00 seconds...\n"
                    ]
                },
                {
                    "name": "stdout",
                    "output_type": "stream",
                    "text": [
                        "Attempting connection to http://example-service.com... (Fail counter: 3)\n",
                        "Connection to http://example-service.com established successfully.\n",
                        "Final connection status: {'status': 'connected', 'url': 'http://example-service.com'}\n",
                        "\n",
                        "--- Testing @retry with permanent failure ---\n",
                        "---> Initializing retry decorator with retries=3, delay=1.0\n"
                    ]
                },
                {
                    "name": "stderr",
                    "output_type": "stream",
                    "text": [
                        "INFO: Attempt 2/3: Calling always_fail\n",
                        "WARNING: Attempt 2 failed with ConnectionError: Permanent failure #2\n",
                        "INFO: Retrying in 1.00 seconds...\n",
                        "INFO: Attempt 3/3: Calling always_fail\n",
                        "WARNING: Attempt 3 failed with ConnectionError: Permanent failure #3\n",
                        "ERROR: Function always_fail failed after 3 attempts.\n"
                    ]
                },
                {
                    "name": "stdout",
                    "output_type": "stream",
                    "text": [
                        "Caught expected permanent failure: Permanent failure #3\n"
                    ]
                }
            ],
            "source": [
                "import functools\n",
                "import time\n",
                "from typing import Callable, Any\n",
                "\n",
                "DEFAULT_RETRIES = 3\n",
                "DEFAULT_DELAY = 1.0\n",
                "\n",
                "# Decorator Factory Function\n",
                "def retry(num_retries: int = DEFAULT_RETRIES, delay: float = DEFAULT_DELAY, \n",
                "          allowed_exceptions: tuple = (Exception,)) -> Callable:\n",
                "    \"\"\"Returns a decorator that retries a function on specified exceptions.\"\"\"\n",
                "    \n",
                "    print(f\"---> Initializing retry decorator with retries={num_retries}, delay={delay}\")\n",
                "    \n",
                "    # The Actual Decorator\n",
                "    def decorator_retry(func: Callable) -> Callable:\n",
                "        @functools.wraps(func)\n",
                "        def wrapper_retry(*args: Any, **kwargs: Any) -> Any:\n",
                "            logger = logging.getLogger(func.__qualname__)\n",
                "            attempts = 0\n",
                "            while attempts < num_retries:\n",
                "                attempts += 1\n",
                "                try:\n",
                "                    logger.info(f\"Attempt {attempts}/{num_retries}: Calling {func.__name__}\")\n",
                "                    result = func(*args, **kwargs)\n",
                "                    logger.info(f\"Attempt {attempts} succeeded.\")\n",
                "                    return result # Success, exit loop\n",
                "                except allowed_exceptions as e:\n",
                "                    logger.warning(f\"Attempt {attempts} failed with {type(e).__name__}: {e}\")\n",
                "                    if attempts == num_retries:\n",
                "                        logger.error(f\"Function {func.__name__} failed after {num_retries} attempts.\")\n",
                "                        raise # Re-raise the last exception\n",
                "                    else:\n",
                "                        logger.info(f\"Retrying in {delay:.2f} seconds...\")\n",
                "                        time.sleep(delay)\n",
                "            # This part should ideally not be reached if retries >= 1\n",
                "            # It's a fallback, but the raise in the except block is primary\n",
                "            logger.critical(f\"Exited retry loop unexpectedly for {func.__name__}\")\n",
                "            # Depending on desired behavior, could return None or raise here too\n",
                "            # raise RuntimeError(\"Function failed after all retries.\")\n",
                "        return wrapper_retry\n",
                "    return decorator_retry\n",
                "\n",
                "# --- Using the Decorator Factory --- \n",
                "fail_counter = 0\n",
                "\n",
                "# Use default arguments (3 retries, 1s delay, catches Exception)\n",
                "# @retry()\n",
                "# def potentially_flaky_operation_default():\n",
                "#     pass\n",
                "\n",
                "# Specify arguments\n",
                "@retry(num_retries=4, delay=0.1, allowed_exceptions=(ConnectionError, TimeoutError))\n",
                "def connect_to_service(url: str):\n",
                "    \"\"\"Simulates connecting to a service that might fail.\"\"\"\n",
                "    global fail_counter\n",
                "    print(f\"Attempting connection to {url}... (Fail counter: {fail_counter})\" )\n",
                "    if fail_counter < 3:\n",
                "        fail_counter += 1\n",
                "        raise ConnectionError(f\"Simulated connection failure #{fail_counter}\")\n",
                "    else:\n",
                "        print(f\"Connection to {url} established successfully.\")\n",
                "        return {\"status\": \"connected\", \"url\": url}\n",
                "\n",
                "print(\"\\n--- Testing @retry decorator --- \")\n",
                "try:\n",
                "    connection_status = connect_to_service(\"http://example-service.com\")\n",
                "    print(f\"Final connection status: {connection_status}\")\n",
                "except Exception as e:\n",
                "    print(f\"Caught final exception after retries: {type(e).__name__}: {e}\")\n",
                "\n",
                "# Example that would fail permanently\n",
                "fail_counter = 0\n",
                "print(\"\\n--- Testing @retry with permanent failure ---\")\n",
                "try:\n",
                "    # This will use defaults (3 retries) but always raise ConnectionError\n",
                "    @retry()\n",
                "    def always_fail():\n",
                "        global fail_counter\n",
                "        fail_counter += 1\n",
                "        raise ConnectionError(f\"Permanent failure #{fail_counter}\")\n",
                "    always_fail()\n",
                "except ConnectionError as e:\n",
                "    print(f\"Caught expected permanent failure: {e}\")"
            ]
        },
        {
            "cell_type": "markdown",
            "metadata": {},
            "source": [
                "## 6. Class-Based Decorators\n",
                "\n",
                "Decorators can also be implemented using classes, primarily by implementing the `__call__` method, making instances of the class callable.\n",
                "This is often useful when the decorator needs to maintain state between calls to the decorated function."
            ]
        },
        {
            "cell_type": "code",
            "execution_count": 6,
            "metadata": {},
            "outputs": [
                {
                    "name": "stdout",
                    "output_type": "stream",
                    "text": [
                        "---> Initializing StatefulCounterDecorator for 'process_item'\n",
                        "\n",
                        "--- Testing Stateful Class Decorator ---\n",
                        "---> Call number 1 to 'process_item'\n",
                        "  Processing item 101... done.\n",
                        "<--- Finished call 1 of 'process_item'\n",
                        "---> Call number 2 to 'process_item'\n",
                        "  Processing item 102... done.\n",
                        "<--- Finished call 2 of 'process_item'\n",
                        "Result A: processed_101\n",
                        "Result B: processed_102\n",
                        "Total calls to process_item: 2\n"
                    ]
                }
            ],
            "source": [
                "import functools\n",
                "from typing import Callable, Any\n",
                "\n",
                "class StatefulCounterDecorator:\n",
                "    def __init__(self, func: Callable):\n",
                "        functools.update_wrapper(self, func) # Copy metadata\n",
                "        self.func = func\n",
                "        self.call_count = 0\n",
                "        print(f\"---> Initializing StatefulCounterDecorator for '{func.__name__}'\")\n",
                "\n",
                "    def __call__(self, *args: Any, **kwargs: Any) -> Any:\n",
                "        self.call_count += 1\n",
                "        print(f\"---> Call number {self.call_count} to '{self.func.__name__}'\")\n",
                "        result = self.func(*args, **kwargs)\n",
                "        print(f\"<--- Finished call {self.call_count} of '{self.func.__name__}'\")\n",
                "        return result\n",
                "\n",
                "@StatefulCounterDecorator\n",
                "def process_item(item_id: int):\n",
                "    \"\"\"Processes a single item.\"\"\"\n",
                "    print(f\"  Processing item {item_id}... done.\")\n",
                "    return f\"processed_{item_id}\"\n",
                "\n",
                "print(\"\\n--- Testing Stateful Class Decorator ---\")\n",
                "result_a = process_item(101)\n",
                "result_b = process_item(102)\n",
                "print(f\"Result A: {result_a}\")\n",
                "print(f\"Result B: {result_b}\")\n",
                "\n",
                "# Access the state (call count) via the decorated function object\n",
                "print(f\"Total calls to process_item: {process_item.call_count}\")"
            ]
        },
        {
            "cell_type": "markdown",
            "metadata": {},
            "source": [
                "## 7. Decorating Classes\n",
                "\n",
                "Decorators can be applied to class definitions as well. The decorator function receives the class object and should return a class object (usually the same class, potentially modified).\n",
                "Common uses include registering classes, adding methods/attributes, or wrapping all public methods."
            ]
        },
        {
            "cell_type": "code",
            "execution_count": 7,
            "metadata": {},
            "outputs": [
                {
                    "name": "stderr",
                    "output_type": "stream",
                    "text": [
                        "INFO: Applying method logging to class 'DataProcessorPlugin'\n",
                        "INFO: Registering plugin 'data_processor' -> DataProcessorPlugin\n",
                        "INFO: Registering plugin 'reporter' -> ReportingPlugin\n",
                        "DEBUG: Calling method DataProcessorPlugin.load_data\n",
                        "DEBUG: Method DataProcessorPlugin.load_data finished\n",
                        "DEBUG: Calling method DataProcessorPlugin.process\n"
                    ]
                },
                {
                    "name": "stdout",
                    "output_type": "stream",
                    "text": [
                        "--- Defining Classes with Decorators ---\n",
                        "\n",
                        "--- Using Decorated Classes --- \n",
                        "Plugin Registry: {'data_processor': <class '__main__.DataProcessorPlugin'>, 'reporter': <class '__main__.ReportingPlugin'>}\n",
                        "  Loading data from /data/input.csv...\n",
                        "  Data loaded.\n",
                        "  Processing data...\n"
                    ]
                },
                {
                    "name": "stderr",
                    "output_type": "stream",
                    "text": [
                        "DEBUG: Method DataProcessorPlugin.process finished\n"
                    ]
                },
                {
                    "name": "stdout",
                    "output_type": "stream",
                    "text": [
                        "  Processing complete.\n",
                        "Processor results: Processed Results\n"
                    ]
                }
            ],
            "source": [
                "import logging\n",
                "from typing import Type, Callable, Any\n",
                "import functools\n",
                "import time\n",
                "\n",
                "# Simple decorator to register classes\n",
                "PLUGIN_REGISTRY = {}\n",
                "\n",
                "def register_plugin(plugin_id: str) -> Callable[[Type], Type]:\n",
                "    \"\"\"Decorator factory to register a class in a registry.\"\"\"\n",
                "    def decorator(cls: Type) -> Type:\n",
                "        logger = logging.getLogger('PluginRegistry')\n",
                "        logger.info(f\"Registering plugin '{plugin_id}' -> {cls.__name__}\")\n",
                "        if plugin_id in PLUGIN_REGISTRY:\n",
                "            logger.warning(f\"Plugin ID '{plugin_id}' already exists. Overwriting.\")\n",
                "        PLUGIN_REGISTRY[plugin_id] = cls\n",
                "        # Return the original class, unmodified in this case\n",
                "        return cls \n",
                "    return decorator\n",
                "\n",
                "# Decorator to add logging to all public methods of a class\n",
                "def log_all_methods(cls: Type) -> Type:\n",
                "    \"\"\"Class decorator to wrap public methods with logging.\"\"\"\n",
                "    logger = logging.getLogger(f'{cls.__module__}.{cls.__name__}')\n",
                "    logger.info(f\"Applying method logging to class '{cls.__name__}'\")\n",
                "    \n",
                "    # Simple logging wrapper for methods\n",
                "    def method_logger_wrapper(method: Callable) -> Callable:\n",
                "        @functools.wraps(method)\n",
                "        def wrapper(self, *args, **kwargs):\n",
                "            logger.debug(f\"Calling method {cls.__name__}.{method.__name__}\")\n",
                "            try:\n",
                "                result = method(self, *args, **kwargs)\n",
                "                logger.debug(f\"Method {cls.__name__}.{method.__name__} finished\")\n",
                "                return result\n",
                "            except Exception as e:\n",
                "                logger.exception(f\"Exception in method {cls.__name__}.{method.__name__}\")\n",
                "                raise\n",
                "        return wrapper\n",
                "\n",
                "    # Iterate over class attributes\n",
                "    for attr_name, attr_value in vars(cls).items():\n",
                "        # Check if it's a user-defined function/method (not built-in or dunder)\n",
                "        if callable(attr_value) and not attr_name.startswith(\"__\"):\n",
                "            logger.debug(f\"  Wrapping method: {attr_name}\")\n",
                "            setattr(cls, attr_name, method_logger_wrapper(attr_value))\n",
                "            \n",
                "    return cls\n",
                "\n",
                "# --- Using Class Decorators --- \n",
                "print(\"--- Defining Classes with Decorators ---\")\n",
                "\n",
                "@register_plugin(\"data_processor\")\n",
                "@log_all_methods # Apply method logging *after* registration\n",
                "class DataProcessorPlugin:\n",
                "    \"\"\"A plugin to process data.\"\"\"\n",
                "    def __init__(self, source: str):\n",
                "        self.source = source\n",
                "        self._internal_state = \"Initialized\"\n",
                "        # __init__ is usually not wrapped by simple method decorators \n",
                "        # as vars(cls) doesn't typically list it directly in this context.\n",
                "        \n",
                "    def load_data(self):\n",
                "        print(f\"  Loading data from {self.source}...\")\n",
                "        time.sleep(0.1)\n",
                "        self._internal_state = \"Loaded\"\n",
                "        print(f\"  Data loaded.\")\n",
                "        return True\n",
                "\n",
                "    def process(self):\n",
                "        if self._internal_state != \"Loaded\":\n",
                "            raise RuntimeError(\"Data must be loaded before processing.\")\n",
                "        print(f\"  Processing data...\")\n",
                "        time.sleep(0.2)\n",
                "        print(f\"  Processing complete.\")\n",
                "        return \"Processed Results\"\n",
                "    \n",
                "    # Private/dunder methods are typically ignored by simple decorators\n",
                "    def _internal_helper(self):\n",
                "        pass \n",
                "\n",
                "@register_plugin(\"reporter\")\n",
                "class ReportingPlugin:\n",
                "     \"\"\"A plugin for reporting.\"\"\"\n",
                "     def generate_report(self, data):\n",
                "         print(f\"Generating report for: {data}\")\n",
                "         return \"Report Contents\"\n",
                "\n",
                "print(\"\\n--- Using Decorated Classes --- \")\n",
                "print(f\"Plugin Registry: {PLUGIN_REGISTRY}\")\n",
                "\n",
                "# Instantiate and use the plugin\n",
                "ProcessorClass = PLUGIN_REGISTRY.get(\"data_processor\")\n",
                "if ProcessorClass:\n",
                "    # Set logger level to DEBUG to see method logs\n",
                "    logging.getLogger(f'{ProcessorClass.__module__}.{ProcessorClass.__name__}').setLevel(logging.DEBUG)\n",
                "    \n",
                "    processor = ProcessorClass(source=\"/data/input.csv\")\n",
                "    processor.load_data()\n",
                "    results = processor.process()\n",
                "    print(f\"Processor results: {results}\")\n",
                "else:\n",
                "    print(\"Data processor plugin not found.\")"
            ]
        },
        {
            "cell_type": "markdown",
            "metadata": {},
            "source": [
                "## 8. Built-in Decorators\n",
                "\n",
                "Python has several useful built-in decorators:\n",
                "*   `@property`: Creates read-only properties (can add `@*.setter` and `@*.deleter`). Turns a method into a getter attribute access.\n",
                "*   `@classmethod`: Defines a method that receives the class (`cls`) as the first argument instead of the instance (`self`).\n",
                "*   `@staticmethod`: Defines a method that doesn't receive the instance (`self`) or class (`cls`) implicitly. It's like a regular function namespaced within the class.\n",
                "*   `@dataclasses.dataclass`: (From `dataclasses` module) Automatically adds methods like `__init__`, `__repr__`, `__eq__` to classes.\n",
                "\n",
                "*(These are often covered in OOP sections, but they are implemented using the decorator mechanism.)*"
            ]
        },
        {
            "cell_type": "markdown",
            "metadata": {},
            "source": [
                "## 9. Best Practices & Enterprise Considerations\n",
                "\n",
                "1.  **`@functools.wraps` is Non-Negotiable:** Always use it for decorators modifying functions/methods to preserve introspection.\n",
                "2.  **Keep Decorators Simple and Focused:** A decorator should ideally have a single, clear responsibility.\n",
                "3.  **Composability:** Design decorators so they can be stacked effectively (order matters!).\n",
                "4.  **Use Decorator Arguments for Configurability:** Use the factory pattern when a decorator needs parameters.\n",
                "5.  **Testing:** Write unit tests specifically for your decorators to ensure they add the correct behavior and handle edge cases. Test decorated functions to ensure their original logic remains intact.\n",
                "6.  **Readability:** While powerful, complex or deeply nested decorators can sometimes obscure the underlying function's purpose. Comment complex decorators well.\n",
                "7.  **Framework Usage:** Be aware that many frameworks (web frameworks like Flask/Django, testing frameworks like `pytest`) rely heavily on decorators for configuration, routing, fixtures, etc. Understanding decorators is key to using these frameworks effectively.\n",
                "8.  **Performance:** Decorators add a function call overhead. This is usually insignificant but measure in performance-critical code if necessary."
            ]
        },
        {
            "cell_type": "markdown",
            "metadata": {},
            "source": [
                "## 10. Pitfalls and Common Interview Questions\n",
                "\n",
                "**Common Pitfalls:**\n",
                "\n",
                "*   **Forgetting `@functools.wraps`:** Leading to loss of function metadata.\n",
                "*   **Incorrect Argument Handling:** Wrapper not accepting `*args, **kwargs` or not passing them correctly to the original function.\n",
                "*   **Not Returning Values:** Wrapper function doesn't return the result of the original function.\n",
                "*   **Decorator Argument Errors:** Confusing the structure needed for decorators with arguments (requires the extra factory function layer).\n",
                "*   **Stacking Order:** Applying decorators in the wrong order leading to unexpected behavior.\n",
                "*   **Stateful Decorators:** Class decorators holding state can sometimes lead to unexpected behavior if not designed carefully, especially if the decorated function is called concurrently.\n",
                "*   **Debugging Complexity:** Stepping through multiple decorator layers can be confusing.\n",
                "\n",
                "**Common Interview Questions:**\n",
                "\n",
                "1.  What is a decorator in Python?\n",
                "2.  Explain the `@` syntax for decorators.\n",
                "3.  Why are functions considered first-class objects in Python, and how does this enable decorators?\n",
                "4.  How do you handle arbitrary arguments (`*args`, `**kwargs`) in a decorator's wrapper function?\n",
                "5.  What problem does `functools.wraps` solve?\n",
                "6.  How do you create a decorator that accepts arguments?\n",
                "7.  Can you implement a decorator using a class? How?\n",
                "8.  Give some common use cases for decorators.\n",
                "9.  What happens if you apply multiple decorators to a single function? In what order are they applied?\n",
                "10. Name some built-in Python decorators (`@property`, `@classmethod`, etc.)."
            ]
        },
        {
            "cell_type": "markdown",
            "metadata": {},
            "source": [
                "## 11. Challenge: Access Control Decorator\n",
                "\n",
                "**Goal:** Create a decorator that checks if a user has the required permission level before executing a function.\n",
                "\n",
                "**Tasks:**\n",
                "\n",
                "1.  **Define User Roles (Simple):** Use strings like `'GUEST'`, `'USER'`, `'ADMIN'`.\n",
                "2.  **Simulate Current User:** Create a simple global variable or function `get_current_user_role()` that returns the role of the 'cuurent' user (for testing, you can just return a fixed value or cycle through roles).\n",
                "3.  **Create Decorator Factory (`require_role`):**\n",
                "    *   This factory should accept a `required_role` string (e.g., `'ADMIN'`) as an argument.\n",
                "    *   It should return the actual decorator.\n",
                "4.  **Implement the Decorator:**\n",
                "    *   The decorator should take the function to protect as input.\n",
                "    *   The wrapper function inside the decorator should:\n",
                "        *   Call `get_current_user_role()` to get the current user's role.\n",
                "        *   Compare the user's role with the `required_role` passed to the factory. Implement a simple hierarchy (e.g., ADMIN can access USER and GUEST levels, USER can access GUEST).\n",
                "        *   If the user has sufficient privileges, execute the original function and return its result.\n",
                "        *   If the user does *not* have sufficient privileges, raise a custom `PermissionError` exception (or print an error message and return `None`).\n",
                "    *   Ensure the decorator uses `@functools.wraps`.\n",
                "5.  **Apply and Test:**\n",
                "    *   Create dummy functions representing actions requiring different permission levels (e.g., `view_public_page`, `edit_user_profile`, `delete_system_data`).\n",
                "    *   Apply the `@require_role(...)` decorator with appropriate roles to these functions.\n",
                "    *   Call the decorated functions while simulating different current user roles (by changing what `get_current_user_role()` returns) and verify that access is correctly granted or denied (catching the `PermissionError` or checking the return value)."
            ]
        },
        {
            "cell_type": "code",
            "execution_count": 8,
            "metadata": {},
            "outputs": [
                {
                    "name": "stdout",
                    "output_type": "stream",
                    "text": [
                        "--- Testing Access Control Decorator ---\n",
                        "\n",
                        "--- Simulated user role set to: GUEST ---\n",
                        "Checking access for 'view_public_page': Required='GUEST'(0), User='GUEST'(0)\n",
                        "Access GRANTED for GUEST to 'view_public_page'.\n",
                        "  -> Viewing public information page.\n",
                        "Checking access for 'edit_user_profile': Required='USER'(1), User='GUEST'(0)\n",
                        "Access DENIED for GUEST to 'edit_user_profile'.\n",
                        "  Caught expected error: User role 'GUEST' denied access. Requires 'USER'.\n",
                        "Checking access for 'delete_system_data': Required='ADMIN'(2), User='GUEST'(0)\n",
                        "Access DENIED for GUEST to 'delete_system_data'.\n",
                        "  Caught expected error: User role 'GUEST' denied access. Requires 'ADMIN'.\n",
                        "\n",
                        "--- Simulated user role set to: USER ---\n",
                        "Checking access for 'view_public_page': Required='GUEST'(0), User='USER'(1)\n",
                        "Access GRANTED for USER to 'view_public_page'.\n",
                        "  -> Viewing public information page.\n",
                        "Checking access for 'edit_user_profile': Required='USER'(1), User='USER'(1)\n",
                        "Access GRANTED for USER to 'edit_user_profile'.\n",
                        "  -> Attempting to edit profile for user456.\n",
                        "Checking access for 'delete_system_data': Required='ADMIN'(2), User='USER'(1)\n",
                        "Access DENIED for USER to 'delete_system_data'.\n",
                        "  Caught expected error: User role 'USER' denied access. Requires 'ADMIN'.\n",
                        "\n",
                        "--- Simulated user role set to: ADMIN ---\n",
                        "Checking access for 'view_public_page': Required='GUEST'(0), User='ADMIN'(2)\n",
                        "Access GRANTED for ADMIN to 'view_public_page'.\n",
                        "  -> Viewing public information page.\n",
                        "Checking access for 'edit_user_profile': Required='USER'(1), User='ADMIN'(2)\n",
                        "Access GRANTED for ADMIN to 'edit_user_profile'.\n",
                        "  -> Attempting to edit profile for admin007.\n",
                        "Checking access for 'delete_system_data': Required='ADMIN'(2), User='ADMIN'(2)\n",
                        "Access GRANTED for ADMIN to 'delete_system_data'.\n",
                        "  -> Attempting to delete data from table 'logs'.\n"
                    ]
                },
                {
                    "data": {
                        "text/plain": [
                            "'Data from logs deleted.'"
                        ]
                    },
                    "execution_count": 8,
                    "metadata": {},
                    "output_type": "execute_result"
                }
            ],
            "source": [
                "# --- Solution Space for Challenge ---\n",
                "import functools\n",
                "from typing import Callable, Any, Literal\n",
                "\n",
                "# 1 & 2: Define Roles and Simulate Current User\n",
                "UserRole = Literal['GUEST', 'USER', 'ADMIN']\n",
                "ROLE_HIERARCHY = {\n",
                "    'GUEST': 0,\n",
                "    'USER': 1,\n",
                "    'ADMIN': 2\n",
                "}\n",
                "\n",
                "_current_user_role: UserRole = 'GUEST' # Global variable for simulation\n",
                "\n",
                "def get_current_user_role() -> UserRole:\n",
                "    \"\"\"Simulates getting the role of the currently logged-in user.\"\"\"\n",
                "    # print(f\"(Checking role: current is {_current_user_role})\")\n",
                "    return _current_user_role\n",
                "\n",
                "def set_simulated_role(role: UserRole):\n",
                "    \"\"\"Helper to change the simulated role for testing.\"\"\"\n",
                "    global _current_user_role\n",
                "    if role not in ROLE_HIERARCHY:\n",
                "        raise ValueError(f\"Invalid role: {role}\")\n",
                "    _current_user_role = role\n",
                "    print(f\"\\n--- Simulated user role set to: {_current_user_role} ---\")\n",
                "\n",
                "# Custom Exception\n",
                "class PermissionDeniedError(Exception):\n",
                "    \"Raised when a user lacks permission for an action.\"\n",
                "    pass\n",
                "\n",
                "# 3 & 4: Decorator Factory and Decorator Implementation\n",
                "def require_role(required_role: UserRole) -> Callable:\n",
                "    \"\"\"Decorator factory to enforce role-based access control.\"\"\"\n",
                "    if required_role not in ROLE_HIERARCHY:\n",
                "        raise ValueError(f\"Invalid required_role specified: {required_role}\")\n",
                "        \n",
                "    required_level = ROLE_HIERARCHY[required_role]\n",
                "    \n",
                "    def decorator(func: Callable) -> Callable:\n",
                "        @functools.wraps(func)\n",
                "        def wrapper(*args: Any, **kwargs: Any) -> Any:\n",
                "            current_role = get_current_user_role()\n",
                "            current_level = ROLE_HIERARCHY[current_role]\n",
                "            \n",
                "            print(f\"Checking access for '{func.__name__}': Required='{required_role}'({required_level}), User='{current_role}'({current_level})\")\n",
                "            \n",
                "            if current_level >= required_level:\n",
                "                # User has sufficient or higher privileges\n",
                "                print(f\"Access GRANTED for {current_role} to '{func.__name__}'.\")\n",
                "                return func(*args, **kwargs)\n",
                "            else:\n",
                "                # User does not have sufficient privileges\n",
                "                error_msg = f\"User role '{current_role}' denied access. Requires '{required_role}'.\"\n",
                "                print(f\"Access DENIED for {current_role} to '{func.__name__}'.\")\n",
                "                raise PermissionDeniedError(error_msg)\n",
                "                # Alternatively: return None or some other indicator\n",
                "        return wrapper\n",
                "    return decorator\n",
                "\n",
                "# 5. Apply and Test\n",
                "@require_role('GUEST') # Everyone can access\n",
                "def view_public_page():\n",
                "    print(\"  -> Viewing public information page.\")\n",
                "    return \"Public Content\"\n",
                "\n",
                "@require_role('USER') # Requires USER or ADMIN\n",
                "def edit_user_profile(username: str):\n",
                "    print(f\"  -> Attempting to edit profile for {username}.\")\n",
                "    return f\"Profile for {username} updated.\"\n",
                "\n",
                "@require_role('ADMIN') # Requires ADMIN only\n",
                "def delete_system_data(table: str):\n",
                "    print(f\"  -> Attempting to delete data from table '{table}'.\")\n",
                "    return f\"Data from {table} deleted.\"\n",
                "\n",
                "print(\"--- Testing Access Control Decorator ---\")\n",
                "\n",
                "# Test as GUEST\n",
                "set_simulated_role('GUEST')\n",
                "view_public_page()\n",
                "try:\n",
                "    edit_user_profile(\"guest123\")\n",
                "except PermissionDeniedError as e:\n",
                "    print(f\"  Caught expected error: {e}\")\n",
                "try:\n",
                "    delete_system_data(\"users\")\n",
                "except PermissionDeniedError as e:\n",
                "    print(f\"  Caught expected error: {e}\")\n",
                "\n",
                "# Test as USER\n",
                "set_simulated_role('USER')\n",
                "view_public_page()\n",
                "edit_user_profile(\"user456\")\n",
                "try:\n",
                "    delete_system_data(\"products\")\n",
                "except PermissionDeniedError as e:\n",
                "    print(f\"  Caught expected error: {e}\")\n",
                "\n",
                "# Test as ADMIN\n",
                "set_simulated_role('ADMIN')\n",
                "view_public_page()\n",
                "edit_user_profile(\"admin007\")\n",
                "delete_system_data(\"logs\")"
            ]
        },
        {
            "cell_type": "markdown",
            "metadata": {},
            "source": [
                "## 12. Conclusion\n",
                "\n",
                "Decorators are a versatile and expressive feature in Python, enabling powerful patterns like aspect-oriented programming (separating cross-cutting concerns like logging or timing) and functional composition. By understanding how they leverage first-class functions and by using tools like `@functools.wraps`, you can create decorators that enhance your code's functionality while maintaining readability and introspection capabilities.\n",
                "\n",
                "While initially seeming like magic, decorators are simply a concise syntax for function wrapping. Mastering them allows you to write more DRY, reusable, and declarative Python code, and is essential for working effectively with many modern Python frameworks."
            ]
        }
    ],
    "metadata": {
        "kernelspec": {
            "display_name": "Python 3",
            "language": "python",
            "name": "python3"
        },
        "language_info": {
            "codemirror_mode": {
                "name": "ipython",
                "version": 3
            },
            "file_extension": ".py",
            "mimetype": "text/x-python",
            "name": "python",
            "nbconvert_exporter": "python",
            "pygments_lexer": "ipython3",
            "version": "3.13.3"
        }
    },
    "nbformat": 4,
    "nbformat_minor": 5
}
