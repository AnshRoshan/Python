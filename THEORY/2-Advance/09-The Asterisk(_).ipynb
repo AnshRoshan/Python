{
 "cells": [
  {
   "cell_type": "markdown",
   "metadata": {},
   "source": [
    "# ✨ Unpacking the Asterisk (`*`) in Python: A Versatile Operator\n",
    "\n",
    "**Welcome!** The humble asterisk (`*`) is one of Python's most versatile operators, appearing in various contexts with distinct meanings. This notebook demystifies the different uses of `*` (and its double `**` sibling), covering everything from basic arithmetic to advanced function arguments and iterable unpacking.\n",
    "\n",
    "**Target Audience:** Python developers looking to fully understand the power and flexibility offered by the asterisk operator in different scenarios.\n",
    "\n",
    "**Learning Objectives:**\n",
    "*   Use `*` and `**` for arithmetic (multiplication, exponentiation).\n",
    "*   Use `*` for sequence repetition.\n",
    "*   Master variable-length arguments (`*args`) and keyword arguments (`**kwargs`) in function definitions.\n",
    "*   Understand and use keyword-only arguments enforced by `*`.\n",
    "*   Unpack iterables (`*`) and dictionaries (`**`) into function arguments.\n",
    "*   Utilize extended iterable unpacking (`*`) in assignment statements (PEP 3132).\n",
    "*   Merge iterables and dictionaries using unpacking (PEP 448).\n",
    "*   Distinguish `*` uses from the matrix multiplication operator `@`.\n",
    "*   Learn best practices and identify common pitfalls associated with asterisk usage."
   ]
  },
  {
   "cell_type": "markdown",
   "metadata": {},
   "source": [
    "## 1. Introduction: The Many Faces of `*`\n",
    "\n",
    "Unlike some operators with a single meaning, the asterisk (`*`) in Python acts like a chameleon, changing its function based on context. It's not just for multiplication! Understanding its different roles is key to writing concise, flexible, and idiomatic Python code.\n",
    "\n",
    "**Analogy: The Swiss Army Knife**\n",
    "Think of the asterisk as a single tool in your Python toolkit that can transform into:\n",
    "*   A **Multiplier/Power Tool:** For basic arithmetic.\n",
    "*   A **Duplicator:** For repeating sequences.\n",
    "*   A **Gathering Net:** For collecting variable numbers of function arguments (`*args`).\n",
    "*   A **Keyword Collector:** For scooping up keyword arguments (`**kwargs`).\n",
    "*   An **Argument Spreader:** For unpacking sequences/mappings into function calls.\n",
    "*   A **Collection Unpacker/Merger:** For assignments and combining collections.\n",
    "\n",
    "Let's explore each of these functions."
   ]
  },
  {
   "cell_type": "markdown",
   "metadata": {},
   "source": [
    "## 2. Arithmetic Operations\n",
    "\n",
    "This is the most basic use case, familiar from mathematics.\n",
    "\n",
    "*   `a * b`: Multiplication\n",
    "*   `a ** b`: Exponentiation (a raised to the power of b)"
   ]
  },
  {
   "cell_type": "code",
   "execution_count": 1,
   "metadata": {},
   "outputs": [
    {
     "name": "stdout",
     "output_type": "stream",
     "text": [
      "6 * 7 = 42\n",
      "2 ** 10 = 1024\n"
     ]
    }
   ],
   "source": [
    "# Multiplication\n",
    "product = 6 * 7\n",
    "print(f\"6 * 7 = {product}\")\n",
    "\n",
    "# Exponentiation\n",
    "power = 2 ** 10\n",
    "print(f\"2 ** 10 = {power}\")"
   ]
  },
  {
   "cell_type": "markdown",
   "metadata": {},
   "source": [
    "## 3. Sequence Repetition\n",
    "\n",
    "The `*` operator can be used to create new sequences (lists, tuples, strings) by repeating the original sequence multiple times.\n",
    "\n",
    "**Caution:** For sequences containing *mutable* objects (like lists within a list), this creates multiple references to the *same* inner object (shallow copy behavior)."
   ]
  },
  {
   "cell_type": "code",
   "execution_count": 2,
   "metadata": {},
   "outputs": [
    {
     "name": "stdout",
     "output_type": "stream",
     "text": [
      "List of zeros: [0, 0, 0, 0, 0]\n",
      "Tuple of zeros: (0, 0, 0, 0, 0)\n",
      "Separator string: --------------------\n",
      "\n",
      "List of lists (shallow repetition): [[], [], []]\n",
      "Modified list of lists: [[1], [1], [1]]\n",
      "Safer list of lists: [[1], [], []]\n"
     ]
    }
   ],
   "source": [
    "import logging\n",
    "\n",
    "logging.basicConfig(level=logging.INFO, format='%(levelname)s: %(message)s', force=True)\n",
    "\n",
    "# --- Repeating immutable elements (safe) --- \n",
    "zeros_list = [0] * 5\n",
    "print(f\"List of zeros: {zeros_list}\")\n",
    "\n",
    "zeros_tuple = (0,) * 5 # Need comma for single-element tuple\n",
    "print(f\"Tuple of zeros: {zeros_tuple}\")\n",
    "\n",
    "separator_str = \"-\" * 20\n",
    "print(f\"Separator string: {separator_str}\")\n",
    "\n",
    "# --- Repeating mutable elements (Potential Pitfall!) --- \n",
    "# Creates a list containing 3 references to the *same* inner list\n",
    "list_of_lists_shallow = [[]] * 3 \n",
    "print(f\"\\nList of lists (shallow repetition): {list_of_lists_shallow}\")\n",
    "\n",
    "# Modify the inner list via one reference\n",
    "list_of_lists_shallow[0].append(1)\n",
    "print(f\"Modified list of lists: {list_of_lists_shallow}\") # All inner lists change!\n",
    "\n",
    "# Safer way to create list of lists:\n",
    "list_of_lists_safe = [[] for _ in range(3)]\n",
    "list_of_lists_safe[0].append(1)\n",
    "print(f\"Safer list of lists: {list_of_lists_safe}\")"
   ]
  },
  {
   "cell_type": "markdown",
   "metadata": {},
   "source": [
    "## 4. Variable Arguments in Functions: `*args` and `**kwargs`\n",
    "\n",
    "Allow functions to accept an arbitrary number of positional and keyword arguments.\n",
    "\n",
    "*   **`*args` (by convention):** Collects any *extra positional arguments* passed to the function into a **tuple**.\n",
    "*   **`**kwargs` (by convention):** Collects any *extra keyword arguments* passed to the function into a **dictionary**."
   ]
  },
  {
   "cell_type": "code",
   "execution_count": 3,
   "metadata": {},
   "outputs": [
    {
     "name": "stdout",
     "output_type": "stream",
     "text": [
      "--- Function Call --- \n",
      "Required Argument: 'Mandatory'\n",
      "Positional Arguments (*args): ()\n",
      "Keyword Arguments (**kwargs): {}\n",
      "--- Function Call --- \n",
      "Required Argument: 'Mandatory'\n",
      "Positional Arguments (*args): (1, 2, 3)\n",
      "  args[0] = 1\n",
      "  args[1] = 2\n",
      "  args[2] = 3\n",
      "Keyword Arguments (**kwargs): {}\n",
      "--- Function Call --- \n",
      "Required Argument: 'Mandatory'\n",
      "Positional Arguments (*args): ()\n",
      "Keyword Arguments (**kwargs): {'user': 'Alice', 'status': 'active'}\n",
      "  kwargs['user'] = 'Alice'\n",
      "  kwargs['status'] = 'active'\n",
      "--- Function Call --- \n",
      "Required Argument: 'Mandatory'\n",
      "Positional Arguments (*args): (100, True)\n",
      "  args[0] = 100\n",
      "  args[1] = True\n",
      "Keyword Arguments (**kwargs): {'name': 'Bob', 'age': 30, 'city': 'London'}\n",
      "  kwargs['name'] = 'Bob'\n",
      "  kwargs['age'] = 30\n",
      "  kwargs['city'] = 'London'\n"
     ]
    }
   ],
   "source": [
    "from typing import Any, Tuple, Dict\n",
    "\n",
    "def process_items(required_arg: str, \n",
    "                  *args: Tuple[Any, ...], \n",
    "                  **kwargs: Dict[str, Any]) -> None:\n",
    "    \"\"\"Demonstrates *args and **kwargs.\"\"\"\n",
    "    print(f\"--- Function Call --- \")\n",
    "    print(f\"Required Argument: {required_arg!r}\")\n",
    "    \n",
    "    # args is a tuple containing extra positional arguments\n",
    "    print(f\"Positional Arguments (*args): {args}\")\n",
    "    for i, arg in enumerate(args):\n",
    "        print(f\"  args[{i}] = {arg!r}\")\n",
    "        \n",
    "    # kwargs is a dictionary containing extra keyword arguments\n",
    "    print(f\"Keyword Arguments (**kwargs): {kwargs}\")\n",
    "    for key, value in kwargs.items():\n",
    "        print(f\"  kwargs['{key}'] = {value!r}\")\n",
    "\n",
    "# --- Calling the function --- \n",
    "process_items(\"Mandatory\")\n",
    "process_items(\"Mandatory\", 1, 2, 3) # 1, 2, 3 go into args\n",
    "process_items(\"Mandatory\", user=\"Alice\", status=\"active\") # user, status go into kwargs\n",
    "process_items(\"Mandatory\", 100, True, name=\"Bob\", age=30, city=\"London\") # Mixed"
   ]
  },
  {
   "cell_type": "markdown",
   "metadata": {},
   "source": [
    "## 5. Keyword-Only Arguments\n",
    "\n",
    "You can force arguments that appear *after* `*args` or a bare `*` in a function definition to be specified using their keyword, not positionally.\n",
    "\n",
    "**Syntax:**\n",
    "*   `def func(a, b, *, kw_only1, kw_only2): ...` (Using bare `*`)\n",
    "*   `def func(a, b, *args, kw_only1, kw_only2): ...` (Using `*args`)"
   ]
  },
  {
   "cell_type": "code",
   "execution_count": 4,
   "metadata": {},
   "outputs": [
    {
     "name": "stdout",
     "output_type": "stream",
     "text": [
      "--- Keyword-Only Arguments (bare *) --- \n",
      "Creating user Alice (ID: 101), Active: True\n",
      "Creating user Bob (ID: 102), Active: False\n",
      "Caught expected TypeError: create_user() takes 0 positional arguments but 2 were given\n",
      "\n",
      "--- Keyword-Only Arguments (after *args) --- \n",
      "Processing data.csv\n",
      "  Indices: (0, 1, 5)\n",
      "  Mode: write\n",
      "  Strict: True\n",
      "Processing config.ini\n",
      "  Indices: ()\n",
      "  Mode: read\n",
      "  Strict: False\n",
      "Caught expected TypeError: process_data() missing 1 required keyword-only argument: 'strict'\n"
     ]
    }
   ],
   "source": [
    "# Using bare *\n",
    "def create_user(*, user_id: int, name: str, is_active: bool = True) -> Dict[str, Any]:\n",
    "    \"\"\"Creates a user dict. user_id and name MUST be passed by keyword.\"\"\"\n",
    "    print(f\"Creating user {name} (ID: {user_id}), Active: {is_active}\")\n",
    "    return {\"id\": user_id, \"name\": name, \"active\": is_active}\n",
    "\n",
    "print(\"--- Keyword-Only Arguments (bare *) --- \")\n",
    "# Valid calls\n",
    "user1 = create_user(user_id=101, name=\"Alice\")\n",
    "user2 = create_user(user_id=102, name=\"Bob\", is_active=False)\n",
    "\n",
    "# Invalid call - TypeError: create_user() takes 0 positional arguments but 2 were given\n",
    "try:\n",
    "    create_user(103, \"Charlie\") \n",
    "except TypeError as e:\n",
    "    print(f\"Caught expected TypeError: {e}\")\n",
    "\n",
    "# Using *args\n",
    "def process_data(filename: str, *indices: int, mode: str = 'read', strict: bool) -> None:\n",
    "    \"\"\"Processes data. 'mode' and 'strict' must be keyword arguments.\"\"\"\n",
    "    print(f\"Processing {filename}\")\n",
    "    print(f\"  Indices: {indices}\")\n",
    "    print(f\"  Mode: {mode}\")\n",
    "    print(f\"  Strict: {strict}\")\n",
    "\n",
    "print(\"\\n--- Keyword-Only Arguments (after *args) --- \")\n",
    "process_data(\"data.csv\", 0, 1, 5, mode=\"write\", strict=True) # 0, 1, 5 go to indices\n",
    "process_data(\"config.ini\", strict=False) # No indices passed, mode uses default\n",
    "\n",
    "# Invalid call - TypeError: process_data() missing 1 required keyword-only argument: 'strict'\n",
    "try:\n",
    "    process_data(\"log.txt\", 0, 1, \"append\") \n",
    "except TypeError as e:\n",
    "    print(f\"Caught expected TypeError: {e}\")"
   ]
  },
  {
   "cell_type": "markdown",
   "metadata": {},
   "source": [
    "**Why use keyword-only arguments?**\n",
    "*   **Readability:** Makes function calls clearer, especially for functions with many arguments or boolean flags.\n",
    "*   **Flexibility:** Allows adding new positional arguments (`*args`) later without breaking code that relies on keyword arguments for later parameters.\n",
    "*   **API Design:** Enforces a clearer contract for how users should call your function."
   ]
  },
  {
   "cell_type": "markdown",
   "metadata": {},
   "source": [
    "## 6. Unpacking Arguments for Function Calls\n",
    "\n",
    "The inverse of `*args` and `**kwargs`. You can use `*` and `**` in a function *call* to unpack iterables (lists, tuples, etc.) into positional arguments and mappings (dictionaries) into keyword arguments.\n",
    "\n",
    "*   `*iterable`: Unpacks elements of `iterable` as positional arguments.\n",
    "*   `**mapping`: Unpacks key-value pairs of `mapping` as keyword arguments."
   ]
  },
  {
   "cell_type": "code",
   "execution_count": 13,
   "metadata": {},
   "outputs": [
    {
     "name": "stdout",
     "output_type": "stream",
     "text": [
      "--- Unpacking Arguments --- \n",
      "Calling with *list:\n",
      "Report -> Item: 123, Status: PENDING, User: charlie, Location: warehouse\n",
      "\n",
      "Calling with *tuple:\n",
      "Report -> Item: 456, Status: COMPLETE, User: david, Location: unknown\n",
      "\n",
      "Caught expected TypeError (too many pos args): report() takes 3 positional arguments but 4 were given\n",
      "\n",
      "Calling with **dict:\n",
      "Report -> Item: 789, Status: ERROR, User: eve, Location: server-room\n",
      "\n",
      "Calling with combined unpacking:\n",
      "Report -> Item: 999, Status: APPROVED, User: frank, Location: office\n",
      "\n",
      "Caught expected TypeError (duplicate arg): __main__.report() got multiple values for keyword argument 'status'\n"
     ]
    }
   ],
   "source": [
    "def report(item_id: int, status: str, user: str, *, location: str = 'unknown') -> None:\n",
    "    \"\"\"Generates a simple report.\"\"\"\n",
    "    print(f\"Report -> Item: {item_id}, Status: {status}, User: {user}, Location: {location}\")\n",
    "\n",
    "print(\"--- Unpacking Arguments --- \")\n",
    "\n",
    "# --- Unpacking positional arguments with * --- \n",
    "positional_args_list = [123, \"PENDING\", \"charlie\"]\n",
    "positional_args_tuple = (456, \"COMPLETE\", \"david\")\n",
    "\n",
    "print(\"Calling with *list:\")\n",
    "report(*positional_args_list, location='warehouse') # location passed explicitly\n",
    "\n",
    "print(\"\\nCalling with *tuple:\")\n",
    "report(*positional_args_tuple)\n",
    "\n",
    "# Error: Too many arguments if list/tuple size doesn't match positional params\n",
    "try:\n",
    "    report(*[1, 2, 3, 4])\n",
    "except TypeError as e:\n",
    "    print(f\"\\nCaught expected TypeError (too many pos args): {e}\")\n",
    "\n",
    "# --- Unpacking keyword arguments with ** --- \n",
    "keyword_args_dict = {\n",
    "    'item_id': 789,\n",
    "    'status': \"ERROR\",\n",
    "    'user': \"eve\",\n",
    "    'location': \"server-room\" # Can unpack keyword-only args too\n",
    "}\n",
    "\n",
    "print(\"\\nCalling with **dict:\")\n",
    "report(**keyword_args_dict)\n",
    "\n",
    "# --- Combining positional, keyword, and unpacked arguments --- \n",
    "common_details = {'status': 'APPROVED', 'location': 'office'}\n",
    "user_info = ['frank']\n",
    "\n",
    "print(\"\\nCalling with combined unpacking:\")\n",
    "# report(999, *user_info, **common_details)\n",
    "report(999, common_details['status'], *user_info, location=common_details['location'])\n",
    "\n",
    "# Pitfall: Cannot have duplicate arguments\n",
    "try:\n",
    "    report(111, status='NEW', *['gabriel'], **{'status': 'OLD', 'location': 'A'})\n",
    "except TypeError as e:\n",
    "    # TypeError: report() got multiple values for argument 'status'\n",
    "    print(f\"\\nCaught expected TypeError (duplicate arg): {e}\")"
   ]
  },
  {
   "cell_type": "markdown",
   "metadata": {},
   "source": [
    "## 7. Extended Iterable Unpacking in Assignments (PEP 3132)\n",
    "\n",
    "Use `*` on the left-hand side of an assignment to capture multiple items from an iterable into a list.\n",
    "\n",
    "*   Only one `*` expression is allowed per assignment.\n",
    "*   The `*` expression always results in a **list**, even if unpacking a tuple or other iterable type.\n",
    "*   It can capture zero items if necessary."
   ]
  },
  {
   "cell_type": "code",
   "execution_count": 14,
   "metadata": {},
   "outputs": [
    {
     "ename": "SyntaxError",
     "evalue": "closing parenthesis '}' does not match opening parenthesis '(' (3308362180.py, line 8)",
     "output_type": "error",
     "traceback": [
      "  \u001b[36mCell\u001b[39m\u001b[36m \u001b[39m\u001b[32mIn[14]\u001b[39m\u001b[32m, line 8\u001b[39m\n\u001b[31m    \u001b[39m\u001b[31mprint(f\"middle: {middle} (type: {type(middle})\") # Always a list\u001b[39m\n                                                ^\n\u001b[31mSyntaxError\u001b[39m\u001b[31m:\u001b[39m closing parenthesis '}' does not match opening parenthesis '('\n"
     ]
    }
   ],
   "source": [
    "numbers = list(range(1, 9)) # [1, 2, 3, 4, 5, 6, 7, 8]\n",
    "print(f\"Original list: {numbers}\")\n",
    "\n",
    "# Capture first, last, and middle elements\n",
    "first, *middle, last = numbers\n",
    "print(\"\\n--- Unpacking first, *middle, last ---\")\n",
    "print(f\"first: {first} (type: {type(first)})\")\n",
    "print(f\"middle: {middle} (type: {type(middle})\") # Always a list\n",
    "print(f\"last: {last} (type: {type(last)})\")\n",
    "\n",
    "# Capture first two, rest\n",
    "a, b, *rest = numbers\n",
    "print(\"\\n--- Unpacking a, b, *rest ---\")\n",
    "print(f\"a: {a}\")\n",
    "print(f\"b: {b}\")\n",
    "print(f\"rest: {rest}\")\n",
    "\n",
    "# Capture only the rest (first is ignored conceptually)\n",
    "*head, tail = numbers\n",
    "print(\"\\n--- Unpacking *head, tail ---\")\n",
    "print(f\"head: {head}\")\n",
    "print(f\"tail: {tail}\")\n",
    "\n",
    "# Works with short sequences\n",
    "short_list = [10, 20]\n",
    "x, *y, z = short_list\n",
    "print(\"\\n--- Unpacking short list [10, 20] -> x, *y, z ---\")\n",
    "print(f\"x: {x}\")\n",
    "print(f\"y: {y}\") # Captures zero items\n",
    "print(f\"z: {z}\")\n",
    "\n",
    "# Unpacking in loops\n",
    "points = [(1, 2, 3), (4, 5, 6), (7, 8, 9)]\n",
    "print(\"\\n--- Unpacking in for loop ---\")\n",
    "for x, *coords_yz in points:\n",
    "    print(f\"x = {x}, yz_coords = {coords_yz}\")"
   ]
  },
  {
   "cell_type": "markdown",
   "metadata": {},
   "source": [
    "## 8. Merging Iterables and Dictionaries (PEP 448)\n",
    "\n",
    "Since Python 3.5, `*` and `**` can be used inside list, tuple, set, and dictionary literals for cleaner merging/construction.\n",
    "\n",
    "*   `*iterable`: Unpacks `iterable` into the container being created.\n",
    "*   `**mapping`: Unpacks key-value pairs from `mapping` into a dictionary literal."
   ]
  },
  {
   "cell_type": "code",
   "execution_count": null,
   "metadata": {},
   "outputs": [],
   "source": [
    "list1 = [1, 2, 3]\n",
    "tuple1 = (4, 5, 6)\n",
    "set1 = {7, 8}\n",
    "string1 = \"90\"\n",
    "\n",
    "# --- Merging into Lists --- \n",
    "merged_list = [*list1, *tuple1, *set1, *string1] # Unpacks string into chars\n",
    "print(f\"Merged List: {merged_list}\")\n",
    "\n",
    "# --- Merging into Tuples --- \n",
    "merged_tuple = (*list1, *range(10, 12))\n",
    "print(f\"Merged Tuple: {merged_tuple}\")\n",
    "\n",
    "# --- Merging into Sets --- \n",
    "# Duplicates are automatically handled by the set\n",
    "merged_set = {*list1, *[3, 4, 10], *set1}\n",
    "print(f\"Merged Set: {merged_set}\")\n",
    "\n",
    "# --- Merging Dictionaries --- \n",
    "dict1 = {'a': 1, 'b': 2}\n",
    "dict2 = {'b': 3, 'c': 4} # 'b' key exists in both\n",
    "dict3 = {'d': 5}\n",
    "\n",
    "# Later keys overwrite earlier keys\n",
    "merged_dict = {**dict1, **dict2, **dict3, 'e': 6} \n",
    "print(f\"Merged Dict: {merged_dict}\") # {'a': 1, 'b': 3, 'c': 4, 'd': 5, 'e': 6}\n",
    "\n",
    "# Note: This dictionary merging is equivalent to using dict.update() multiple times\n",
    "# merged = dict1.copy()\n",
    "# merged.update(dict2)\n",
    "# merged.update(dict3)\n",
    "# merged['e'] = 6"
   ]
  },
  {
   "cell_type": "markdown",
   "metadata": {},
   "source": [
    "## 9. Distinguishing from Matrix Multiplication (`@`)\n",
    "\n",
    "Python 3.5 also introduced the `@` operator primarily for matrix multiplication, often used by libraries like NumPy. This is distinct from the asterisk operators.\n",
    "\n",
    "```python\n",
    "# Example (requires NumPy: pip install numpy)\n",
    "import numpy as np\n",
    "matrix_a = np.array([[1, 2], [3, 4]])\n",
    "matrix_b = np.array([[5, 6], [7, 8]])\n",
    "\n",
    "# Element-wise multiplication\n",
    "element_wise = matrix_a * matrix_b \n",
    "# [[ 5 12]\n",
    "#  [21 32]]\n",
    "\n",
    "# Matrix multiplication\n",
    "matrix_product = matrix_a @ matrix_b \n",
    "# [[19 22]\n",
    "#  [43 50]]\n",
    "```"
   ]
  },
  {
   "cell_type": "markdown",
   "metadata": {},
   "source": [
    "## 10. Best Practices & Pitfalls\n",
    "\n",
    "**Best Practices:**\n",
    "*   **`*args`/`**kwargs` Naming:** Stick to the conventions `args` and `kwargs` for readability.\n",
    "*   **Keyword-Only Arguments:** Use `*` to enforce keyword-only arguments for clarity and API stability.\n",
    "*   **Unpacking for Readability:** Use `*`/`**` unpacking in function calls when passing arguments from existing iterables/mappings – it's often cleaner than manual indexing/lookup.\n",
    "*   **PEP 448 Merging:** Prefer `*`/`**` unpacking in literals for merging over older methods like concatenation or `dict.update()` where appropriate and readable.\n",
    "*   **Extended Unpacking:** Use `*` in assignments for elegant extraction of parts of a sequence.\n",
    "\n",
    "**Pitfalls:**\n",
    "*   **Mutable Sequence Repetition:** Using `*` to create lists/tuples of mutable objects (e.g., `[[]] * 3`) leads to shared references, not independent copies.\n",
    "*   **Argument Mismatches:** Providing the wrong number of items when unpacking into function arguments (`*`) or incorrect/missing keys when unpacking dictionaries (`**`).\n",
    "*   **Duplicate Arguments:** Unpacking can lead to TypeError if an argument is provided both positionally/by keyword and via unpacking.\n",
    "*   **Dictionary Key Types (`**`):** Keys in dictionaries unpacked with `**` (both in function calls and dictionary literals) *must* be strings.\n",
    "*   **Readability:** While powerful, excessive or nested unpacking can sometimes make code harder to follow. Balance conciseness with clarity."
   ]
  },
  {
   "cell_type": "markdown",
   "metadata": {},
   "source": [
    "## 11. Interview Questions\n",
    "\n",
    "1.  List different uses of the single asterisk (`*`) in Python.\n",
    "2.  Explain `*args` and `**kwargs`. What data types do they become inside the function?\n",
    "3.  How can you force function arguments to be keyword-only?\n",
    "4.  Show how to pass a list of values as separate positional arguments to a function.\n",
    "5.  Show how to pass a dictionary of values as keyword arguments to a function.\n",
    "6.  What does `first, *rest = my_list` do?\n",
    "7.  How can you merge two dictionaries into a new one using `**`?\n",
    "8.  What is a potential issue when using `*` for list repetition (e.g., `[[]] * 5`)?"
   ]
  },
  {
   "cell_type": "markdown",
   "metadata": {},
   "source": [
    "## 12. Challenge: Flexible Data Logger\n",
    "\n",
    "**Goal:** Create a function that logs data flexibly, accepting mandatory info, variable positional details, and optional keyword metadata.\n",
    "\n",
    "**Tasks:**\n",
    "\n",
    "1.  **Define Function Signature:** Create a function `log_event(event_type: str, *details: Any, **metadata: Any) -> None`.\n",
    "2.  **Implementation:**\n",
    "    *   Print the mandatory `event_type`.\n",
    "    *   Print each item received in `details` (the `*args`).\n",
    "    *   Print each key-value pair received in `metadata` (the `**kwargs`).\n",
    "3.  **Test Calls:** Call the function with various combinations:\n",
    "    *   Only the mandatory argument.\n",
    "    *   With positional details.\n",
    "    *   With keyword metadata.\n",
    "    *   With both positional and keyword extras.\n",
    "4.  **Unpacking Call:**\n",
    "    *   Create a list `event_details = ['User logged in', 'Success']`.\n",
    "    *   Create a dictionary `event_meta = {'user_id': 123, 'ip_address': '192.168.1.100'}`.\n",
    "    *   Call `log_event` using `*` and `**` to unpack `event_details` and `event_meta` into the function call, providing the `event_type` normally.\n",
    "\n",
    "**(Bonus):** Modify the function signature to include a keyword-only argument `severity: str = 'INFO'` after `*details`."
   ]
  },
  {
   "cell_type": "code",
   "execution_count": null,
   "metadata": {},
   "outputs": [],
   "source": [
    "# --- Solution Space for Challenge ---\n",
    "from typing import Any, Tuple, Dict\n",
    "\n",
    "# Bonus: Add keyword-only severity\n",
    "def log_event(event_type: str, *details: Any, severity: str = 'INFO', **metadata: Any) -> None:\n",
    "    \"\"\"Logs an event with flexible details and metadata.\"\"\"\n",
    "    print(f\"\\n--- Logging Event --- \")\n",
    "    print(f\"[{severity}] Event Type: {event_type}\")\n",
    "    \n",
    "    if details:\n",
    "        print(\"  Details (*args):\")\n",
    "        for i, detail in enumerate(details):\n",
    "            print(f\"    - {detail!r}\")\n",
    "            \n",
    "    if metadata:\n",
    "        print(\"  Metadata (**kwargs):\")\n",
    "        for key, value in metadata.items():\n",
    "            print(f\"    - {key}: {value!r}\")\n",
    "\n",
    "# --- Test Calls --- \n",
    "print(\"--- Direct Calls --- \")\n",
    "log_event(\"APP_START\")\n",
    "log_event(\"USER_ACTION\", \"Button Clicked\", \"Save\", severity='DEBUG') # Use severity\n",
    "log_event(\"DB_QUERY\", query_time=0.05, rows_affected=10)\n",
    "log_event(\"SYSTEM_ERROR\", \"Division by zero\", 500, severity='ERROR', traceback='...')\n",
    "\n",
    "# --- Unpacking Call --- \n",
    "print(\"\\n--- Unpacking Call --- \")\n",
    "event_details = ['User logged out', 'Normal']\n",
    "event_meta = {'user_id': 456, 'session_duration': 125.5}\n",
    "\n",
    "# Pass severity explicitly when unpacking, as it's keyword-only\n",
    "log_event(\"SESSION_END\", *event_details, severity='WARN', **event_meta)"
   ]
  },
  {
   "cell_type": "markdown",
   "metadata": {},
   "source": [
    "## 13. Conclusion\n",
    "\n",
    "The asterisk (`*` and `**`) operators are powerful tools in Python that go far beyond simple multiplication. They enable flexible function definitions (`*args`, `**kwargs`, keyword-only arguments), convenient function calls (argument unpacking), elegant sequence manipulation (repetition, assignment unpacking), and modern container merging.\n",
    "\n",
    "By understanding the different contexts in which these operators appear and applying them appropriately, you can write more concise, readable, and flexible Python code, effectively handling variable arguments and manipulating iterable/mapping structures."
   ]
  }
 ],
 "metadata": {
  "kernelspec": {
   "display_name": "Python 3",
   "language": "python",
   "name": "python3"
  },
  "language_info": {
   "codemirror_mode": {
    "name": "ipython",
    "version": 3
   },
   "file_extension": ".py",
   "mimetype": "text/x-python",
   "name": "python",
   "nbconvert_exporter": "python",
   "pygments_lexer": "ipython3",
   "version": "3.13.3"
  }
 },
 "nbformat": 4,
 "nbformat_minor": 5
}
