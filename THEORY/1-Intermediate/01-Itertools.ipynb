{
 "cells": [
  {
   "cell_type": "markdown",
   "metadata": {},
   "source": [
    "# Python Fundamentals: `itertools` - Iterator Power Tools"
   ]
  },
  {
   "cell_type": "markdown",
   "metadata": {},
   "source": [
    "## Introduction\n",
    "\n",
    "The `itertools` module provides a collection of functions for creating and working with iterators in a memory-efficient and computationally effective way. Iterators are objects that produce items one at a time, allowing you to process potentially large sequences without loading everything into memory at once (lazy evaluation).\n",
    "\n",
    "`itertools` offers building blocks for:\n",
    "*   **Combinatorics:** Generating permutations, combinations, and Cartesian products.\n",
    "*   **Infinite Iterators:** Creating sequences that can theoretically go on forever (e.g., counters, cycling iterables).\n",
    "*   **Terminating Iterators:** Operating on iterables based on conditions or slicing.\n",
    "*   **Grouping & Accumulating:** Functions like `groupby` and `accumulate`.\n",
    "\n",
    "**Key Concept:** Most `itertools` functions return iterators. To see all the results at once, you often need to consume the iterator, for example, by converting it to a `list()`."
   ]
  },
  {
   "cell_type": "markdown",
   "metadata": {},
   "source": [
    "## Real-World Analogies & Use Cases\n",
    "\n",
    "*   **Combinations/Permutations:** Generating possible lottery number combinations, password guesses (for testing), unique pairings for a tournament, possible orderings for tasks.\n",
    "*   **Data Processing Pipelines:** Chaining iterators together to perform multiple operations (filter, map, accumulate) on data streams efficiently.\n",
    "*   **Resource Management:** Cycling through a limited pool of resources (e.g., API keys, worker threads).\n",
    "*   **Generating Test Data:** Creating sequences with specific patterns or infinite streams for testing purposes.\n",
    "*   **Mathematical Sequences:** Generating sequences like running totals or factorials."
   ]
  },
  {
   "cell_type": "markdown",
   "metadata": {},
   "source": [
    "## 1. Combinatoric Iterators\n",
    "\n",
    "These functions generate combinations, permutations, and products of input iterables."
   ]
  },
  {
   "cell_type": "markdown",
   "metadata": {},
   "source": [
    "### `itertools.product(*iterables, repeat=1)`\n",
    "\n",
    "**Explain:** Computes the Cartesian product of input iterables. Equivalent to nested for-loops. Order matters, elements can be repeated across iterables."
   ]
  },
  {
   "cell_type": "code",
   "execution_count": 1,
   "metadata": {},
   "outputs": [
    {
     "name": "stdout",
     "output_type": "stream",
     "text": [
      "Product of ['A', 'B'] and [1, 2, 3]:\n",
      "[('A', 1), ('A', 2), ('A', 3), ('B', 1), ('B', 2), ('B', 3)]\n",
      "\n",
      "Product of [1, 2] with repeat=2:\n",
      "[(1, 1), (1, 2), (2, 1), (2, 2)]\n"
     ]
    }
   ],
   "source": [
    "from itertools import product\n",
    "from typing import List, Tuple, Iterator\n",
    "\n",
    "# Demonstrate: Product of two iterables\n",
    "letters: List[str] = ['A', 'B']\n",
    "numbers: List[int] = [1, 2, 3]\n",
    "prod_iterator: Iterator[Tuple[str, int]] = product(letters, numbers)\n",
    "\n",
    "print(f\"Product of {letters} and {numbers}:\")\n",
    "print(list(prod_iterator)) # Consume iterator to see results\n",
    "# Output: [('A', 1), ('A', 2), ('A', 3), ('B', 1), ('B', 2), ('B', 3)]\n",
    "\n",
    "# Demonstrate: Product with repeat (product of an iterable with itself)\n",
    "die_faces: List[int] = [1, 2]\n",
    "two_dice_rolls: Iterator[Tuple[int, int]] = product(die_faces, repeat=2) # Same as product(die_faces, die_faces)\n",
    "print(f\"\\nProduct of {die_faces} with repeat=2:\")\n",
    "print(list(two_dice_rolls))\n",
    "# Output: [(1, 1), (1, 2), (2, 1), (2, 2)]"
   ]
  },
  {
   "cell_type": "markdown",
   "metadata": {},
   "source": [
    "### `itertools.permutations(iterable, r=None)`\n",
    "\n",
    "**Explain:** Returns successive `r`-length permutations of elements in the iterable. Order matters, elements are treated as unique based on position (not value), and **no** element is repeated within a single permutation tuple. If `r` is not specified or is None, `r` defaults to the length of the iterable."
   ]
  },
  {
   "cell_type": "code",
   "execution_count": 2,
   "metadata": {},
   "outputs": [
    {
     "name": "stdout",
     "output_type": "stream",
     "text": [
      "All permutations of ['a', 'b', 'c']:\n",
      "[('a', 'b', 'c'), ('a', 'c', 'b'), ('b', 'a', 'c'), ('b', 'c', 'a'), ('c', 'a', 'b'), ('c', 'b', 'a')]\n",
      "\n",
      "Permutations of ['a', 'b', 'c'] with r=2:\n",
      "[('a', 'b'), ('a', 'c'), ('b', 'a'), ('b', 'c'), ('c', 'a'), ('c', 'b')]\n",
      "\n",
      "Permutations of ['a', 'a', 'b'] (elements unique by position):\n",
      "[('a', 'a', 'b'), ('a', 'b', 'a'), ('a', 'a', 'b'), ('a', 'b', 'a'), ('b', 'a', 'a'), ('b', 'a', 'a')]\n"
     ]
    }
   ],
   "source": [
    "from itertools import permutations\n",
    "\n",
    "# Demonstrate: All permutations of length 3\n",
    "items: List[str] = ['a', 'b', 'c']\n",
    "perm_all: Iterator[Tuple[str, ...]] = permutations(items) # r defaults to len(items)\n",
    "print(f\"All permutations of {items}:\")\n",
    "print(list(perm_all))\n",
    "# Output: [('a', 'b', 'c'), ('a', 'c', 'b'), ('b', 'a', 'c'), ('b', 'c', 'a'), ('c', 'a', 'b'), ('c', 'b', 'a')]\n",
    "\n",
    "# Demonstrate: Permutations of length 2\n",
    "perm_r2: Iterator[Tuple[str, str]] = permutations(items, r=2)\n",
    "print(f\"\\nPermutations of {items} with r=2:\")\n",
    "print(list(perm_r2))\n",
    "# Output: [('a', 'b'), ('a', 'c'), ('b', 'a'), ('b', 'c'), ('c', 'a'), ('c', 'b')]\n",
    "\n",
    "# Demonstrate: Permutations with repeated elements in input\n",
    "items_repeated: List[str] = ['a', 'a', 'b']\n",
    "perm_repeated: Iterator[Tuple[str, ...]] = permutations(items_repeated)\n",
    "print(f\"\\nPermutations of {items_repeated} (elements unique by position):\")\n",
    "print(list(perm_repeated))\n",
    "# Output: [('a', 'a', 'b'), ('a', 'b', 'a'), ('a', 'a', 'b'), ('a', 'b', 'a'), ('b', 'a', 'a'), ('b', 'a', 'a')]"
   ]
  },
  {
   "cell_type": "markdown",
   "metadata": {},
   "source": [
    "### `itertools.combinations(iterable, r)`\n",
    "\n",
    "**Explain:** Returns `r`-length subsequences (combinations) of elements from the input iterable. Order does **not** matter within a combination, and elements are treated as unique based on their value. **No** element is repeated within a single combination tuple. `r` is mandatory."
   ]
  },
  {
   "cell_type": "code",
   "execution_count": 3,
   "metadata": {},
   "outputs": [
    {
     "name": "stdout",
     "output_type": "stream",
     "text": [
      "Combinations of ['a', 'b', 'c', 'd'] with r=2 (order doesn't matter, no repeats):\n",
      "[('a', 'b'), ('a', 'c'), ('a', 'd'), ('b', 'c'), ('b', 'd'), ('c', 'd')]\n",
      "\n",
      "Combinations of ['a', 'a', 'b'] with r=2:\n",
      "[('a', 'a'), ('a', 'b'), ('a', 'b')]\n"
     ]
    }
   ],
   "source": [
    "from itertools import combinations\n",
    "\n",
    "items: List[str] = ['a', 'b', 'c', 'd']\n",
    "r_value: int = 2\n",
    "\n",
    "comb: Iterator[Tuple[str, str]] = combinations(items, r=r_value)\n",
    "print(f\"Combinations of {items} with r={r_value} (order doesn't matter, no repeats):\")\n",
    "print(list(comb))\n",
    "# Output: [('a', 'b'), ('a', 'c'), ('a', 'd'), ('b', 'c'), ('b', 'd'), ('c', 'd')]\n",
    "\n",
    "# Note: ('b', 'a') is NOT included because it's the same combination as ('a', 'b')\n",
    "\n",
    "# Demonstrate: Combinations with repeated input elements (only unique combinations output)\n",
    "items_repeated: List[str] = ['a', 'a', 'b']\n",
    "comb_repeated: Iterator[Tuple[str, str]] = combinations(items_repeated, r=2)\n",
    "print(f\"\\nCombinations of {items_repeated} with r=2:\")\n",
    "print(list(comb_repeated))\n",
    "# Output: [('a', 'a'), ('a', 'b')]"
   ]
  },
  {
   "cell_type": "markdown",
   "metadata": {},
   "source": [
    "### `itertools.combinations_with_replacement(iterable, r)`\n",
    "\n",
    "**Explain:** Returns `r`-length subsequences of elements from the input iterable, allowing individual elements to be repeated within a combination. Order still does **not** matter."
   ]
  },
  {
   "cell_type": "code",
   "execution_count": 4,
   "metadata": {},
   "outputs": [
    {
     "name": "stdout",
     "output_type": "stream",
     "text": [
      "Combinations with replacement of ['a', 'b', 'c'] with r=2:\n",
      "[('a', 'a'), ('a', 'b'), ('a', 'c'), ('b', 'b'), ('b', 'c'), ('c', 'c')]\n"
     ]
    }
   ],
   "source": [
    "from itertools import combinations_with_replacement\n",
    "\n",
    "items: List[str] = ['a', 'b', 'c']\n",
    "r_value: int = 2\n",
    "\n",
    "comb_wr: Iterator[Tuple[str, str]] = combinations_with_replacement(items, r=r_value)\n",
    "print(f\"Combinations with replacement of {items} with r={r_value}:\")\n",
    "print(list(comb_wr))\n",
    "# Output: [('a', 'a'), ('a', 'b'), ('a', 'c'), ('b', 'b'), ('b', 'c'), ('c', 'c')]"
   ]
  },
  {
   "cell_type": "markdown",
   "metadata": {},
   "source": [
    "## 2. Terminating Iterators\n",
    "\n",
    "These functions operate on input iterables and produce shorter sequences based on filtering or slicing."
   ]
  },
  {
   "cell_type": "markdown",
   "metadata": {},
   "source": [
    "### `itertools.accumulate(iterable, func=operator.add)`\n",
    "\n",
    "**Explain:** Returns accumulated results of applying a binary function (defaulting to sum) to the items of the iterable."
   ]
  },
  {
   "cell_type": "code",
   "execution_count": 5,
   "metadata": {},
   "outputs": [
    {
     "name": "stdout",
     "output_type": "stream",
     "text": [
      "Accumulated sums of [1, 2, 3, 4, 5]:\n",
      "[1, 3, 6, 10, 15]\n",
      "\n",
      "Accumulated products of [1, 2, 3, 4, 5]:\n",
      "[1, 2, 6, 24, 120]\n",
      "\n",
      "Accumulated maximum of [3, 1, 4, 1, 5, 9, 2]:\n",
      "[3, 3, 4, 4, 5, 9, 9]\n"
     ]
    }
   ],
   "source": [
    "from itertools import accumulate\n",
    "import operator\n",
    "\n",
    "numbers: List[int] = [1, 2, 3, 4, 5]\n",
    "\n",
    "# Demonstrate: Accumulated sums (default)\n",
    "acc_sum: Iterator[int] = accumulate(numbers)\n",
    "print(f\"Accumulated sums of {numbers}:\")\n",
    "print(list(acc_sum))\n",
    "# Output: [1, 3, 6, 10, 15]\n",
    "\n",
    "# Demonstrate: Accumulated products\n",
    "acc_prod: Iterator[int] = accumulate(numbers, func=operator.mul)\n",
    "print(f\"\\nAccumulated products of {numbers}:\")\n",
    "print(list(acc_prod))\n",
    "# Output: [1, 2, 6, 24, 120]\n",
    "\n",
    "# Demonstrate: Accumulated maximum\n",
    "data: List[int] = [3, 1, 4, 1, 5, 9, 2]\n",
    "acc_max: Iterator[int] = accumulate(data, func=max)\n",
    "print(f\"\\nAccumulated maximum of {data}:\")\n",
    "print(list(acc_max))\n",
    "# Output: [3, 3, 4, 4, 5, 9, 9]"
   ]
  },
  {
   "cell_type": "markdown",
   "metadata": {},
   "source": [
    "### `itertools.groupby(iterable, key=None)`\n",
    "\n",
    "**Explain:** Groups consecutive elements from the iterable that have the same key. Returns pairs of `(key, group_iterator)`.\n",
    "\n",
    "**CRITICAL PITFALL:** The iterable **must already be sorted** based on the same key function for `groupby` to work as expected. It only groups *consecutive* identical keys."
   ]
  },
  {
   "cell_type": "code",
   "execution_count": 6,
   "metadata": {},
   "outputs": [
    {
     "name": "stdout",
     "output_type": "stream",
     "text": [
      "Grouping sorted [1, 1, 1, 1, 2, 2, 2, 3, 4, 4] by even/odd:\n",
      "- Key: odd, Group: [1, 1, 1, 1]\n",
      "- Key: even, Group: [2, 2, 2]\n",
      "- Key: odd, Group: [3]\n",
      "- Key: even, Group: [4, 4]\n",
      "\n",
      "Grouping persons by city (after sorting):\n",
      "- City: London\n",
      "    - Bob\n",
      "    - David\n",
      "- City: New York\n",
      "    - Alice\n",
      "    - Charlie\n",
      "- City: Tokyo\n",
      "    - Eve\n"
     ]
    }
   ],
   "source": [
    "from itertools import groupby\n",
    "from typing import Dict, Any\n",
    "\n",
    "# Demonstrate: Grouping numbers by even/odd\n",
    "numbers: List[int] = [1, 1, 2, 2, 2, 3, 4, 4, 1, 1] # MUST be sorted by key for correct grouping\n",
    "numbers.sort() # Sort first!\n",
    "\n",
    "def get_key(x): return \"even\" if x % 2 == 0 else \"odd\"\n",
    "\n",
    "group_obj = groupby(numbers, key=get_key)\n",
    "print(f\"Grouping sorted {numbers} by even/odd:\")\n",
    "for key, group in group_obj:\n",
    "    print(f\"- Key: {key}, Group: {list(group)}\")\n",
    "# Output (after sorting): \n",
    "# - Key: odd, Group: [1, 1, 1, 1]\n",
    "# - Key: even, Group: [2, 2, 2]\n",
    "# - Key: odd, Group: [3]\n",
    "# - Key: even, Group: [4, 4]\n",
    "\n",
    "# Demonstrate: Grouping dictionaries by a key value\n",
    "persons: List[Dict[str, Any]] = [\n",
    "    {'name': 'Alice', 'city': 'New York'}, \n",
    "    {'name': 'Bob', 'city': 'London'}, \n",
    "    {'name': 'Charlie', 'city': 'New York'}, \n",
    "    {'name': 'David', 'city': 'London'}, \n",
    "    {'name': 'Eve', 'city': 'Tokyo'}\n",
    "]\n",
    "\n",
    "# Sort by the key we want to group by\n",
    "persons.sort(key=lambda p: p['city'])\n",
    "\n",
    "group_by_city = groupby(persons, key=lambda p: p['city'])\n",
    "print(\"\\nGrouping persons by city (after sorting):\")\n",
    "for key, group in group_by_city:\n",
    "    print(f\"- City: {key}\")\n",
    "    for person in group:\n",
    "        print(f\"    - {person['name']}\")\n",
    "# Output (order might vary slightly based on sort stability):\n",
    "# - City: London\n",
    "#     - Bob\n",
    "#     - David\n",
    "# - City: New York\n",
    "#     - Alice\n",
    "#     - Charlie\n",
    "# - City: Tokyo\n",
    "#     - Eve"
   ]
  },
  {
   "cell_type": "markdown",
   "metadata": {},
   "source": [
    "### Other Terminating Iterators (Briefly)\n",
    "\n",
    "*   **`itertools.filterfalse(predicate, iterable)`:** Returns elements for which the predicate function is false.\n",
    "*   **`itertools.takewhile(predicate, iterable)`:** Returns elements as long as the predicate function is true. Stops at the first false element.\n",
    "*   **`itertools.dropwhile(predicate, iterable)`:** Skips elements while the predicate function is true, then returns the rest of the elements.\n",
    "*   **`itertools.islice(iterable, start, stop[, step])`:** Returns a slice of the iterator, similar to list slicing but works on any iterator."
   ]
  },
  {
   "cell_type": "code",
   "execution_count": 7,
   "metadata": {},
   "outputs": [
    {
     "name": "stdout",
     "output_type": "stream",
     "text": [
      "filterfalse (x < 3): [3, 4, 5]\n",
      "takewhile (x < 4): [1, 2, 3]\n",
      "dropwhile (x < 4): [4, 5, 1, 2]\n",
      "islice(2, 6, 2): [3, 5]\n"
     ]
    }
   ],
   "source": [
    "from itertools import filterfalse, takewhile, dropwhile, islice\n",
    "\n",
    "numbers: List[int] = [1, 2, 3, 4, 5, 1, 2]\n",
    "\n",
    "ff = filterfalse(lambda x: x < 3, numbers) # Keep elements >= 3\n",
    "print(f\"filterfalse (x < 3): {list(ff)}\")\n",
    "\n",
    "tw = takewhile(lambda x: x < 4, numbers)    # Take while elements < 4\n",
    "print(f\"takewhile (x < 4): {list(tw)}\")\n",
    "\n",
    "dw = dropwhile(lambda x: x < 4, numbers)    # Drop while elements < 4, take rest\n",
    "print(f\"dropwhile (x < 4): {list(dw)}\")\n",
    "\n",
    "sl = islice(numbers, 2, 6, 2)            # Slice from index 2 up to 6, step 2\n",
    "print(f\"islice(2, 6, 2): {list(sl)}\")"
   ]
  },
  {
   "cell_type": "markdown",
   "metadata": {},
   "source": [
    "## 3. Infinite Iterators\n",
    "\n",
    "These functions generate sequences that can continue indefinitely. \n",
    "\n",
    "**WARNING:** Always use a termination condition (like a `break` statement in a loop, or combine with `islice` or `takewhile`) when working with infinite iterators to avoid infinite loops!"
   ]
  },
  {
   "cell_type": "code",
   "execution_count": 8,
   "metadata": {},
   "outputs": [
    {
     "name": "stdout",
     "output_type": "stream",
     "text": [
      "Count from 5 (first 4 values):\n",
      "5\n",
      "7\n",
      "9\n",
      "11\n",
      "\n",
      "Cycle through 'ABC' (first 7 values):\n",
      "['A', 'B', 'C', 'A', 'B', 'C', 'A']\n",
      "\n",
      "Repeat 'X' 4 times:\n",
      "['X', 'X', 'X', 'X']\n",
      "\n",
      "First 5 from infinite repeat(10): [10, 10, 10, 10, 10]\n"
     ]
    }
   ],
   "source": [
    "from itertools import count, cycle, repeat\n",
    "\n",
    "# Demonstrate: count(start=0, step=1)\n",
    "print(\"Count from 5 (first 4 values):\")\n",
    "counter = count(5, 2) # Start at 5, step by 2\n",
    "for i in range(4):\n",
    "    print(next(counter))\n",
    "# Output: 5, 7, 9, 11\n",
    "\n",
    "# Demonstrate: cycle(iterable)\n",
    "print(\"\\nCycle through 'ABC' (first 7 values):\")\n",
    "cycler = cycle('ABC')\n",
    "cycled_output: List[str] = [next(cycler) for _ in range(7)]\n",
    "print(cycled_output)\n",
    "# Output: ['A', 'B', 'C', 'A', 'B', 'C', 'A']\n",
    "\n",
    "# Demonstrate: repeat(object, times=None)\n",
    "# Repeats 'object' indefinitely if 'times' is None, otherwise 'times' times.\n",
    "print(\"\\nRepeat 'X' 4 times:\")\n",
    "repeater = repeat('X', times=4)\n",
    "print(list(repeater))\n",
    "# Output: ['X', 'X', 'X', 'X']\n",
    "\n",
    "# Example of infinite repeat needing termination (use islice)\n",
    "infinite_repeater = repeat(10)\n",
    "first_five = islice(infinite_repeater, 5) # Take only the first 5\n",
    "print(f\"\\nFirst 5 from infinite repeat(10): {list(first_five)}\")\n",
    "# Output: [10, 10, 10, 10, 10]"
   ]
  },
  {
   "cell_type": "markdown",
   "metadata": {},
   "source": [
    "## 4. Combining Iterators\n",
    "\n",
    "### `itertools.chain(*iterables)`\n",
    "\n",
    "**Explain:** Chains multiple iterables together into a single iterator."
   ]
  },
  {
   "cell_type": "code",
   "execution_count": 9,
   "metadata": {},
   "outputs": [
    {
     "name": "stdout",
     "output_type": "stream",
     "text": [
      "Chained iterator from [1, 2, 3], ('a', 'b'), 'XYZ':\n",
      "[1, 2, 3, 'a', 'b', 'X', 'Y', 'Z']\n"
     ]
    }
   ],
   "source": [
    "from itertools import chain\n",
    "\n",
    "list1 = [1, 2, 3]\n",
    "tuple1 = ('a', 'b')\n",
    "string1 = \"XYZ\"\n",
    "\n",
    "chained_iterator = chain(list1, tuple1, string1)\n",
    "print(f\"Chained iterator from {list1}, {tuple1}, '{string1}':\")\n",
    "print(list(chained_iterator))\n",
    "# Output: [1, 2, 3, 'a', 'b', 'X', 'Y', 'Z']"
   ]
  },
  {
   "cell_type": "markdown",
   "metadata": {},
   "source": [
    "## Best Practices & Enterprise Context\n",
    "\n",
    "*   **Memory Efficiency:** `itertools` functions operate lazily, producing items one by one. This makes them ideal for working with very large datasets that wouldn't fit into memory all at once.\n",
    "*   **Composability:** `itertools` functions can be chained together to create complex data processing pipelines in a readable and efficient manner.\n",
    "*   **Avoid Premature Materialization:** Only convert an iterator to a list (`list(iterator)`) when you actually need the entire sequence stored in memory. Often, you can process items directly in a loop.\n",
    "*   **`groupby` Requires Sorting:** Always remember to sort your data by the grouping key *before* passing it to `groupby`.\n",
    "*   **Terminate Infinite Iterators:** Be extremely careful with `count`, `cycle`, and `repeat(obj)`. Always ensure there's logic (like `break`, `islice`, `takewhile`) to stop them eventually.\n",
    "*   **Readability:** Using `itertools` can sometimes make code more concise and declarative compared to manual loops, especially for combinatorics."
   ]
  },
  {
   "cell_type": "markdown",
   "metadata": {},
   "source": [
    "## Common Pitfalls & Interview Questions\n",
    "\n",
    "*   **Pitfall: Forgetting Iterators are Consumed:** Once you iterate through an iterator (e.g., by converting to a list or using it in a loop), it's exhausted. You need to recreate it if you want to iterate again.\n",
    "*   **Pitfall: `groupby` Without Sorting:** Applying `groupby` to unsorted data will likely not produce the desired grouping results, as it only groups *consecutive* identical keys.\n",
    "*   **Pitfall: Infinite Loops:** Forgetting to add termination conditions when using `count`, `cycle`, or `repeat()` without a `times` argument.\n",
    "*   **Pitfall: Not Materializing When Needed:** Sometimes you *do* need the full list (e.g., to get its length, access by index). Forgetting `list()` in those cases can lead to errors or unexpected behavior.\n",
    "\n",
    "*   **Interview Question:** \"What is the main advantage of using `itertools` functions?\"\n",
    "    *   *Answer:* Memory efficiency due to lazy evaluation (producing items one by one) and providing optimized, built-in functions for common iterator patterns (combinatorics, chaining, etc.).\n",
    "*   **Interview Question:** \"Explain the difference between `permutations` and `combinations`.\"\n",
    "    *   *Answer:* `permutations` considers order important and elements unique by position. `combinations` ignores order and considers elements unique by value (no repeats within a combination).\n",
    "*   **Interview Question:** \"What is a potential issue when using `itertools.groupby`?\"\n",
    "    *   *Answer:* It requires the input iterable to be sorted by the grouping key beforehand, as it only groups consecutive identical keys.\n",
    "*   **Interview Question:** \"How can you get the first 10 items from an infinite iterator created by `itertools.count()`?\"\n",
    "    *   *Answer:* Use `itertools.islice(count_iterator, 10)` or a loop with a counter and a `break` condition.\n",
    "*   **Interview Question:** \"What does `itertools.chain` do?\"\n",
    "    *   *Answer:* It takes multiple iterables as input and returns a single iterator that yields elements from the first iterable, then the second, and so on."
   ]
  },
  {
   "cell_type": "markdown",
   "metadata": {},
   "source": [
    "## 5. Challenge: Pair Up Teams\n",
    "\n",
    "Given a list of team names, generate all possible unique pairings for matches where the order of teams in a pair doesn't matter (e.g., Team A vs Team B is the same match as Team B vs Team A).\n",
    "\n",
    "1.  Use an appropriate `itertools` function to achieve this.\n",
    "2.  Write a function `generate_pairings` that takes a list of team names.\n",
    "3.  Return a list of tuples, where each tuple represents a unique pairing."
   ]
  },
  {
   "cell_type": "code",
   "execution_count": 10,
   "metadata": {},
   "outputs": [
    {
     "name": "stdout",
     "output_type": "stream",
     "text": [
      "Teams: ['Eagles', 'Sharks', 'Lions', 'Bears']\n",
      "Possible unique matches (6 total):\n",
      "- Eagles vs Sharks\n",
      "- Eagles vs Lions\n",
      "- Eagles vs Bears\n",
      "- Sharks vs Lions\n",
      "- Sharks vs Bears\n",
      "- Lions vs Bears\n",
      "\n",
      "Teams: ['Team A', 'Team B']\n",
      "Possible unique matches (1 total):\n",
      "- Team A vs Team B\n"
     ]
    }
   ],
   "source": [
    "from itertools import combinations\n",
    "from typing import List, Tuple, Iterator\n",
    "\n",
    "TeamPairing = Tuple[str, str]\n",
    "\n",
    "def generate_pairings(teams: List[str]) -> List[TeamPairing]:\n",
    "    \"\"\"Generates unique pairings (combinations of 2) from a list of teams.\n",
    "\n",
    "    Args:\n",
    "        teams: A list of team names.\n",
    "\n",
    "    Returns:\n",
    "        A list of tuples, each representing a unique pairing.\n",
    "    \"\"\"\n",
    "    if len(teams) < 2:\n",
    "        return [] # Cannot form pairs with less than 2 teams\n",
    "    \n",
    "    # combinations(teams, 2) is perfect: order doesn't matter, no repeats needed.\n",
    "    pairings_iterator: Iterator[TeamPairing] = combinations(teams, 2)\n",
    "    return list(pairings_iterator)\n",
    "\n",
    "# --- Test the function ---\n",
    "team_list = [\"Eagles\", \"Sharks\", \"Lions\", \"Bears\"]\n",
    "unique_matches = generate_pairings(team_list)\n",
    "\n",
    "print(f\"Teams: {team_list}\")\n",
    "print(f\"Possible unique matches ({len(unique_matches)} total):\")\n",
    "for match in unique_matches:\n",
    "    print(f\"- {match[0]} vs {match[1]}\")\n",
    "\n",
    "team_list_small = [\"Team A\", \"Team B\"]\n",
    "unique_matches_small = generate_pairings(team_list_small)\n",
    "print(f\"\\nTeams: {team_list_small}\")\n",
    "print(f\"Possible unique matches ({len(unique_matches_small)} total):\")\n",
    "for match in unique_matches_small:\n",
    "     print(f\"- {match[0]} vs {match[1]}\")"
   ]
  },
  {
   "cell_type": "markdown",
   "metadata": {},
   "source": [
    "## Quiz\n",
    "\n",
    "1.  Which `itertools` function computes the Cartesian product, similar to nested loops?\n",
    "    a) `permutations`\n",
    "    b) `combinations`\n",
    "    c) `product`\n",
    "    d) `chain`\n",
    "\n",
    "2.  If you want all possible unique pairs from `[1, 2, 3]` where order doesn't matter (e.g., (1, 2) but not (2, 1)), which function should you use?\n",
    "    a) `permutations([1, 2, 3], 2)`\n",
    "    b) `combinations([1, 2, 3], 2)`\n",
    "    c) `product([1, 2, 3], repeat=2)`\n",
    "    d) `accumulate([1, 2, 3], 2)`\n",
    "\n",
    "3.  What is essential before using `itertools.groupby` to group items effectively?\n",
    "    a) The iterable must contain only numbers.\n",
    "    b) The iterable must be converted to a list first.\n",
    "    c) The iterable must be sorted by the grouping key.\n",
    "    d) The key function must return a string.\n",
    "\n",
    "4.  Which of these creates an iterator that will eventually require a termination condition in a loop?\n",
    "    a) `combinations([1, 2, 3], 2)`\n",
    "    b) `islice('ABCDE', 5)`\n",
    "    c) `chain([1], [2])`\n",
    "    d) `cycle([0, 1])`\n",
    "\n",
    "*(Answers: 1-c, 2-b, 3-c, 4-d)*"
   ]
  },
  {
   "cell_type": "markdown",
   "metadata": {},
   "source": [
    "## Conclusion\n",
    "\n",
    "The `itertools` module is a treasure trove for Python developers working with sequences and iteration. Its functions provide memory-efficient, performant, and often elegant solutions for combinatorics, data pipelines, and handling both finite and infinite sequences. Mastering `itertools` allows you to write more concise and efficient Python code for a wide range of iteration-related tasks."
   ]
  }
 ],
 "metadata": {
  "kernelspec": {
   "display_name": "Python 3",
   "language": "python",
   "name": "python3"
  },
  "language_info": {
   "codemirror_mode": {
    "name": "ipython",
    "version": 3
   },
   "file_extension": ".py",
   "mimetype": "text/x-python",
   "name": "python",
   "nbconvert_exporter": "python",
   "pygments_lexer": "ipython3",
   "version": "3.13.3"
  }
 },
 "nbformat": 4,
 "nbformat_minor": 4
}
