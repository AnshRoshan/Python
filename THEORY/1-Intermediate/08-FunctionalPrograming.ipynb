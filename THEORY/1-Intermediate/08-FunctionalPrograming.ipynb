{
 "cells": [
  {
   "cell_type": "markdown",
   "id": "97d6b44d",
   "metadata": {},
   "source": [
    "# ✨ Functional Programming Techniques in Python\n",
    "\n",
    "**Welcome!** Python is a multi-paradigm language, meaning it supports procedural, object-oriented, and functional programming (FP) styles. This notebook explores key concepts and tools from the functional programming paradigm available in Python. We'll see how thinking functionally can lead to more declarative, predictable, and sometimes more concise code.\n",
    "\n",
    "**Target Audience:** Python developers interested in understanding and applying functional programming concepts to enhance their code.\n",
    "\n",
    "**Learning Objectives:**\n",
    "*   Understand core FP principles: Pure Functions, Immutability, Higher-Order Functions.\n",
    "*   Learn to use built-in functions like `map()`, `filter()`, and `functools.reduce()`.\n",
    "*   Appreciate the role and benefits of Iterators and Generators in FP.\n",
    "*   Recognize Pythonic alternatives (List Comprehensions, Generator Expressions) and when to prefer them.\n",
    "*   Explore relevant tools from `functools` and `itertools`.\n",
    "*   Discuss best practices, trade-offs, and enterprise considerations for FP in Python."
   ]
  },
  {
   "cell_type": "markdown",
   "id": "1c2fb7b4",
   "metadata": {},
   "source": [
    "## 1. Introduction: What is Functional Programming?\n",
    "\n",
    "Functional Programming is a programming paradigm that treats computation as the **evaluation of mathematical functions** and avoids changing state and mutable data.\n",
    "\n",
    "**Core Ideas:**\n",
    "\n",
    "1.  **Pure Functions:** Functions that, given the same input, always return the same output and have no side effects (they don't modify external state, perform I/O, etc.).\n",
    "2.  **Immutability:** Data structures are typically immutable, meaning they cannot be changed after creation. Operations that seem to modify data actually create new data structures.\n",
    "3.  **Functions as First-Class Citizens:** Functions can be assigned to variables, passed as arguments to other functions, and returned from functions.\n",
    "4.  **Declarative Style:** Code focuses on *what* to compute rather than *how* to compute it step-by-step (contrast with imperative style).\n",
    "\n",
    "**Analogy: The Recipe vs. The Mathematical Formula**\n",
    "\n",
    "*   **Imperative Programming** is like a detailed recipe: \"First, take a bowl. Add flour. Crack two eggs. Mix vigorously for 2 minutes...\" It specifies sequential steps and modifies the state of the ingredients (mixing them changes the bowl's contents).\n",
    "*   **Functional Programming** is more like a mathematical formula: `Area = π * r²`. Given a radius `r`, the formula *always* yields the same area. It doesn't describe *how* to calculate it step-by-step, nor does it change the value of `π` or `r` in the process. It declares a relationship between input and output.\n",
    "\n",
    "**Benefits of FP Concepts (even in a multi-paradigm language like Python):**\n",
    "\n",
    "*   **Predictability:** Pure functions are easier to reason about and debug because their output depends only on their input.\n",
    "*   **Testability:** Pure functions are trivial to unit test – just provide input and check the output.\n",
    "*   **Concurrency/Parallelism:** Immutability and lack of side effects make code inherently safer for concurrent or parallel execution, avoiding race conditions.\n",
    "*   **Readability (sometimes):** Declarative code can be more concise and easier to understand for certain tasks, especially data transformations.\n",
    "*   **Composability:** Functions can be easily combined to build more complex logic."
   ]
  },
  {
   "cell_type": "markdown",
   "id": "8af47321",
   "metadata": {},
   "source": [
    "## 2. Core Concepts Explained\n",
    "\n",
    "### 2.1 Pure Functions\n",
    "\n",
    "A function is pure if:\n",
    "1.  **Deterministic:** Its return value is solely determined by its input values.\n",
    "2.  **No Side Effects:** It doesn't modify any state outside its local environment (e.g., no modifying global variables, changing mutable input arguments in place, printing to console, writing to files, querying databases)."
   ]
  },
  {
   "cell_type": "code",
   "execution_count": 1,
   "id": "1a74e45e",
   "metadata": {},
   "outputs": [
    {
     "name": "stdout",
     "output_type": "stream",
     "text": [
      "Pure add(2, 3): 5\n",
      "Pure add(2, 3) again: 5\n",
      "\n",
      "--- Impure Counter ---\n",
      "Counter updated to: 5\n",
      "Counter updated to: 15\n",
      "\n",
      "--- Impure List Append ---\n",
      "Original list: [1, 2, 3]\n",
      "List after append: [1, 2, 3, 4]\n",
      "\n",
      "--- Pure List Add ---\n",
      "Original list (pure): [10, 20]\n",
      "New list (pure): [10, 20, 30]\n"
     ]
    }
   ],
   "source": [
    "from typing import List\n",
    "\n",
    "# --- Pure Function --- \n",
    "def add(a: int, b: int) -> int:\n",
    "    \"\"\"Pure function: output depends only on input, no side effects.\"\"\"\n",
    "    return a + b\n",
    "\n",
    "print(f\"Pure add(2, 3): {add(2, 3)}\")\n",
    "print(f\"Pure add(2, 3) again: {add(2, 3)}\")\n",
    "\n",
    "# --- Impure Functions --- \n",
    "counter = 0 # Global state\n",
    "def increment_counter(amount: int) -> None:\n",
    "    \"\"\"Impure: Modifies global state 'counter'.\"\"\"\n",
    "    global counter\n",
    "    counter += amount\n",
    "    print(f\"Counter updated to: {counter}\") # Side effect: I/O\n",
    "\n",
    "print(\"\\n--- Impure Counter ---\")\n",
    "increment_counter(5)\n",
    "increment_counter(10)\n",
    "\n",
    "my_list = [1, 2, 3]\n",
    "def append_to_list(item: int, target_list: List[int]) -> None:\n",
    "    \"\"\"Impure: Modifies the input list object directly (side effect).\"\"\"\n",
    "    target_list.append(item)\n",
    "\n",
    "print(\"\\n--- Impure List Append ---\")\n",
    "print(f\"Original list: {my_list}\")\n",
    "append_to_list(4, my_list)\n",
    "print(f\"List after append: {my_list}\")\n",
    "\n",
    "# --- Pure alternative for list modification --- \n",
    "def add_item_pure(item: int, source_list: List[int]) -> List[int]:\n",
    "    \"\"\"Pure: Returns a NEW list, doesn't modify the original.\"\"\"\n",
    "    # Creates a new list by concatenating\n",
    "    return source_list + [item] \n",
    "    # Or using copy(): \n",
    "    # new_list = source_list.copy()\n",
    "    # new_list.append(item)\n",
    "    # return new_list\n",
    "\n",
    "print(\"\\n--- Pure List Add ---\")\n",
    "original_list = [10, 20]\n",
    "new_list = add_item_pure(30, original_list)\n",
    "print(f\"Original list (pure): {original_list}\") # Unchanged\n",
    "print(f\"New list (pure): {new_list}\")"
   ]
  },
  {
   "cell_type": "markdown",
   "id": "b74450fc",
   "metadata": {},
   "source": [
    "### 2.2 Immutability\n",
    "\n",
    "Immutable objects are objects whose state cannot be changed after they are created.\n",
    "\n",
    "**Python's Immutable Built-in Types:** `int`, `float`, `bool`, `str`, `tuple`, `frozenset`, `bytes`.\n",
    "**Python's Mutable Built-in Types:** `list`, `dict`, `set`, `bytearray`.\n",
    "\n",
    "In FP, you strive to use immutable data structures. When you need to \"change\" data, you create a new instance with the modifications instead of altering the original.\n",
    "\n",
    "**Important Caveat in Python:** While types like `tuple` are immutable (you can't change which objects they contain), the objects *within* the tuple might still be mutable!"
   ]
  },
  {
   "cell_type": "code",
   "execution_count": 2,
   "id": "3a0629a8",
   "metadata": {},
   "outputs": [
    {
     "name": "stdout",
     "output_type": "stream",
     "text": [
      "Original tuple: (1, 2, 3), ID: 129478179310848\n",
      "'Modified' tuple: (1, 2, 3, 4), ID: 129478178940832\n",
      "Original tuple remains unchanged: (1, 2, 3), ID: 129478179310848\n",
      "\n",
      "Tuple with list: (1, [10, 20], 3)\n",
      "Tuple after list append: (1, [10, 20, 30], 3)\n",
      "Error assigning new list to tuple element: 'tuple' object does not support item assignment\n"
     ]
    }
   ],
   "source": [
    "# --- Immutable Example (tuple) --- \n",
    "my_tuple = (1, 2, 3)\n",
    "print(f\"Original tuple: {my_tuple}, ID: {id(my_tuple)}\")\n",
    "\n",
    "# Trying to change an element raises TypeError\n",
    "# my_tuple[0] = 10 # This would cause TypeError\n",
    "\n",
    "# \"Modifying\" creates a new tuple\n",
    "new_tuple = my_tuple + (4,)\n",
    "print(f\"'Modified' tuple: {new_tuple}, ID: {id(new_tuple)}\") # Different object\n",
    "print(f\"Original tuple remains unchanged: {my_tuple}, ID: {id(my_tuple)}\")\n",
    "\n",
    "# --- The Caveat: Mutable objects inside immutable containers --- \n",
    "mutable_inside_tuple = (1, [10, 20], 3) # Tuple containing a list\n",
    "print(f\"\\nTuple with list: {mutable_inside_tuple}\")\n",
    "\n",
    "# You CAN modify the list *inside* the tuple\n",
    "try:\n",
    "    mutable_inside_tuple[1].append(30)\n",
    "    print(f\"Tuple after list append: {mutable_inside_tuple}\") # The list inside changed!\n",
    "except Exception as e:\n",
    "    print(f\"Error modifying list in tuple: {e}\")\n",
    "\n",
    "# You still cannot replace the list object itself\n",
    "try:\n",
    "    mutable_inside_tuple[1] = [99, 88] # Raises TypeError\n",
    "except TypeError as e:\n",
    "    print(f\"Error assigning new list to tuple element: {e}\")\n",
    "\n",
    "# **FP Implication:** True immutability requires all nested structures to also be immutable."
   ]
  },
  {
   "cell_type": "markdown",
   "id": "e505fc4c",
   "metadata": {},
   "source": [
    "### 2.3 Higher-Order Functions\n",
    "\n",
    "Functions that operate on other functions, either by taking them as arguments or by returning them.\n",
    "`map()`, `filter()`, and `functools.reduce()` are classic examples."
   ]
  },
  {
   "cell_type": "code",
   "execution_count": 3,
   "id": "f0ae38b7",
   "metadata": {},
   "outputs": [
    {
     "name": "stdout",
     "output_type": "stream",
     "text": [
      "Applying square(5): 25\n",
      "Applying double(10): 20\n",
      "Applying lambda x: x+1 to 7: 8\n"
     ]
    }
   ],
   "source": [
    "from typing import Callable, List\n",
    "\n",
    "def apply_operation(func: Callable[[int], int], value: int) -> int:\n",
    "    \"\"\"Takes a function 'func' and applies it to 'value'.\"\"\"\n",
    "    return func(value)\n",
    "\n",
    "def square(x: int) -> int:\n",
    "    return x * x\n",
    "\n",
    "def double(x: int) -> int:\n",
    "    return x * 2\n",
    "\n",
    "print(f\"Applying square(5): {apply_operation(square, 5)}\")\n",
    "print(f\"Applying double(10): {apply_operation(double, 10)}\")\n",
    "\n",
    "# Using lambda (anonymous function) directly\n",
    "print(f\"Applying lambda x: x+1 to 7: {apply_operation(lambda x: x + 1, 7)}\")"
   ]
  },
  {
   "cell_type": "markdown",
   "id": "656d89de",
   "metadata": {},
   "source": [
    "## 3. Functional Tools: `map`, `filter`, `reduce`\n",
    "\n",
    "These are classic FP functions for processing sequences.\n",
    "\n",
    "**Important Note:** While fundamental to FP theory, in Python, **list comprehensions** and **generator expressions** are often considered more *Pythonic* and readable alternatives to `map` and `filter` for many common use cases."
   ]
  },
  {
   "cell_type": "markdown",
   "id": "9aea0277",
   "metadata": {},
   "source": [
    "### 3.1 `map(function, iterable, ...)`\n",
    "\n",
    "Applies `function` to every item of `iterable` and returns an *iterator* that yields the results."
   ]
  },
  {
   "cell_type": "code",
   "execution_count": 4,
   "id": "5a80ef4e",
   "metadata": {},
   "outputs": [
    {
     "name": "stdout",
     "output_type": "stream",
     "text": [
      "Squared numbers (map): [1, 4, 9, 16, 25]\n",
      "Word lengths (map): [5, 6, 6]\n",
      "Sum of pairs (map): [5, 7, 9]\n",
      "\n",
      "Squared numbers (comp): [1, 4, 9, 16, 25]\n",
      "Word lengths (comp): [5, 6, 6]\n",
      "Sum of pairs (comp): [5, 7, 9]\n"
     ]
    }
   ],
   "source": [
    "numbers = [1, 2, 3, 4, 5]\n",
    "words = [\"apple\", \"banana\", \"cherry\"]\n",
    "\n",
    "# --- Using map() --- \n",
    "squared_iterator = map(lambda x: x * x, numbers) \n",
    "lengths_iterator = map(len, words)\n",
    "\n",
    "# map() returns an iterator, consume it with list() to see results\n",
    "print(f\"Squared numbers (map): {list(squared_iterator)}\")\n",
    "print(f\"Word lengths (map): {list(lengths_iterator)}\")\n",
    "\n",
    "# map with multiple iterables (function must accept that many args)\n",
    "nums1 = [1, 2, 3]\n",
    "nums2 = [4, 5, 6]\n",
    "summed_iterator = map(lambda x, y: x + y, nums1, nums2)\n",
    "print(f\"Sum of pairs (map): {list(summed_iterator)}\")\n",
    "\n",
    "# --- Pythonic Alternative: List Comprehension --- \n",
    "squared_comp = [x * x for x in numbers]\n",
    "lengths_comp = [len(word) for word in words]\n",
    "summed_comp = [x + y for x, y in zip(nums1, nums2)] # Use zip for pairs\n",
    "\n",
    "print(f\"\\nSquared numbers (comp): {squared_comp}\")\n",
    "print(f\"Word lengths (comp): {lengths_comp}\")\n",
    "print(f\"Sum of pairs (comp): {summed_comp}\")\n",
    "\n",
    "# **Readability:** List comprehensions are generally preferred in Python for map operations."
   ]
  },
  {
   "cell_type": "markdown",
   "id": "5256fb43",
   "metadata": {},
   "source": [
    "### 3.2 `filter(function, iterable)`\n",
    "\n",
    "Constructs an *iterator* from elements of `iterable` for which `function` returns `True`. If `function` is `None`, it filters out items that are considered false."
   ]
  },
  {
   "cell_type": "code",
   "execution_count": 5,
   "id": "e2cd37b7",
   "metadata": {},
   "outputs": [
    {
     "name": "stdout",
     "output_type": "stream",
     "text": [
      "Positive numbers (filter): [1, 2, 3, 4, 5]\n",
      "Even numbers (filter): [-2, 0, 2, 4]\n",
      "Truthy values (filter): [1, 'hello', True, [1, 2]]\n",
      "\n",
      "Positive numbers (comp): [1, 2, 3, 4, 5]\n",
      "Even numbers (comp): [-2, 0, 2, 4]\n",
      "Truthy values (comp): [1, 'hello', True, [1, 2]]\n"
     ]
    }
   ],
   "source": [
    "numbers = [-3, -2, -1, 0, 1, 2, 3, 4, 5]\n",
    "mixed_values = [0, 1, \"hello\", \"\", None, True, False, [1, 2]]\n",
    "\n",
    "# --- Using filter() --- \n",
    "positive_iterator = filter(lambda x: x > 0, numbers)\n",
    "even_iterator = filter(lambda x: x % 2 == 0, numbers)\n",
    "truthy_iterator = filter(None, mixed_values) # Filter for truthy values\n",
    "\n",
    "print(f\"Positive numbers (filter): {list(positive_iterator)}\")\n",
    "print(f\"Even numbers (filter): {list(even_iterator)}\")\n",
    "print(f\"Truthy values (filter): {list(truthy_iterator)}\")\n",
    "\n",
    "# --- Pythonic Alternative: List Comprehension --- \n",
    "positive_comp = [x for x in numbers if x > 0]\n",
    "even_comp = [x for x in numbers if x % 2 == 0]\n",
    "truthy_comp = [val for val in mixed_values if val]\n",
    "\n",
    "print(f\"\\nPositive numbers (comp): {positive_comp}\")\n",
    "print(f\"Even numbers (comp): {even_comp}\")\n",
    "print(f\"Truthy values (comp): {truthy_comp}\")\n",
    "\n",
    "# **Readability:** List comprehensions are generally preferred in Python for filter operations."
   ]
  },
  {
   "cell_type": "markdown",
   "id": "0f32e1ac",
   "metadata": {},
   "source": [
    "### 3.3 `functools.reduce(function, iterable[, initializer])`\n",
    "\n",
    "Applies `function` of two arguments cumulatively to the items of `iterable`, from left to right, to reduce the iterable to a single value.\n",
    "*   `function(accumulator, next_item)`\n",
    "*   If `initializer` is provided, it's used as the first value for the accumulator.\n",
    "\n",
    "**Note:** `reduce` was a built-in in Python 2, but was moved to the `functools` module in Python 3. Use it sparingly, as explicit loops or built-ins like `sum()`, `any()`, `all()` are often clearer."
   ]
  },
  {
   "cell_type": "code",
   "execution_count": 6,
   "id": "4dc640ee",
   "metadata": {},
   "outputs": [
    {
     "name": "stdout",
     "output_type": "stream",
     "text": [
      "Sum (reduce lambda): 15\n",
      "Sum (reduce op): 15\n",
      "Product (reduce op): 120\n",
      "Max (reduce lambda): 5\n",
      "\n",
      "Sum (builtin): 15\n",
      "Product (builtin/loop): 120\n",
      "Max (builtin): 5\n"
     ]
    }
   ],
   "source": [
    "import functools\n",
    "import operator # Provides function versions of operators\n",
    "\n",
    "numbers = [1, 2, 3, 4, 5]\n",
    "\n",
    "# --- Using reduce() --- \n",
    "# Calculate sum\n",
    "total_sum_reduce = functools.reduce(lambda acc, x: acc + x, numbers, 0) # 0 is initializer\n",
    "total_sum_op = functools.reduce(operator.add, numbers) # No initializer needed if sequence not empty\n",
    "print(f\"Sum (reduce lambda): {total_sum_reduce}\")\n",
    "print(f\"Sum (reduce op): {total_sum_op}\")\n",
    "\n",
    "# Calculate product\n",
    "total_product_reduce = functools.reduce(operator.mul, numbers, 1)\n",
    "print(f\"Product (reduce op): {total_product_reduce}\")\n",
    "\n",
    "# Find maximum\n",
    "max_val_reduce = functools.reduce(lambda x, y: x if x > y else y, numbers)\n",
    "print(f\"Max (reduce lambda): {max_val_reduce}\")\n",
    "\n",
    "# --- Pythonic Alternatives --- \n",
    "total_sum_builtin = sum(numbers)\n",
    "# For product, math.prod exists in Python 3.8+\n",
    "try:\n",
    "    import math\n",
    "    total_product_builtin = math.prod(numbers)\n",
    "except (ImportError, AttributeError):\n",
    "    # Manual loop for product if math.prod not available\n",
    "    total_product_builtin = 1\n",
    "    for n in numbers: total_product_builtin *= n\n",
    "max_val_builtin = max(numbers)\n",
    "\n",
    "print(f\"\\nSum (builtin): {total_sum_builtin}\")\n",
    "print(f\"Product (builtin/loop): {total_product_builtin}\")\n",
    "print(f\"Max (builtin): {max_val_builtin}\")\n",
    "\n",
    "# **Readability:** Built-ins or explicit loops are generally preferred over reduce for simple aggregations."
   ]
  },
  {
   "cell_type": "markdown",
   "id": "58184f7d",
   "metadata": {},
   "source": [
    "## 4. Iterators and Generators: Lazy Evaluation\n",
    "\n",
    "These concepts are central to efficient data processing in Python and fit well with the functional style by enabling **lazy evaluation** – computations are performed only when needed.\n",
    "\n",
    "### 4.1 Iterators\n",
    "*   An object representing a stream of data.\n",
    "*   Implements the *iterator protocol*: methods `__iter__()` (returns self) and `__next__()`.\n",
    "*   `__next__()` returns the next item or raises `StopIteration` when exhausted.\n",
    "*   Python's `for` loop automatically uses the iterator protocol.\n",
    "*   Functions like `map()` and `filter()` return iterators.\n",
    "*   You can get an iterator from any iterable (list, tuple, string, etc.) using `iter()`."
   ]
  },
  {
   "cell_type": "code",
   "execution_count": 7,
   "id": "aa52604c",
   "metadata": {},
   "outputs": [
    {
     "name": "stdout",
     "output_type": "stream",
     "text": [
      "Type of my_iterator: <class 'list_iterator'>\n",
      "Next item: 10\n",
      "Next item: 20\n",
      "Next item: 30\n",
      "Iterator exhausted (StopIteration caught).\n",
      "Trying to iterate again: []\n"
     ]
    }
   ],
   "source": [
    "my_list = [10, 20, 30]\n",
    "\n",
    "# Get an iterator from the list\n",
    "my_iterator = iter(my_list)\n",
    "\n",
    "print(f\"Type of my_iterator: {type(my_iterator)}\")\n",
    "\n",
    "# Manually get items using next()\n",
    "try:\n",
    "    print(f\"Next item: {next(my_iterator)}\")\n",
    "    print(f\"Next item: {next(my_iterator)}\")\n",
    "    print(f\"Next item: {next(my_iterator)}\")\n",
    "    # This next call will raise StopIteration\n",
    "    print(f\"Next item: {next(my_iterator)}\") \n",
    "except StopIteration:\n",
    "    print(\"Iterator exhausted (StopIteration caught).\")\n",
    "\n",
    "# Iterators are consumed after one pass\n",
    "print(f\"Trying to iterate again: {list(my_iterator)}\") # Will be empty"
   ]
  },
  {
   "cell_type": "markdown",
   "id": "f6d40f72",
   "metadata": {},
   "source": [
    "### 4.2 Generators\n",
    "\n",
    "*   A simpler way to create iterators using functions with the `yield` keyword.\n",
    "*   When a generator function is called, it returns a generator object (a type of iterator) but doesn't start execution immediately.\n",
    "*   Execution pauses at `yield` and the value is returned. State is saved.\n",
    "*   Execution resumes from the saved state the next time `next()` is called.\n",
    "*   Automatically handles `StopIteration` when the function finishes.\n",
    "*   **Memory Efficient:** Values are generated on-the-fly, not all stored in memory at once. Ideal for large sequences or infinite streams."
   ]
  },
  {
   "cell_type": "code",
   "execution_count": 8,
   "id": "114d85d3",
   "metadata": {},
   "outputs": [
    {
     "name": "stdout",
     "output_type": "stream",
     "text": [
      "Type of counter_gen: <class 'generator'>\n",
      "Generator starting...\n",
      "Yielding 1\n",
      "First call: 1\n",
      "Yielding 2\n",
      "Second call: 2\n",
      "Yielding 3\n",
      "Third call: 3\n",
      "Generator finished.\n",
      "Generator exhausted (StopIteration caught).\n",
      "\n",
      "Iterating with for loop:\n",
      "Generator starting...\n",
      "Yielding 1\n",
      "  Received: 1\n",
      "Yielding 2\n",
      "  Received: 2\n",
      "Generator finished.\n",
      "\n",
      "First 10 Fibonacci numbers:\n",
      "  0   1   1   2   3   5   8   13   21   34 \n"
     ]
    }
   ],
   "source": [
    "def count_up_to(limit: int):\n",
    "    \"\"\"Generator function yielding numbers from 1 up to limit.\"\"\"\n",
    "    n = 1\n",
    "    print(\"Generator starting...\")\n",
    "    while n <= limit:\n",
    "        print(f\"Yielding {n}\")\n",
    "        yield n # Pause and return value\n",
    "        n += 1\n",
    "    print(\"Generator finished.\")\n",
    "\n",
    "# Get the generator object (iterator)\n",
    "counter_gen = count_up_to(3)\n",
    "print(f\"Type of counter_gen: {type(counter_gen)}\")\n",
    "\n",
    "# Iterate using next()\n",
    "try:\n",
    "    print(f\"First call: {next(counter_gen)}\")\n",
    "    print(f\"Second call: {next(counter_gen)}\")\n",
    "    print(f\"Third call: {next(counter_gen)}\")\n",
    "    print(f\"Fourth call: {next(counter_gen)}\")\n",
    "except StopIteration:\n",
    "    print(\"Generator exhausted (StopIteration caught).\")\n",
    "\n",
    "# Using a for loop (more common)\n",
    "print(\"\\nIterating with for loop:\")\n",
    "for number in count_up_to(2):\n",
    "    print(f\"  Received: {number}\")\n",
    "\n",
    "# Example: Infinite generator (use with caution!)\n",
    "def fibonacci_generator():\n",
    "    a, b = 0, 1\n",
    "    while True:\n",
    "        yield a\n",
    "        a, b = b, a + b\n",
    "\n",
    "print(\"\\nFirst 10 Fibonacci numbers:\")\n",
    "fib_gen = fibonacci_generator()\n",
    "for _ in range(10):\n",
    "    print(f\"  {next(fib_gen)}\", end=\" \")\n",
    "print()"
   ]
  },
  {
   "cell_type": "markdown",
   "id": "14ad6d42",
   "metadata": {},
   "source": [
    "### 4.3 Generator Expressions\n",
    "\n",
    "*   A concise, memory-efficient way to create generators, similar in syntax to list comprehensions but using parentheses `()` instead of square brackets `[]`.\n",
    "*   Excellent alternative to using `map` or `filter` when you don't need the full list in memory immediately."
   ]
  },
  {
   "cell_type": "code",
   "execution_count": 9,
   "id": "e2db21bc",
   "metadata": {},
   "outputs": [
    {
     "name": "stdout",
     "output_type": "stream",
     "text": [
      "Type of squared_genexpr: <class 'generator'>\n",
      "Squared numbers (genexpr): [1, 4, 9, 16, 25, 36, 49, 64, 81, 100]\n",
      "Type of even_genexpr: <class 'generator'>\n",
      "Even numbers (genexpr): [2, 4, 6, 8, 10]\n",
      "\n",
      "Squared evens (chained genexpr): [4, 16, 36, 64, 100]\n",
      "Sum of squares (using generator): 333332833333500000\n"
     ]
    }
   ],
   "source": [
    "numbers = [1, 2, 3, 4, 5, 6, 7, 8, 9, 10]\n",
    "\n",
    "# --- Generator Expression for Mapping --- \n",
    "squared_genexpr = (x * x for x in numbers) # Note the parentheses\n",
    "print(f\"Type of squared_genexpr: {type(squared_genexpr)}\")\n",
    "# Consume the generator\n",
    "print(f\"Squared numbers (genexpr): {list(squared_genexpr)}\")\n",
    "\n",
    "# --- Generator Expression for Filtering --- \n",
    "even_genexpr = (x for x in numbers if x % 2 == 0)\n",
    "print(f\"Type of even_genexpr: {type(even_genexpr)}\")\n",
    "print(f\"Even numbers (genexpr): {list(even_genexpr)}\")\n",
    "\n",
    "# --- Chaining Generators --- \n",
    "# Efficiently process large data: filter evens, then square them\n",
    "squared_evens_gen = (x * x for x in numbers if x % 2 == 0)\n",
    "print(f\"\\nSquared evens (chained genexpr): {list(squared_evens_gen)}\")\n",
    "\n",
    "# Compare memory usage (conceptual)\n",
    "large_range = range(1_000_000)\n",
    "# List comprehension: creates the full list in memory\n",
    "# squares_list = [x*x for x in large_range] # Consumes significant memory\n",
    "# Generator expression: processes one item at a time\n",
    "squares_gen = (x*x for x in large_range) # Very low memory usage\n",
    "print(f\"Sum of squares (using generator): {sum(squares_gen)}\") # sum() consumes the generator"
   ]
  },
  {
   "cell_type": "markdown",
   "id": "af319425",
   "metadata": {},
   "source": [
    "## 5. Modern Python and Functional Concepts\n",
    "\n",
    "While Python isn't a purely functional language, it incorporates many FP ideas in a Pythonic way.\n",
    "\n",
    "### 5.1 List Comprehensions / Generator Expressions\n",
    "As shown above, these are often the preferred way to achieve `map` and `filter` operations due to better readability and conciseness in Python.\n",
    "\n",
    "### 5.2 `functools` Module\n",
    "We saw `reduce`, `wraps`, `lru_cache`, `cache`, `partial`, and `singledispatch`. These tools directly support functional patterns like higher-order functions, memoization, and function specialization.\n",
    "\n",
    "### 5.3 `itertools` Module\n",
    "This module provides a wealth of functions for creating and working with iterators efficiently. Many are inspired by functional programming constructs.\n"
   ]
  },
  {
   "cell_type": "code",
   "execution_count": 10,
   "id": "51392da2",
   "metadata": {},
   "outputs": [
    {
     "name": "stdout",
     "output_type": "stream",
     "text": [
      "Chained iterator: [1, 2, 3, 'a', 'b', 'A', 'B', 'C', 'D', 'E', 'F', 'G']\n",
      "\n",
      "Combinations of 3 from 'ABCDEFG': [('A', 'B', 'C'), ('A', 'B', 'D'), ('A', 'B', 'E'), ('A', 'B', 'F'), ('A', 'B', 'G'), ('A', 'C', 'D'), ('A', 'C', 'E'), ('A', 'C', 'F'), ('A', 'C', 'G'), ('A', 'D', 'E'), ('A', 'D', 'F'), ('A', 'D', 'G'), ('A', 'E', 'F'), ('A', 'E', 'G'), ('A', 'F', 'G'), ('B', 'C', 'D'), ('B', 'C', 'E'), ('B', 'C', 'F'), ('B', 'C', 'G'), ('B', 'D', 'E'), ('B', 'D', 'F'), ('B', 'D', 'G'), ('B', 'E', 'F'), ('B', 'E', 'G'), ('B', 'F', 'G'), ('C', 'D', 'E'), ('C', 'D', 'F'), ('C', 'D', 'G'), ('C', 'E', 'F'), ('C', 'E', 'G'), ('C', 'F', 'G'), ('D', 'E', 'F'), ('D', 'E', 'G'), ('D', 'F', 'G'), ('E', 'F', 'G')]\n",
      "\n",
      "Permutations of ['a', 'b']: [('a', 'b'), ('b', 'a')]\n",
      "\n",
      "Sliced Fibonacci (5th-9th): [5, 8, 13, 21, 34]\n",
      "\n",
      "Cycling On/Off:\n",
      "  On   Off   On   Off   On   Off \n"
     ]
    }
   ],
   "source": [
    "import itertools\n",
    "\n",
    "list1 = [1, 2, 3]\n",
    "list2 = ['a', 'b']\n",
    "letters = 'ABCDEFG'\n",
    "\n",
    "# Chain iterables together\n",
    "chained = itertools.chain(list1, list2, letters)\n",
    "print(f\"Chained iterator: {list(chained)}\")\n",
    "\n",
    "# Create combinations\n",
    "combinations = itertools.combinations(letters, 3)\n",
    "print(f\"\\nCombinations of 3 from '{letters}': {list(combinations)}\")\n",
    "\n",
    "# Create permutations\n",
    "permutations = itertools.permutations(list2)\n",
    "print(f\"\\nPermutations of {list2}: {list(permutations)}\")\n",
    "\n",
    "# Slice an iterator (without creating intermediate list)\n",
    "sliced = itertools.islice(fibonacci_generator(), 5, 10) # Get 5th to 9th Fibonacci numbers\n",
    "print(f\"\\nSliced Fibonacci (5th-9th): {list(sliced)}\")\n",
    "\n",
    "# Cycle through an iterable indefinitely\n",
    "cycled = itertools.cycle(['On', 'Off'])\n",
    "print(\"\\nCycling On/Off:\")\n",
    "for _ in range(6):\n",
    "    print(f\"  {next(cycled)}\", end=\" \")\n",
    "print()\n",
    "\n",
    "# Many more useful functions: accumulate, compress, dropwhile, takewhile, etc."
   ]
  },
  {
   "cell_type": "markdown",
   "id": "8452ead4",
   "metadata": {},
   "source": [
    "### 5.4 Type Hinting for Functional Constructs\n",
    "The `typing` module provides hints for common FP concepts:\n",
    "*   `Callable`: Represents functions or other callables.\n",
    "    `Callable[[Arg1Type, Arg2Type], ReturnType]`\n",
    "*   `Iterable[T]`: Represents any object that can be iterated over (list, tuple, string, generator).\n",
    "*   `Iterator[T]`: Represents an iterator object (with `__next__`).\n",
    "*   `Generator[YieldType, SendType, ReturnType]`: Represents a generator function/object."
   ]
  },
  {
   "cell_type": "code",
   "execution_count": 11,
   "id": "681d3186",
   "metadata": {},
   "outputs": [
    {
     "name": "stdout",
     "output_type": "stream",
     "text": [
      "Doubled (typed): [2, 4, 6, 8]\n",
      "Positives (typed): [1]\n",
      "Squares (typed): [0, 1, 4, 9, 16]\n"
     ]
    }
   ],
   "source": [
    "from typing import Callable, Iterable, Iterator, Generator, List, TypeVar\n",
    "\n",
    "T = TypeVar('T') # Generic type variable\n",
    "U = TypeVar('U') # Another generic type variable\n",
    "\n",
    "def map_typed(func: Callable[[T], U], data: Iterable[T]) -> Iterator[U]:\n",
    "    \"\"\"Applies func to each item in data, returning an iterator.\"\"\"\n",
    "    return map(func, data)\n",
    "\n",
    "def filter_typed(func: Callable[[T], bool], data: Iterable[T]) -> Iterator[T]:\n",
    "    \"\"\"Filters items in data where func returns True, returning an iterator.\"\"\"\n",
    "    return filter(func, data)\n",
    "\n",
    "def generate_squares(n: int) -> Generator[int, None, None]:\n",
    "    \"\"\"Generator yielding squares up to n.\"\"\"\n",
    "    for i in range(n):\n",
    "        yield i * i\n",
    "\n",
    "# Example usage with type hints\n",
    "numbers: List[int] = [1, 2, 3, 4]\n",
    "doubled_iterator: Iterator[int] = map_typed(lambda x: x * 2, numbers)\n",
    "positives_iterator: Iterator[int] = filter_typed(lambda x: x > 0, [-1, 0, 1])\n",
    "squares_generator: Generator[int, None, None] = generate_squares(5)\n",
    "\n",
    "print(f\"Doubled (typed): {list(doubled_iterator)}\")\n",
    "print(f\"Positives (typed): {list(positives_iterator)}\")\n",
    "print(f\"Squares (typed): {list(squares_generator)}\")"
   ]
  },
  {
   "cell_type": "markdown",
   "id": "b49dd636",
   "metadata": {},
   "source": [
    "## 6. Best Practices & Enterprise Considerations\n",
    "\n",
    "1.  **Prioritize Readability:** While FP offers conciseness, choose the most readable approach in Python. Often, this means list comprehensions/generator expressions over `map`/`filter`, and explicit loops over complex `reduce` calls.\n",
    "2.  **Embrace Immutability Where Practical:** Use tuples instead of lists for sequences that shouldn't change. Be mindful of mutable objects nested within immutable containers.\n",
    "3.  **Favor Pure Functions:** Write functions that rely only on their inputs and don't cause side effects whenever possible. This simplifies testing and reasoning.\n",
    "4.  **Use Generators for Large Data:** Leverage generators and generator expressions to process large datasets or streams efficiently without loading everything into memory.\n",
    "5.  **Know When *Not* to Use FP:** Python is multi-paradigm. Don't force an FP style where an imperative or object-oriented approach is clearer or more natural (e.g., complex state management is often easier with classes).\n",
    "6.  **Combine Paradigms:** Use functional concepts *within* your object-oriented or procedural code (e.g., using comprehensions inside methods, passing functions as arguments).\n",
    "7.  **Testing:** Pure functions are easy to test. Focus unit tests on inputs and expected outputs.\n",
    "8.  **Performance:** While generators are memory-efficient, there can be a small overhead for function calls in `map`/`filter` compared to optimized comprehensions. Profile if performance is critical.\n",
    "9.  **Debugging:** Debugging chains of `map`/`filter` or complex `reduce` calls can sometimes be harder than stepping through an explicit loop. Generator debugging also requires understanding their lazy nature."
   ]
  },
  {
   "cell_type": "markdown",
   "id": "e3ffbd38",
   "metadata": {},
   "source": [
    "## 7. Pitfalls and Common Interview Questions\n",
    "\n",
    "**Common Pitfalls:**\n",
    "*   **Forgetting `list()`:** `map` and `filter` return iterators. Forgetting to consume them (e.g., with `list()`) means the operation hasn't fully executed or produced a visible result when expected.\n",
    "*   **Overusing `lambda`:** Complex lambdas can harm readability. Define a regular function with `def` if the logic is non-trivial.\n",
    "*   **Readability of `reduce`:** Using `reduce` for anything beyond simple aggregations like sum/product often makes code harder to understand than an explicit loop.\n",
    "*   **Mutable Side Effects:** Accidentally modifying external state within functions intended to be pure.\n",
    "*   **Exhausting Iterators:** Trying to iterate over an iterator (like a generator or map object) a second time after it has already been consumed.\n",
    "*   **Mutability in Caches:** Caching functions that depend on or return mutable objects can lead to unexpected behavior if those objects are modified elsewhere.\n",
    "\n",
    "**Common Interview Questions:**\n",
    "\n",
    "1.  What are the core principles of functional programming?\n",
    "2.  What is a pure function? What are its benefits?\n",
    "3.  What does immutability mean? Give examples of mutable and immutable types in Python.\n",
    "4.  What is a higher-order function?\n",
    "5.  Explain what `map()`, `filter()`, and `functools.reduce()` do.\n",
    "6.  What are the Pythonic alternatives to `map` and `filter`? Why are they often preferred?\n",
    "7.  What is the difference between an iterator and an iterable?\n",
    "8.  What is a generator function? How does `yield` work?\n",
    "9.  What is a generator expression? How does it differ from a list comprehension?\n",
    "10. What are the benefits of using generators (lazy evaluation)?\n",
    "11. Can you give an example use case for `functools.partial` or `functools.lru_cache`?"
   ]
  },
  {
   "cell_type": "markdown",
   "id": "dd5f5166",
   "metadata": {},
   "source": [
    "## 8. Challenge: Data Processing Pipeline\n",
    "\n",
    "**Goal:** Implement a simple data processing pipeline for a list of dictionaries using functional concepts and their Pythonic alternatives.\n",
    "\n",
    "**Data:**\n",
    "```python\n",
    "sales_data = [\n",
    "    {'product': 'Laptop', 'region': 'North', 'sales': 150, 'cost': 100},\n",
    "    {'product': 'Monitor', 'region': 'North', 'sales': 90, 'cost': 70},\n",
    "    {'product': 'Keyboard', 'region': 'South', 'sales': 120, 'cost': 80},\n",
    "    {'product': 'Laptop', 'region': 'South', 'sales': 200, 'cost': 140},\n",
    "    {'product': 'Mouse', 'region': 'North', 'sales': 50, 'cost': 20},\n",
    "    {'product': 'Monitor', 'region': 'West', 'sales': 110, 'cost': 85},\n",
    "    {'product': 'Laptop', 'region': 'West', 'sales': 180, 'cost': 120},\n",
    "]\n",
    "```\n",
    "\n",
    "**Tasks:**\n",
    "\n",
    "1.  **Filter:** Select only the sales records from the 'North' region.\n",
    "2.  **Calculate Profit:** For the filtered records, calculate the profit (`sales - cost`) for each.\n",
    "3.  **Sum Profits:** Calculate the total profit for the 'North' region.\n",
    "\n",
    "**Implementation:**\n",
    "\n",
    "*   **Part A (Functional Style):** Implement the pipeline using `filter()`, `map()`, and `functools.reduce()` (or `sum()` after mapping).\n",
    "*   **Part B (Pythonic Style):** Implement the same pipeline using generator expressions and/or list comprehensions and the built-in `sum()` function.\n",
    "*   Compare the readability of both approaches."
   ]
  },
  {
   "cell_type": "code",
   "execution_count": 12,
   "id": "62ad8049",
   "metadata": {},
   "outputs": [
    {
     "name": "stdout",
     "output_type": "stream",
     "text": [
      "--- Functional Style --- \n",
      "Total Profit (North, Functional): 100\n",
      "\n",
      "--- Pythonic Style --- \n",
      "Total Profit (North, Pythonic): 100\n",
      "\n",
      "Comparison: The Pythonic approach using generator expressions and sum() is generally considered more readable and concise for this task.\n"
     ]
    }
   ],
   "source": [
    "# --- Solution Space for Challenge ---\n",
    "import functools\n",
    "import operator\n",
    "from typing import List, Dict, Any\n",
    "\n",
    "sales_data: List[Dict[str, Any]] = [\n",
    "    {'product': 'Laptop', 'region': 'North', 'sales': 150, 'cost': 100},\n",
    "    {'product': 'Monitor', 'region': 'North', 'sales': 90, 'cost': 70},\n",
    "    {'product': 'Keyboard', 'region': 'South', 'sales': 120, 'cost': 80},\n",
    "    {'product': 'Laptop', 'region': 'South', 'sales': 200, 'cost': 140},\n",
    "    {'product': 'Mouse', 'region': 'North', 'sales': 50, 'cost': 20},\n",
    "    {'product': 'Monitor', 'region': 'West', 'sales': 110, 'cost': 85},\n",
    "    {'product': 'Laptop', 'region': 'West', 'sales': 180, 'cost': 120},\n",
    "]\n",
    "\n",
    "# --- Part A: Functional Style (map, filter, reduce/sum) ---\n",
    "print(\"--- Functional Style --- \")\n",
    "\n",
    "# 1. Filter for 'North' region\n",
    "north_region_data_iter = filter(lambda record: record['region'] == 'North', sales_data)\n",
    "\n",
    "# 2. Calculate Profit for filtered records\n",
    "# Need to consume the filter iterator to pass to map, or chain them\n",
    "# Option A: Consume filter iterator first\n",
    "# north_region_list = list(north_region_data_iter)\n",
    "# profit_iter = map(lambda record: record['sales'] - record['cost'], north_region_list)\n",
    "# Option B: Chain directly (more memory efficient)\n",
    "profit_iter = map(lambda record: record['sales'] - record['cost'], \n",
    "                  filter(lambda r: r['region'] == 'North', sales_data))\n",
    "\n",
    "# 3. Sum Profits \n",
    "# Using sum() - preferred over reduce for summing\n",
    "total_profit_functional = sum(profit_iter)\n",
    "print(f\"Total Profit (North, Functional): {total_profit_functional}\")\n",
    "\n",
    "# Alternative using reduce (less readable for sum)\n",
    "# profit_iter_for_reduce = map(lambda record: record['sales'] - record['cost'], \n",
    "#                            filter(lambda r: r['region'] == 'North', sales_data))\n",
    "# total_profit_reduce = functools.reduce(operator.add, profit_iter_for_reduce, 0)\n",
    "# print(f\"Total Profit (North, Reduce): {total_profit_reduce}\")\n",
    "\n",
    "# --- Part B: Pythonic Style (Generator Expressions/Comprehensions + sum) ---\n",
    "print(\"\\n--- Pythonic Style --- \")\n",
    "\n",
    "# Combine filtering and mapping in one generator expression\n",
    "north_profits_gen = (\n",
    "    record['sales'] - record['cost'] \n",
    "    for record in sales_data \n",
    "    if record['region'] == 'North'\n",
    ")\n",
    "\n",
    "# Sum the results from the generator\n",
    "total_profit_pythonic = sum(north_profits_gen)\n",
    "print(f\"Total Profit (North, Pythonic): {total_profit_pythonic}\")\n",
    "\n",
    "# --- Comparison --- \n",
    "print(\"\\nComparison: The Pythonic approach using generator expressions and sum() is generally considered more readable and concise for this task.\")"
   ]
  },
  {
   "cell_type": "markdown",
   "id": "8ce57613",
   "metadata": {},
   "source": [
    "## 9. Conclusion\n",
    "\n",
    "Functional programming offers a powerful set of concepts and tools that can significantly enhance your Python code, especially for data transformation and processing tasks. While Python isn't purely functional, understanding principles like pure functions and immutability, and effectively using tools like `map`, `filter`, `reduce`, iterators, generators, list comprehensions, and modules like `functools` and `itertools`, allows you to write more declarative, predictable, testable, and often more efficient code.\n",
    "\n",
    "The key is to leverage these techniques judiciously within Python's multi-paradigm nature, always prioritizing code clarity and maintainability."
   ]
  }
 ],
 "metadata": {
  "kernelspec": {
   "display_name": "Python 3",
   "language": "python",
   "name": "python3"
  },
  "language_info": {
   "codemirror_mode": {
    "name": "ipython",
    "version": 3
   },
   "file_extension": ".py",
   "mimetype": "text/x-python",
   "name": "python",
   "nbconvert_exporter": "python",
   "pygments_lexer": "ipython3",
   "version": "3.13.3"
  }
 },
 "nbformat": 4,
 "nbformat_minor": 5
}
