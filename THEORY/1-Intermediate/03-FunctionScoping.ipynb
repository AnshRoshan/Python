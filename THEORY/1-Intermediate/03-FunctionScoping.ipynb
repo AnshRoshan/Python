{
 "cells": [
  {
   "cell_type": "markdown",
   "metadata": {},
   "source": [
    "# Python Fundamentals: Functions and Scoping"
   ]
  },
  {
   "cell_type": "markdown",
   "metadata": {},
   "source": [
    "## Introduction\n",
    "\n",
    "**Functions** are fundamental building blocks in Python (and most programming languages). They are named blocks of reusable code designed to perform a specific task. Using functions helps organize code, reduce repetition (DRY - Don't Repeat Yourself), improve readability, and make programs easier to debug and maintain.\n",
    "\n",
    "**Scoping** refers to the rules that determine where in your program a particular variable can be accessed or modified. Understanding scope is crucial for avoiding bugs related to variable naming conflicts and unintended side effects.\n",
    "\n",
    "This notebook covers:\n",
    "*   Defining functions (`def`).\n",
    "*   Function arguments (positional, keyword, default, `*args`, `**kwargs`).\n",
    "*   Return values.\n",
    "*   Docstrings and type hinting.\n",
    "*   Python's scoping rules (LEGB).\n",
    "*   The `global` and `nonlocal` keywords.\n",
    "*   Closures."
   ]
  },
  {
   "cell_type": "markdown",
   "metadata": {},
   "source": [
    "## Real-World Analogies\n",
    "\n",
    "*   **Functions:** Like recipes (take ingredients/arguments, perform steps, produce a dish/return value), tools in a toolbox (each does a specific job), or sub-routines in a manufacturing process.\n",
    "*   **Scoping:** Like different levels of access or visibility in an organization (local office vs. regional HQ vs. global HQ) or nested boxes (a variable in an inner box might not be visible from outside)."
   ]
  },
  {
   "cell_type": "markdown",
   "metadata": {},
   "source": [
    "## 1. Defining Functions (`def`)\n",
    "\n",
    "**Explain:** Functions are defined using the `def` keyword, followed by the function name, parentheses `()` for parameters, and a colon `:`. The indented block below the `def` line contains the function's code.\n",
    "\n",
    "**Syntax:**\n",
    "```python\n",
    "def function_name(parameter1, parameter2, ...):\n",
    "    \"\"\"Optional docstring explaining the function.\"\"\"\n",
    "    # Code block (function body)\n",
    "    statement1\n",
    "    statement2\n",
    "    return value # Optional return statement\n",
    "```\n",
    "\n",
    "*   **Parameters:** Variables listed inside the parentheses in the function definition.\n",
    "*   **Arguments:** Actual values passed to the function when it is called.\n",
    "*   **Docstring:** A string literal (usually triple-quoted) right after the `def` line, explaining what the function does. Essential for documentation.\n",
    "*   **`return` statement:** Exits the function and optionally sends back a value. If omitted, the function implicitly returns `None`."
   ]
  },
  {
   "cell_type": "code",
   "execution_count": 16,
   "metadata": {},
   "outputs": [
    {
     "name": "stdout",
     "output_type": "stream",
     "text": [
      "Function call: greet('Alice') -> Hello, Alice!\n",
      "\n",
      "Docstring for greet():\n",
      "Returns a simple greeting message.\n",
      "\n",
      "Args:\n",
      "    name: The name of the person to greet.\n",
      "\n",
      "Returns:\n",
      "    A greeting string.\n",
      "\n",
      "Message: Testing\n",
      "Return value of print_message(): None\n"
     ]
    }
   ],
   "source": [
    "# --- Demonstrate: Simple Function Definition ---\n",
    "from typing import Union # For type hinting multiple possible types\n",
    "\n",
    "def greet(name: str) -> str:\n",
    "    \"\"\"Returns a simple greeting message.\n",
    "\n",
    "    Args:\n",
    "        name: The name of the person to greet.\n",
    "\n",
    "    Returns:\n",
    "        A greeting string.\n",
    "    \"\"\"\n",
    "    # This is the function body\n",
    "    return f\"Hello, {name}!\"\n",
    "\n",
    "# Calling the function\n",
    "message = greet(\"Alice\")\n",
    "print(f\"Function call: greet('Alice') -> {message}\")\n",
    "\n",
    "# Accessing the docstring\n",
    "print(f\"\\nDocstring for greet():\\n{greet.__doc__}\")\n",
    "\n",
    "# Function returning None implicitly\n",
    "def print_message(msg: str) -> None: # Type hint indicates no return value\n",
    "    \"\"\"Prints a message to the console.\"\"\"\n",
    "    print(f\"Message: {msg}\")\n",
    "\n",
    "return_value = print_message(\"Testing\")\n",
    "print(f\"Return value of print_message(): {return_value}\") # Output: None"
   ]
  },
  {
   "cell_type": "markdown",
   "metadata": {},
   "source": [
    "## 2. Function Arguments\n",
    "\n",
    "Python offers flexible ways to define and pass arguments to functions."
   ]
  },
  {
   "cell_type": "markdown",
   "metadata": {},
   "source": [
    "### 2a. Positional and Keyword Arguments\n",
    "\n",
    "*   **Positional Arguments:** Matched based on their order during the function call.\n",
    "*   **Keyword Arguments:** Matched based on the parameter name specified during the function call. They can appear in any order *after* positional arguments."
   ]
  },
  {
   "cell_type": "code",
   "execution_count": 17,
   "metadata": {},
   "outputs": [
    {
     "name": "stdout",
     "output_type": "stream",
     "text": [
      "Positional call: I have a hamster named Harry.\n",
      "Keyword call 1: I have a dog named Willie.\n",
      "Keyword call 2: I have a fish named Goldie.\n",
      "Mixed call: I have a cat named Whiskers.\n"
     ]
    }
   ],
   "source": [
    "def describe_pet(animal_type: str, pet_name: str) -> str:\n",
    "    \"\"\"Describes a pet.\n",
    "\n",
    "    Args:\n",
    "        animal_type: The type of animal.\n",
    "        pet_name: The name of the pet.\n",
    "    \n",
    "    Returns:\n",
    "        A descriptive string.\n",
    "    \"\"\"\n",
    "    return f\"I have a {animal_type} named {pet_name}.\"\n",
    "\n",
    "# --- Calling with positional arguments ---\n",
    "desc1 = describe_pet(\"hamster\", \"Harry\")\n",
    "print(f\"Positional call: {desc1}\")\n",
    "\n",
    "# --- Calling with keyword arguments ---\n",
    "desc2 = describe_pet(animal_type=\"dog\", pet_name=\"Willie\")\n",
    "desc3 = describe_pet(pet_name=\"Goldie\", animal_type=\"fish\") # Order doesn't matter\n",
    "print(f\"Keyword call 1: {desc2}\")\n",
    "print(f\"Keyword call 2: {desc3}\")\n",
    "\n",
    "# --- Calling with a mix (Positional must come first) ---\n",
    "desc4 = describe_pet(\"cat\", pet_name=\"Whiskers\")\n",
    "print(f\"Mixed call: {desc4}\")\n",
    "\n",
    "# --- Incorrect calls ---\n",
    "# describe_pet(pet_name=\"Buddy\", \"dog\") # SyntaxError: positional argument follows keyword argument\n",
    "# describe_pet(\"parrot\") # TypeError: missing 1 required positional argument: 'pet_name'"
   ]
  },
  {
   "cell_type": "markdown",
   "metadata": {},
   "source": [
    "### 2b. Default Argument Values\n",
    "\n",
    "You can provide default values for parameters. If an argument for that parameter isn't provided during the call, the default value is used.\n",
    "\n",
    "**CRITICAL PITFALL:** Default values are evaluated *only once* when the function is defined, not each time it's called. Avoid using mutable objects (like lists or dictionaries) as default values, as modifications will persist across calls."
   ]
  },
  {
   "cell_type": "code",
   "execution_count": 18,
   "metadata": {},
   "outputs": [
    {
     "name": "stdout",
     "output_type": "stream",
     "text": [
      "power(5): 25.0\n",
      "power(5, 3): 125\n",
      "power(base=3): 9.0\n",
      "power(exponent=4, base=2): 16\n",
      "Mutable Default (Call 1): ['apple']\n",
      "Mutable Default (Call 2): ['apple', 'banana']\n",
      "\n",
      "Correct Default (Call 1): ['cherry']\n",
      "Correct Default (Call 2): ['date']\n"
     ]
    }
   ],
   "source": [
    "from typing import List, Optional\n",
    "\n",
    "def power(base: float, exponent: float = 2.0) -> float:\n",
    "    \"\"\"Calculates base raised to the exponent power.\"\"\"\n",
    "    return base ** exponent\n",
    "\n",
    "print(f\"power(5): {power(5)}\")             # Uses default exponent=2 -> 25.0\n",
    "print(f\"power(5, 3): {power(5, 3)}\")       # Overrides default -> 125.0\n",
    "print(f\"power(base=3): {power(base=3)}\")   # Uses default exponent -> 9.0\n",
    "print(f\"power(exponent=4, base=2): {power(exponent=4, base=2)}\") # Overrides default -> 16.0\n",
    "\n",
    "# --- Pitfall: Mutable Default Argument ---\n",
    "def add_item_bad(item: str, target_list: List[str] = []) -> List[str]: # DANGER! Default is mutable list\n",
    "    \"\"\"Adds an item to a list (incorrectly uses mutable default).\"\"\"\n",
    "    target_list.append(item)\n",
    "    return target_list\n",
    "\n",
    "list1 = add_item_bad(\"apple\")\n",
    "print(f\"Mutable Default (Call 1): {list1}\") # Output: ['apple']\n",
    "list2 = add_item_bad(\"banana\") # Modifies the SAME default list!\n",
    "print(f\"Mutable Default (Call 2): {list2}\") # Output: ['apple', 'banana']\n",
    "\n",
    "# --- Correct Way: Use None as default and create list inside ---\n",
    "def add_item_good(item: str, target_list: Optional[List[str]] = None) -> List[str]:\n",
    "    \"\"\"Adds an item to a list correctly (uses None default).\"\"\"\n",
    "    if target_list is None:\n",
    "        target_list = [] # Create a new list each time if none provided\n",
    "    target_list.append(item)\n",
    "    return target_list\n",
    "\n",
    "list3 = add_item_good(\"cherry\")\n",
    "print(f\"\\nCorrect Default (Call 1): {list3}\") # Output: ['cherry']\n",
    "list4 = add_item_good(\"date\")\n",
    "print(f\"Correct Default (Call 2): {list4}\") # Output: ['date']"
   ]
  },
  {
   "cell_type": "markdown",
   "metadata": {},
   "source": [
    "### 2c. Arbitrary Positional Arguments (`*args`)\n",
    "\n",
    "Using `*args` in the function definition allows it to accept any number of positional arguments. These arguments are collected into a tuple named `args` (the name `args` is convention, but the `*` is required)."
   ]
  },
  {
   "cell_type": "code",
   "execution_count": 19,
   "metadata": {},
   "outputs": [
    {
     "name": "stdout",
     "output_type": "stream",
     "text": [
      "  Inside calculate_sum, numbers received: (1, 2, 3) (Type: <class 'tuple'>)\n",
      "calculate_sum(1, 2, 3) -> 6.0\n",
      "\n",
      "  Inside calculate_sum, numbers received: (10.5, 20.0, -5.5, 1.0) (Type: <class 'tuple'>)\n",
      "calculate_sum(10.5, 20.0, -5.5, 1.0) -> 26.0\n",
      "\n",
      "  Inside calculate_sum, numbers received: () (Type: <class 'tuple'>)\n",
      "calculate_sum() -> 0.0\n"
     ]
    }
   ],
   "source": [
    "from typing import Any, Tuple\n",
    "\n",
    "def calculate_sum(*numbers: float) -> float:\n",
    "    \"\"\"Calculates the sum of an arbitrary number of arguments.\n",
    "    \n",
    "    Args:\n",
    "        *numbers: A variable number of numeric arguments.\n",
    "        \n",
    "    Returns:\n",
    "        The sum of the numbers.\n",
    "    \"\"\"\n",
    "    print(f\"  Inside calculate_sum, numbers received: {numbers} (Type: {type(numbers)})\")\n",
    "    total = 0.0\n",
    "    for num in numbers:\n",
    "        total += num\n",
    "    return total\n",
    "\n",
    "sum1 = calculate_sum(1, 2, 3)\n",
    "print(f\"calculate_sum(1, 2, 3) -> {sum1}\\n\")\n",
    "\n",
    "sum2 = calculate_sum(10.5, 20.0, -5.5, 1.0)\n",
    "print(f\"calculate_sum(10.5, 20.0, -5.5, 1.0) -> {sum2}\\n\")\n",
    "\n",
    "sum3 = calculate_sum() # No arguments\n",
    "print(f\"calculate_sum() -> {sum3}\")"
   ]
  },
  {
   "cell_type": "markdown",
   "metadata": {},
   "source": [
    "### 2d. Arbitrary Keyword Arguments (`**kwargs`)\n",
    "\n",
    "Using `**kwargs` allows a function to accept any number of keyword arguments that haven't been defined explicitly as parameters. These arguments are collected into a dictionary named `kwargs` (again, `kwargs` is convention, `**` is required)."
   ]
  },
  {
   "cell_type": "code",
   "execution_count": 20,
   "metadata": {},
   "outputs": [
    {
     "name": "stdout",
     "output_type": "stream",
     "text": [
      "  Inside build_profile, kwargs received: {'location': 'Princeton', 'field': 'Physics'} (Type: <class 'dict'>)\n",
      "User Profile 1: {'first_name': 'Albert', 'last_name': 'Einstein', 'location': 'Princeton', 'field': 'Physics'}\n",
      "\n",
      "  Inside build_profile, kwargs received: {'location': 'Paris', 'field': 'Chemistry', 'nobel_prizes': 2} (Type: <class 'dict'>)\n",
      "User Profile 2: {'first_name': 'Marie', 'last_name': 'Curie', 'location': 'Paris', 'field': 'Chemistry', 'nobel_prizes': 2}\n"
     ]
    }
   ],
   "source": [
    "from typing import Dict, Any\n",
    "\n",
    "def build_profile(first: str, last: str, **user_info: Any) -> Dict[str, Any]:\n",
    "    \"\"\"Builds a dictionary containing user information.\n",
    "\n",
    "    Args:\n",
    "        first: First name (required).\n",
    "        last: Last name (required).\n",
    "        **user_info: Arbitrary keyword arguments for additional info.\n",
    "\n",
    "    Returns:\n",
    "        A dictionary representing the user profile.\n",
    "    \"\"\"\n",
    "    profile: Dict[str, Any] = {}\n",
    "    profile['first_name'] = first\n",
    "    profile['last_name'] = last\n",
    "    print(f\"  Inside build_profile, kwargs received: {user_info} (Type: {type(user_info)})\")\n",
    "    for key, value in user_info.items():\n",
    "        profile[key] = value\n",
    "    return profile\n",
    "\n",
    "user1 = build_profile('Albert', 'Einstein', \n",
    "                        location='Princeton', \n",
    "                        field='Physics')\n",
    "print(f\"User Profile 1: {user1}\\n\")\n",
    "\n",
    "user2 = build_profile('Marie', 'Curie', \n",
    "                        location='Paris', \n",
    "                        field='Chemistry', \n",
    "                        nobel_prizes=2)\n",
    "print(f\"User Profile 2: {user2}\")"
   ]
  },
  {
   "cell_type": "markdown",
   "metadata": {},
   "source": [
    "### 2e. Combining Argument Types\n",
    "\n",
    "Functions can combine all types of arguments. The required order in the function definition is:\n",
    "1.  Standard positional arguments\n",
    "2.  Default arguments\n",
    "3.  `*args`\n",
    "4.  Keyword-only arguments (optional, defined after `*` or `*args`)\n",
    "5.  `**kwargs`"
   ]
  },
  {
   "cell_type": "code",
   "execution_count": 21,
   "metadata": {},
   "outputs": [
    {
     "name": "stdout",
     "output_type": "stream",
     "text": [
      "--- Function Call --- \n",
      "Name (positional/keyword): Box\n",
      "Count (default/keyword): 1\n",
      "Items (*args tuple): ()\n",
      "Separator (keyword-only): , \n",
      "Attributes (**kwargs dict): {}\n",
      "--------------------\n",
      "\n",
      "--- Function Call --- \n",
      "Name (positional/keyword): Bag\n",
      "Count (default/keyword): 3\n",
      "Items (*args tuple): ('apple', 'banana')\n",
      "Separator (keyword-only): , \n",
      "Attributes (**kwargs dict): {}\n",
      "--------------------\n",
      "\n",
      "--- Function Call --- \n",
      "Name (positional/keyword): Shelf\n",
      "Count (default/keyword): 5\n",
      "Items (*args tuple): ('apple', 'banana', 'cherry')\n",
      "Separator (keyword-only): , \n",
      "Attributes (**kwargs dict): {'color': 'brown', 'height': 180}\n",
      "--------------------\n",
      "\n",
      "--- Function Call --- \n",
      "Name (positional/keyword): Drawer\n",
      "Count (default/keyword): 1\n",
      "Items (*args tuple): ()\n",
      "Separator (keyword-only): ; \n",
      "Attributes (**kwargs dict): {'width': 50, 'depth': 40}\n",
      "--------------------\n",
      "\n",
      "--- Function Call --- \n",
      "Name (positional/keyword): Cupboard\n",
      "Count (default/keyword): 10\n",
      "Items (*args tuple): ('plates', 'cups', 'glasses')\n",
      "Separator (keyword-only):  | \n",
      "Attributes (**kwargs dict): {'material': 'wood', 'locked': False}\n",
      "--------------------\n",
      "\n"
     ]
    }
   ],
   "source": [
    "from typing import Any, Tuple, Dict\n",
    "\n",
    "def kitchen_sink(name: str, count: int = 1, *items: str, separator: str = ', ', **attributes: Any):\n",
    "    \"\"\"Demonstrates various argument types.\"\"\"\n",
    "    print(f\"--- Function Call --- \")\n",
    "    print(f\"Name (positional/keyword): {name}\")\n",
    "    print(f\"Count (default/keyword): {count}\")\n",
    "    print(f\"Items (*args tuple): {items}\")\n",
    "    print(f\"Separator (keyword-only): {separator}\")\n",
    "    print(f\"Attributes (**kwargs dict): {attributes}\")\n",
    "    print(\"--------------------\\n\")\n",
    "\n",
    "# Various ways to call it\n",
    "kitchen_sink(\"Box\")\n",
    "kitchen_sink(\"Bag\", 3, \"apple\", \"banana\")\n",
    "kitchen_sink(\"Shelf\",5, \"apple\", \"banana\", \"cherry\",  color=\"brown\", height=180)\n",
    "kitchen_sink(\"Drawer\", separator='; ', width=50, depth=40) # Note: items is empty tuple\n",
    "kitchen_sink(\"Cupboard\", 10, \"plates\", \"cups\", \"glasses\", separator=' | ', material=\"wood\", locked=False)"
   ]
  },
  {
   "cell_type": "markdown",
   "metadata": {},
   "source": [
    "## 3. Scoping (LEGB Rule)\n",
    "\n",
    "**Explain:** Python determines the scope of a variable (where it can be accessed) using the **LEGB** rule, checked in this order:\n",
    "\n",
    "1.  **L - Local:** Variables assigned within the current function (`def` or `lambda`).\n",
    "2.  **E - Enclosing function locals:** Variables in the local scope of any enclosing functions (applies to nested functions).\n",
    "3.  **G - Global:** Variables assigned at the top level of a module file, or explicitly declared `global` within a function.\n",
    "4.  **B - Built-in:** Pre-assigned names in Python (e.g., `print`, `len`, `str`, `list`, exceptions like `ValueError`).\n",
    "\n",
    "Python searches these scopes sequentially. The first occurrence of the variable name found is used."
   ]
  },
  {
   "cell_type": "code",
   "execution_count": 22,
   "metadata": {},
   "outputs": [
    {
     "name": "stdout",
     "output_type": "stream",
     "text": [
      "Outside all functions:\n",
      "Accessing global_var: I am global\n",
      "Inside outer_function:\n",
      "  Accessing enclosing_var: I am enclosing\n",
      "  Accessing global_var: I am global\n",
      "  Inside inner_function:\n",
      "    Accessing local_var: I am local\n",
      "    Accessing enclosing_var: I am enclosing\n",
      "    Accessing global_var: I am global\n",
      "    Accessing built_in (len): <built-in function len>\n"
     ]
    }
   ],
   "source": [
    "# --- Demonstrate: LEGB Scope ---\n",
    "\n",
    "# G - Global scope\n",
    "global_var = \"I am global\"\n",
    "\n",
    "def outer_function():\n",
    "    # E - Enclosing function local scope\n",
    "    enclosing_var = \"I am enclosing\"\n",
    "    \n",
    "    def inner_function():\n",
    "        # L - Local scope\n",
    "        local_var = \"I am local\"\n",
    "        \n",
    "        print(f\"  Inside inner_function:\")\n",
    "        print(f\"    Accessing local_var: {local_var}\")         # L\n",
    "        print(f\"    Accessing enclosing_var: {enclosing_var}\") # E\n",
    "        print(f\"    Accessing global_var: {global_var}\")     # G\n",
    "        print(f\"    Accessing built_in (len): {len}\")        # B\n",
    "        \n",
    "    print(f\"Inside outer_function:\")\n",
    "    # print(f\"  Trying to access local_var: {local_var}\") # NameError: local_var not defined here\n",
    "    print(f\"  Accessing enclosing_var: {enclosing_var}\")\n",
    "    print(f\"  Accessing global_var: {global_var}\")\n",
    "    inner_function() # Call the inner function\n",
    "\n",
    "print(\"Outside all functions:\")\n",
    "print(f\"Accessing global_var: {global_var}\")\n",
    "# print(f\"Trying to access enclosing_var: {enclosing_var}\") # NameError: enclosing_var not defined here\n",
    "# print(f\"Trying to access local_var: {local_var}\") # NameError: local_var not defined here\n",
    "outer_function() # Call the outer function"
   ]
  },
  {
   "cell_type": "markdown",
   "metadata": {},
   "source": [
    "## 4. Modifying Scopes (`global` and `nonlocal`)\n",
    "\n",
    "**Explain:** By default, assigning to a variable inside a function creates a *local* variable. To modify variables in outer scopes, you need specific keywords:\n",
    "\n",
    "*   **`global` keyword:** Declares that a variable inside a function refers to the *global* scope. Use this if you need to modify a global variable.\n",
    "*   **`nonlocal` keyword:** Declares that a variable inside a *nested* function refers to a variable in an *enclosing* (but not global) scope. Use this to modify variables in the parent function(s).\n",
    "\n",
    "**Caution:** Modifying global variables is generally discouraged as it can make code harder to understand and debug (creates hidden dependencies). Use `nonlocal` judiciously for specific patterns like closures."
   ]
  },
  {
   "cell_type": "code",
   "execution_count": 23,
   "metadata": {},
   "outputs": [
    {
     "name": "stdout",
     "output_type": "stream",
     "text": [
      "Initial global call_count: 0\n",
      "  Inside increment_counter, global call_count is now: 1\n",
      "  Inside increment_counter, global call_count is now: 2\n",
      "Final global call_count: 2\n",
      "\n",
      "Initial tracked value via getter(): 100\n",
      "    Inside update_value: old tracked_value=100\n",
      "    Inside update_value: new tracked_value=150\n",
      "Updated tracked value via getter(): 150\n"
     ]
    }
   ],
   "source": [
    "# --- Demonstrate: global keyword ---\n",
    "call_count = 0 # Global variable\n",
    "\n",
    "def increment_counter():\n",
    "    global call_count # Declare intent to modify the global variable\n",
    "    call_count += 1\n",
    "    print(f\"  Inside increment_counter, global call_count is now: {call_count}\")\n",
    "\n",
    "print(f\"Initial global call_count: {call_count}\")\n",
    "increment_counter()\n",
    "increment_counter()\n",
    "print(f\"Final global call_count: {call_count}\\n\")\n",
    "\n",
    "# --- Demonstrate: nonlocal keyword ---\n",
    "def create_tracker():\n",
    "    tracked_value = 100 # Enclosing scope variable\n",
    "    \n",
    "    def update_value(new_val: int):\n",
    "        nonlocal tracked_value # Declare intent to modify the enclosing variable\n",
    "        print(f\"    Inside update_value: old tracked_value={tracked_value}\")\n",
    "        tracked_value = new_val\n",
    "        print(f\"    Inside update_value: new tracked_value={tracked_value}\")\n",
    "        \n",
    "    def get_value() -> int:\n",
    "        return tracked_value # Reads from enclosing scope (nonlocal not needed for reading)\n",
    "    \n",
    "    return update_value, get_value\n",
    "\n",
    "updater, getter = create_tracker()\n",
    "print(f\"Initial tracked value via getter(): {getter()}\")\n",
    "updater(150)\n",
    "print(f\"Updated tracked value via getter(): {getter()}\")"
   ]
  },
  {
   "cell_type": "markdown",
   "metadata": {},
   "source": [
    "## 5. Closures\n",
    "\n",
    "**Explain:** A closure occurs when a nested function (defined inside another function) remembers and has access to variables from its enclosing scope, even after the outer function has finished executing.\n",
    "\n",
    "The nested function, along with the captured variables from its environment, forms the closure.\n",
    "\n",
    "**Use Cases:** Creating function factories (like `make_multiplier` or `create_tracker` above), data hiding/encapsulation (less common in Python than classes), implementing decorators."
   ]
  },
  {
   "cell_type": "code",
   "execution_count": 24,
   "metadata": {},
   "outputs": [
    {
     "name": "stdout",
     "output_type": "stream",
     "text": [
      "Closure Example:\n",
      "add_5(10): 15\n",
      "add_5(20): 25\n",
      "add_100(10): 110\n",
      "Variables captured by add_5: 5\n"
     ]
    }
   ],
   "source": [
    "from typing import Callable\n",
    "\n",
    "def make_adder(n: int) -> Callable[[int], int]:\n",
    "    \"\"\"Returns a function that adds 'n' to its argument.\"\"\"\n",
    "    # 'n' is in the enclosing scope\n",
    "    \n",
    "    def adder(x: int) -> int:\n",
    "        # This inner function 'adder' closes over 'n'\n",
    "        # It remembers the value of 'n' from when make_adder was called\n",
    "        return x + n \n",
    "    \n",
    "    return adder # Return the inner function (the closure)\n",
    "\n",
    "# Create specific adder functions\n",
    "add_5 = make_adder(5)  # 'n' is 5 for this closure\n",
    "add_100 = make_adder(100) # 'n' is 100 for this closure\n",
    "\n",
    "print(f\"Closure Example:\")\n",
    "# Even though make_adder has finished, add_5 remembers n=5\n",
    "print(f\"add_5(10): {add_5(10)}\")   # Output: 15\n",
    "print(f\"add_5(20): {add_5(20)}\")   # Output: 25\n",
    "\n",
    "# add_100 remembers n=100\n",
    "print(f\"add_100(10): {add_100(10)}\") # Output: 110\n",
    "\n",
    "# You can inspect the closure's captured variables (for introspection)\n",
    "if hasattr(add_5, '__closure__') and add_5.__closure__:\n",
    "    print(f\"Variables captured by add_5: {add_5.__closure__[0].cell_contents}\") # Shows 5"
   ]
  },
  {
   "cell_type": "markdown",
   "metadata": {},
   "source": [
    "## Best Practices\n",
    "\n",
    "*   **DRY Principle:** Use functions to avoid repeating code blocks.\n",
    "*   **Single Responsibility:** Aim for functions that do one specific task well. This makes them easier to understand, test, and reuse.\n",
    "*   **Meaningful Names:** Choose clear, descriptive names for functions and parameters.\n",
    "*   **Docstrings:** Write informative docstrings (using standard formats like Google or NumPy style) to explain what the function does, its arguments, and what it returns.\n",
    "*   **Type Hints:** Use type hints to improve code clarity, enable static analysis, and catch potential errors early.\n",
    "*   **Avoid Mutable Defaults:** Use `None` as a default for mutable types and initialize them inside the function.\n",
    "*   **Limit `global`/`nonlocal`:** Use `global` and `nonlocal` sparingly, as they can reduce code clarity and increase the chance of bugs. Often, passing values explicitly or using classes is a better approach.\n",
    "*   **Keep Functions Short:** If a function becomes too long or complex, consider breaking it down into smaller helper functions."
   ]
  },
  {
   "cell_type": "markdown",
   "metadata": {},
   "source": [
    "## Common Pitfalls & Interview Questions\n",
    "\n",
    "*   **Pitfall: Mutable Default Arguments:** Accidentally sharing state between function calls due to mutable defaults.\n",
    "*   **Pitfall: Scope Confusion:** Modifying global or enclosing variables without using `global` or `nonlocal`, leading to `UnboundLocalError` or creating unintended local variables.\n",
    "*   **Pitfall: Forgetting `return`:** Expecting a value back from a function that doesn't explicitly `return` one (it returns `None`).\n",
    "*   **Pitfall: Argument Order:** Mixing positional and keyword arguments incorrectly.\n",
    "\n",
    "*   **Interview Question:** \"Explain the LEGB rule for variable scoping in Python.\"\n",
    "    *   *Answer:* Local, Enclosing function locals, Global, Built-in. Describes the order Python searches for variable names.\n",
    "*   **Interview Question:** \"What is the difference between positional and keyword arguments?\"\n",
    "    *   *Answer:* Positional args are matched by order, keyword args by name. Keywords must follow positionals.\n",
    "*   **Interview Question:** \"What do `*args` and `**kwargs` do in a function definition?\"\n",
    "    *   *Answer:* `*args` collects extra positional arguments into a tuple. `**kwargs` collects extra keyword arguments into a dictionary.\n",
    "*   **Interview Question:** \"Why should you generally avoid using mutable types (like lists) as default argument values? What's the correct way to handle this?\"\n",
    "    *   *Answer:* Defaults are evaluated once at definition time. Mutable defaults are shared across calls. Use `None` as default and create the mutable object inside the function if needed.\n",
    "*   **Interview Question:** \"What is a closure in Python? Give an example.\"\n",
    "    *   *Answer:* A nested function that remembers and accesses variables from its enclosing scope, even after the outer function returns. Example: a function factory like `make_adder`.\n",
    "*   **Interview Question:** \"When do you need to use the `global` or `nonlocal` keyword?\"\n",
    "    *   *Answer:* `global` to modify a variable in the global scope. `nonlocal` to modify a variable in an enclosing function's scope (but not global)."
   ]
  },
  {
   "cell_type": "markdown",
   "metadata": {},
   "source": [
    "## 6. Challenge: Flexible Data Formatter\n",
    "\n",
    "Write a function `format_data` that takes arbitrary key-value pairs (`**kwargs`) and formats them into a string.\n",
    "\n",
    "1.  The function should accept any number of keyword arguments.\n",
    "2.  It should also accept an optional keyword argument `prefix` (defaulting to an empty string) which should be added before each key-value pair string.\n",
    "3.  It should also accept an optional keyword argument `separator` (defaulting to `\", \"`) to join the formatted key-value strings.\n",
    "4.  The function should iterate through the `kwargs` (excluding `prefix` and `separator` if passed via `kwargs`) and create strings in the format `\"key=value\"`.\n",
    "5.  Each formatted string should have the `prefix` prepended.\n",
    "6.  Join these prefixed strings using the specified `separator`.\n",
    "7.  Return the final combined string."
   ]
  },
  {
   "cell_type": "code",
   "execution_count": 25,
   "metadata": {},
   "outputs": [
    {
     "name": "stdout",
     "output_type": "stream",
     "text": [
      "Test 1 (defaults): 'name=Test, value=100, status=Active'\n",
      "Test 2 (custom format): '--user=admin | --id=123'\n",
      "Test 3 (multiline format):\n",
      "'  -> a=1\n",
      "  -> b=2\n",
      "  -> c=3'\n",
      "Test 4 (no data args): ''\n"
     ]
    }
   ],
   "source": [
    "from typing import Any, Dict\n",
    "\n",
    "def format_data(**kwargs: Any) -> str:\n",
    "    \"\"\"Formats key-value pairs into a string with prefix and separator.\n",
    "\n",
    "    Args:\n",
    "        **kwargs: Arbitrary key-value pairs. Can include optional keys \n",
    "                  'prefix' (str) and 'separator' (str) for formatting.\n",
    "\n",
    "    Returns:\n",
    "        A formatted string.\n",
    "    \"\"\"\n",
    "    # Extract formatting args with defaults, remove them from kwargs if present\n",
    "    prefix = kwargs.pop('prefix', '') # Default to empty string\n",
    "    separator = kwargs.pop('separator', ', ') # Default to ', '\n",
    "    \n",
    "    formatted_parts: List[str] = []\n",
    "    # kwargs now only contains the data key-value pairs\n",
    "    for key, value in kwargs.items():\n",
    "        formatted_parts.append(f\"{prefix}{key}={value}\")\n",
    "        \n",
    "    return separator.join(formatted_parts)\n",
    "\n",
    "# --- Test the function ---\n",
    "result1 = format_data(name=\"Test\", value=100, status=\"Active\")\n",
    "print(f\"Test 1 (defaults): '{result1}'\")\n",
    "\n",
    "result2 = format_data(user=\"admin\", id=123, prefix=\"--\", separator=' | ')\n",
    "print(f\"Test 2 (custom format): '{result2}'\")\n",
    "\n",
    "result3 = format_data(a=1, b=2, c=3, prefix='  -> ', separator='\\n')\n",
    "print(f\"Test 3 (multiline format):\\n'{result3}'\")\n",
    "\n",
    "result4 = format_data(prefix='Item: ', separator='; ')\n",
    "print(f\"Test 4 (no data args): '{result4}'\")"
   ]
  },
  {
   "cell_type": "markdown",
   "metadata": {},
   "source": [
    "## Quiz\n",
    "\n",
    "1.  What is the primary purpose of using functions?\n",
    "    a) To make code run faster.\n",
    "    b) To store large amounts of data.\n",
    "    c) To organize code, reduce repetition, and improve readability.\n",
    "    d) To handle file input/output.\n",
    "\n",
    "2.  In the LEGB rule, what does 'E' stand for?\n",
    "    a) External\n",
    "    b) Environmental\n",
    "    c) Enclosing function locals\n",
    "    d) Executable\n",
    "\n",
    "3.  What will `my_func('a', 'b', c=3, d=4)` print if `def my_func(x, *args, **kwargs): print(args, kwargs)`?\n",
    "    a) `('a', 'b') {'c': 3, 'd': 4}`\n",
    "    b) `('b',) {'c': 3, 'd': 4}`\n",
    "    c) `('a', 'b', 'c', 'd') {}`\n",
    "    d) `() {'x': 'a', 'args': ('b',), 'c': 3, 'd': 4}`\n",
    "\n",
    "4.  Why is `def add_nums(nums=[]): nums.append(1); print(nums)` considered bad practice?\n",
    "    a) Function names cannot contain underscores.\n",
    "    b) The default list `[]` is mutable and shared across calls.\n",
    "    c) `append` is an inefficient list operation.\n",
    "    d) Print statements should not be inside functions.\n",
    "\n",
    "5.  When is the `nonlocal` keyword used?\n",
    "    a) To modify a global variable from within any function.\n",
    "    b) To modify a variable in an enclosing function's scope from a nested function.\n",
    "    c) To declare a variable that exists only outside of functions.\n",
    "    d) To access built-in functions.\n",
    "\n",
    "*(Answers: 1-c, 2-c, 3-b, 4-b, 5-b)*"
   ]
  },
  {
   "cell_type": "markdown",
   "metadata": {},
   "source": [
    "## Conclusion\n",
    "\n",
    "Functions and scoping are core concepts in Python. Mastering function definition, understanding the different ways to handle arguments (`*args`, `**kwargs`, defaults), and grasping the LEGB scope rules (along with `global` and `nonlocal`) are essential for writing robust, maintainable, and bug-free Python applications. Closures provide a powerful mechanism for creating specialized functions and managing state."
   ]
  }
 ],
 "metadata": {
  "kernelspec": {
   "display_name": "Python 3",
   "language": "python",
   "name": "python3"
  },
  "language_info": {
   "codemirror_mode": {
    "name": "ipython",
    "version": 3
   },
   "file_extension": ".py",
   "mimetype": "text/x-python",
   "name": "python",
   "nbconvert_exporter": "python",
   "pygments_lexer": "ipython3",
   "version": "3.13.3"
  }
 },
 "nbformat": 4,
 "nbformat_minor": 4
}
