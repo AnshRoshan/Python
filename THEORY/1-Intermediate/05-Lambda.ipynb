{
 "cells": [
  {
   "cell_type": "markdown",
   "metadata": {},
   "source": [
    "# Python Fundamentals: Lambda Functions - Concise Anonymous Functions"
   ]
  },
  {
   "cell_type": "markdown",
   "metadata": {},
   "source": [
    "## Introduction\n",
    "\n",
    "A **lambda function** is a small, anonymous function defined using the `lambda` keyword. It's essentially a shorthand for creating simple functions without the need for a full `def` statement.\n",
    "\n",
    "**Syntax:**\n",
    "`lambda arguments: expression`\n",
    "\n",
    "**Key Characteristics:**\n",
    "*   **Anonymous:** They don't have a formal name (though they can be assigned to variables).\n",
    "*   **Concise:** Defined on a single line.\n",
    "*   **Implicit Return:** The result of the `expression` is automatically returned.\n",
    "*   **Single Expression:** Can only contain one expression, not multiple statements or annotations.\n",
    "*   **Any Number of Arguments:** Can take zero or more arguments."
   ]
  },
  {
   "cell_type": "markdown",
   "metadata": {},
   "source": [
    "## Real-World Analogies & Use Cases\n",
    "\n",
    "*   **Quick Calculation Snippet:** Like a small calculator function you use just once for a specific task.\n",
    "*   **Inline Callback:** A simple action passed directly to another function that expects a function as input (e.g., in GUI programming for simple button clicks).\n",
    "*   **Sorting Keys:** Providing a quick rule for how to sort complex objects.\n",
    "*   **Map/Filter/Reduce Arguments:** Supplying simple transformation or filtering logic to these functional programming tools."
   ]
  },
  {
   "cell_type": "markdown",
   "metadata": {},
   "source": [
    "## 1. Explain & Demonstrate: Basic Lambda Functions\n",
    "\n",
    "Let's create some simple lambda functions and assign them to variables to call them."
   ]
  },
  {
   "cell_type": "code",
   "execution_count": 1,
   "metadata": {},
   "outputs": [
    {
     "name": "stdout",
     "output_type": "stream",
     "text": [
      "Lambda adding 10:\n",
      "add_ten(5)   -> 15\n",
      "add_ten(100) -> 110\n",
      "\n",
      "Lambda multiplying x * y:\n",
      "multiply(2, 10) -> 20\n",
      "multiply(7, 5)  -> 35\n",
      "\n",
      "Lambda with no arguments:\n",
      "get_pi() -> 3.14159\n"
     ]
    }
   ],
   "source": [
    "from typing import Callable\n",
    "\n",
    "# --- Lambda with one argument ---\n",
    "# Adds 10 to the input\n",
    "add_ten: Callable[[int], int] = lambda x: x + 10\n",
    "\n",
    "result1 = add_ten(5)\n",
    "result2 = add_ten(100)\n",
    "print(f\"Lambda adding 10:\")\n",
    "print(f\"add_ten(5)   -> {result1}\")\n",
    "print(f\"add_ten(100) -> {result2}\\n\")\n",
    "\n",
    "# --- Lambda with multiple arguments ---\n",
    "# Multiplies two inputs\n",
    "multiply: Callable[[int, int], int] = lambda x, y: x * y\n",
    "\n",
    "result3 = multiply(2, 10)\n",
    "result4 = multiply(7, 5)\n",
    "print(f\"Lambda multiplying x * y:\")\n",
    "print(f\"multiply(2, 10) -> {result3}\")\n",
    "print(f\"multiply(7, 5)  -> {result4}\\n\")\n",
    "\n",
    "# --- Lambda with no arguments ---\n",
    "get_pi: Callable[[], float] = lambda: 3.14159\n",
    "pi_value = get_pi()\n",
    "print(f\"Lambda with no arguments:\")\n",
    "print(f\"get_pi() -> {pi_value}\")"
   ]
  },
  {
   "cell_type": "markdown",
   "metadata": {},
   "source": [
    "## 2. Apply: Common Use Cases for Lambda\n",
    "\n",
    "Lambdas shine when used as arguments to higher-order functions (functions that operate on other functions)."
   ]
  },
  {
   "cell_type": "markdown",
   "metadata": {},
   "source": [
    "### 2a. Custom Sorting (`key` parameter)\n",
    "\n",
    "The `sorted()` function and `list.sort()` method accept a `key` argument. This argument takes a function that transforms each element before comparison. Lambdas are perfect for providing simple key functions inline."
   ]
  },
  {
   "cell_type": "code",
   "execution_count": 2,
   "metadata": {},
   "outputs": [
    {
     "name": "stdout",
     "output_type": "stream",
     "text": [
      "Original points: [(1, 9), (4, 1), (5, -3), (10, 2)]\n",
      "Sorted by Y-coordinate: [(5, -3), (4, 1), (10, 2), (1, 9)]\n",
      "\n",
      "Original numbers: [-1, -4, -2, -3, 1, 2, 3, 4]\n",
      "Sorted by absolute value: [-1, 1, -2, 2, -3, 3, -4, 4]\n",
      "\n",
      "Original users: [{'name': 'Alice', 'age': 30}, {'name': 'Bob', 'age': 25}, {'name': 'Charlie', 'age': 35}]\n",
      "Sorted by age: [{'name': 'Bob', 'age': 25}, {'name': 'Alice', 'age': 30}, {'name': 'Charlie', 'age': 35}]\n"
     ]
    }
   ],
   "source": [
    "from typing import List, Tuple\n",
    "\n",
    "# Sort list of tuples based on the second element\n",
    "points_2d: List[Tuple[int, int]] = [(1, 9), (4, 1), (5, -3), (10, 2)]\n",
    "sorted_by_y = sorted(points_2d, key=lambda point: point[1])\n",
    "print(f\"Original points: {points_2d}\")\n",
    "print(f\"Sorted by Y-coordinate: {sorted_by_y}\\n\")\n",
    "\n",
    "# Sort list of numbers by their absolute value\n",
    "numbers: List[int] = [-1, -4, -2, -3, 1, 2, 3, 4]\n",
    "sorted_by_abs = sorted(numbers, key=lambda x: abs(x))\n",
    "print(f\"Original numbers: {numbers}\")\n",
    "print(f\"Sorted by absolute value: {sorted_by_abs}\\n\")\n",
    "\n",
    "# Sort list of dictionaries by age\n",
    "users = [\n",
    "    {'name': 'Alice', 'age': 30},\n",
    "    {'name': 'Bob', 'age': 25},\n",
    "    {'name': 'Charlie', 'age': 35}\n",
    "]\n",
    "sorted_by_age = sorted(users, key=lambda user: user['age'])\n",
    "print(f\"Original users: {users}\")\n",
    "print(f\"Sorted by age: {sorted_by_age}\")"
   ]
  },
  {
   "cell_type": "markdown",
   "metadata": {},
   "source": [
    "### 2b. Functional Tools (`map`, `filter`, `reduce`)\n",
    "\n",
    "Lambdas are frequently used with `map` (apply function to all items), `filter` (select items based on a condition), and `functools.reduce` (accumulate values).\n",
    "\n",
    "**Modern Python Note:** While functional, `map` and `filter` with `lambda` can often be replaced by more readable **list comprehensions** or **generator expressions**. Use `map` when you already have an existing, complex function to apply. `reduce` is less common and often less readable than an explicit loop for accumulation, but lambdas fit its required function signature."
   ]
  },
  {
   "cell_type": "code",
   "execution_count": 3,
   "metadata": {},
   "outputs": [
    {
     "name": "stdout",
     "output_type": "stream",
     "text": [
      "Original list: [1, 2, 3, 4, 5, 6]\n",
      "Doubled with map/lambda: [2, 4, 6, 8, 10, 12]\n",
      "Doubled with list comp:  [2, 4, 6, 8, 10, 12]\n",
      "\n",
      "Original list: [1, 2, 3, 4, 5, 6]\n",
      "Evens with filter/lambda: [2, 4, 6]\n",
      "Evens with list comp:     [2, 4, 6]\n",
      "\n",
      "Original list: [1, 2, 3, 4, 5, 6]\n",
      "Product with reduce/lambda: 720\n",
      "Sum with reduce/lambda:     21\n"
     ]
    }
   ],
   "source": [
    "from functools import reduce\n",
    "from typing import List\n",
    "\n",
    "nums: List[int] = [1, 2, 3, 4, 5, 6]\n",
    "\n",
    "# --- map: Apply lambda to each element ---\n",
    "# Multiply each element by 2\n",
    "doubled_map = list(map(lambda x: x * 2, nums))\n",
    "# List comprehension equivalent (often preferred)\n",
    "doubled_lc = [x * 2 for x in nums]\n",
    "print(f\"Original list: {nums}\")\n",
    "print(f\"Doubled with map/lambda: {doubled_map}\")\n",
    "print(f\"Doubled with list comp:  {doubled_lc}\\n\")\n",
    "\n",
    "# --- filter: Select elements based on lambda condition ---\n",
    "# Get even numbers\n",
    "evens_filter = list(filter(lambda x: x % 2 == 0, nums))\n",
    "# List comprehension equivalent (often preferred)\n",
    "evens_lc = [x for x in nums if x % 2 == 0]\n",
    "print(f\"Original list: {nums}\")\n",
    "print(f\"Evens with filter/lambda: {evens_filter}\")\n",
    "print(f\"Evens with list comp:     {evens_lc}\\n\")\n",
    "\n",
    "# --- reduce: Accumulate values using lambda ---\n",
    "# Calculate product of all elements\n",
    "product = reduce(lambda x, y: x * y, nums)\n",
    "# Calculate sum of all elements\n",
    "total = reduce(lambda x, y: x + y, nums) # Equivalent to sum(nums)\n",
    "print(f\"Original list: {nums}\")\n",
    "print(f\"Product with reduce/lambda: {product}\")\n",
    "print(f\"Sum with reduce/lambda:     {total}\")"
   ]
  },
  {
   "cell_type": "markdown",
   "metadata": {},
   "source": [
    "### 2c. Lambdas in Closures\n",
    "\n",
    "A lambda can capture variables from its enclosing scope (closure). This allows creating customized functions on the fly.\n",
    "(Closures are covered in more detail in the Functions & Scoping notebook)."
   ]
  },
  {
   "cell_type": "code",
   "execution_count": 4,
   "metadata": {},
   "outputs": [
    {
     "name": "stdout",
     "output_type": "stream",
     "text": [
      "Using closure with lambda:\n",
      "doubler(10): 20\n",
      "tripler(10): 30\n"
     ]
    }
   ],
   "source": [
    "from typing import Callable\n",
    "\n",
    "def make_multiplier(n: int) -> Callable[[int], int]:\n",
    "    \"\"\"Returns a function that multiplies its argument by n.\"\"\"\n",
    "    return lambda x: x * n # Lambda captures 'n' from enclosing scope\n",
    "\n",
    "# Create specific multiplier functions\n",
    "doubler = make_multiplier(2)\n",
    "tripler = make_multiplier(3)\n",
    "\n",
    "print(f\"Using closure with lambda:\")\n",
    "print(f\"doubler(10): {doubler(10)}\") # Output: 20\n",
    "print(f\"tripler(10): {tripler(10)}\") # Output: 30"
   ]
  },
  {
   "cell_type": "markdown",
   "metadata": {},
   "source": [
    "## 3. Lambda vs. `def` Functions\n",
    "\n",
    "| Feature          | `lambda`                           | `def` function                     |\n",
    "|------------------|------------------------------------|------------------------------------|\n",
    "| **Syntax**       | `lambda args: expression`          | `def name(args):\\n    statements` |\n",
    "| **Name**         | Anonymous (no name required)       | Requires a name                    |\n",
    "| **Body**         | Single expression                  | Multiple statements allowed        |\n",
    "| **Return**       | Implicit (expression result)       | Explicit `return` statement needed |\n",
    "| **Docstrings**   | Not supported                      | Supported (`\"\"\"Docstring\"\"\"`)    |\n",
    "| **Type Hints**   | Limited (can hint variable holding it) | Full support for args & return |\n",
    "| **Complexity**   | Best for very simple operations    | Suitable for any complexity        |\n",
    "| **Readability**  | Can decrease if expression is complex | Generally better for complex logic |\n"
   ]
  },
  {
   "cell_type": "markdown",
   "metadata": {},
   "source": [
    "## Best Practices\n",
    "\n",
    "*   **Keep it Simple:** Use lambdas only for simple, one-line operations where a full `def` seems overly verbose.\n",
    "*   **Readability First:** If the expression within the lambda becomes complex or hard to understand at a glance, use a regular `def` function instead. Named functions are easier to test and debug.\n",
    "*   **Prefer Comprehensions:** For many `map` and `filter` scenarios, list/dict/set comprehensions or generator expressions are often considered more Pythonic and readable than using `lambda`.\n",
    "*   **Avoid Assigning Lambdas (Usually):** While you *can* assign a lambda to a variable (`add = lambda x, y: x + y`), it's generally better to use `def` for named functions. Assigning lambdas offers few benefits over `def` and misses out on docstrings and better debugging support. The main exception is when demonstrating or passing them immediately.\n",
    "*   **Use for Callbacks/Keys:** Lambdas excel as short, throwaway functions provided as arguments (e.g., `key` in `sorted`, simple GUI callbacks)."
   ]
  },
  {
   "cell_type": "markdown",
   "metadata": {},
   "source": [
    "## Common Pitfalls & Interview Questions\n",
    "\n",
    "*   **Pitfall: Overuse/Complex Lambdas:** Trying to cram too much logic into a lambda makes code hard to read and debug.\n",
    "*   **Pitfall: Misunderstanding Single Expression Limit:** Trying to include multiple statements (assignments, loops, etc.) within a lambda body.\n",
    "*   **Pitfall: Debugging Challenges:** Since lambdas are anonymous, stack traces involving them can sometimes be less informative than those with named functions.\n",
    "\n",
    "*   **Interview Question:** \"What is a lambda function in Python?\"\n",
    "    *   *Answer:* A small, anonymous function defined with the `lambda` keyword, limited to a single expression whose result is implicitly returned.\n",
    "*   **Interview Question:** \"When should you use a lambda function?\"\n",
    "    *   *Answer:* When you need a simple, short-lived function, often as an argument to higher-order functions like `sorted`, `map`, `filter`, or for simple callbacks. Especially useful when defining a full `def` function would be unnecessarily verbose.\n",
    "*   **Interview Question:** \"What are the limitations of lambda functions compared to regular functions defined with `def`?\"\n",
    "    *   *Answer:* Limited to a single expression, cannot contain statements (like assignments, loops, try/except), cannot have docstrings, less ideal for complex logic due to readability concerns.\n",
    "*   **Interview Question:** \"Can a lambda function have default arguments?\"\n",
    "    *   *Answer:* Yes. `lambda x, y=10: x + y` is valid.\n",
    "*   **Interview Question:** \"Show an example of using lambda with the `sorted()` function.\"\n",
    "    *   *Answer:* `sorted(list_of_tuples, key=lambda item: item[1])` (sorts by the second element of each tuple)."
   ]
  },
  {
   "cell_type": "markdown",
   "metadata": {},
   "source": [
    "## 4. Challenge: Conditional Formatting\n",
    "\n",
    "You have a list of numbers. You want to create a new list where each number is formatted as a string based on whether it's even or odd.\n",
    "\n",
    "1.  Use the `map()` function and a `lambda` function.\n",
    "2.  The lambda should take a number `x`.\n",
    "3.  If `x` is even, it should return the string `f\"{x} (even)\"`.\n",
    "4.  If `x` is odd, it should return the string `f\"{x} (odd)\"`.\n",
    "5.  Apply this to a sample list `[10, 3, 8, 9, 4]`."
   ]
  },
  {
   "cell_type": "code",
   "execution_count": 5,
   "metadata": {},
   "outputs": [
    {
     "name": "stdout",
     "output_type": "stream",
     "text": [
      "Original: [10, 3, 8, 9, 4]\n",
      "Formatted (map/lambda): ['10 (even)', '3 (odd)', '8 (even)', '9 (odd)', '4 (even)']\n",
      "Formatted (list comp):  ['10 (even)', '3 (odd)', '8 (even)', '9 (odd)', '4 (even)']\n"
     ]
    }
   ],
   "source": [
    "from typing import List\n",
    "\n",
    "numbers_to_format: List[int] = [10, 3, 8, 9, 4]\n",
    "\n",
    "# Use map and lambda for conditional formatting\n",
    "formatted_list: List[str] = list(\n",
    "    map(\n",
    "        lambda x: f\"{x} (even)\" if x % 2 == 0 else f\"{x} (odd)\", \n",
    "        numbers_to_format\n",
    "    )\n",
    ")\n",
    "\n",
    "# Equivalent list comprehension (often preferred for readability)\n",
    "formatted_lc = [f\"{x} (even)\" if x % 2 == 0 else f\"{x} (odd)\" for x in numbers_to_format]\n",
    "\n",
    "print(f\"Original: {numbers_to_format}\")\n",
    "print(f\"Formatted (map/lambda): {formatted_list}\")\n",
    "print(f\"Formatted (list comp):  {formatted_lc}\")"
   ]
  },
  {
   "cell_type": "markdown",
   "metadata": {},
   "source": [
    "## Quiz\n",
    "\n",
    "1.  What is the correct syntax for a lambda function that squares its input `x`?\n",
    "    a) `def lambda x: x*x`\n",
    "    b) `lambda x = x*x`\n",
    "    c) `lambda x: x*x`\n",
    "    d) `lambda(x): x*x`\n",
    "\n",
    "2.  Which of the following is TRUE about lambda functions?\n",
    "    a) They can contain multiple expressions.\n",
    "    b) They must be assigned to a variable.\n",
    "    c) They can have docstrings.\n",
    "    d) They implicitly return the result of their single expression.\n",
    "\n",
    "3.  Consider `sorted(['apple', 'Banana', 'Cherry'], key=lambda s: s.lower())`. What will be the output?\n",
    "    a) `['apple', 'Banana', 'Cherry']`\n",
    "    b) `['apple', 'Cherry', 'Banana']`\n",
    "    c) `['Banana', 'Cherry', 'apple']`\n",
    "    d) `['Cherry', 'Banana', 'apple']`\n",
    "\n",
    "*(Answers: 1-c, 2-d, 3-a)*"
   ]
  },
  {
   "cell_type": "markdown",
   "metadata": {},
   "source": [
    "## Conclusion\n",
    "\n",
    "Lambda functions offer a concise way to define simple, anonymous functions in Python. While powerful when used appropriately (especially as arguments to higher-order functions like `sorted` or in simple callbacks), it's crucial to prioritize readability. For more complex logic, a standard `def` function is usually the better choice. Understanding the trade-offs helps you write clean, maintainable, and Pythonic code."
   ]
  }
 ],
 "metadata": {
  "kernelspec": {
   "display_name": "Python 3",
   "language": "python",
   "name": "python3"
  },
  "language_info": {
   "codemirror_mode": {
    "name": "ipython",
    "version": 3
   },
   "file_extension": ".py",
   "mimetype": "text/x-python",
   "name": "python",
   "nbconvert_exporter": "python",
   "pygments_lexer": "ipython3",
   "version": "3.13.3"
  }
 },
 "nbformat": 4,
 "nbformat_minor": 4
}
