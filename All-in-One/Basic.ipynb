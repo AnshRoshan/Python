{
 "cells": [
  {
   "cell_type": "code",
   "execution_count": 22,
   "metadata": {},
   "outputs": [
    {
     "name": "stdout",
     "output_type": "stream",
     "text": [
      "Hello From Ansh Roshan\n",
      " i am ansh roshan .\n",
      "i am stuying in the bce bhagalpur .\n",
      "i love to play the cricket\n",
      "Hi the name are: -Ansh and Roshan or ['Ansh', 'Roshan', 'whole world'] <--*-->hello world\n"
     ]
    }
   ],
   "source": [
    "print(\"Hello From Ansh Roshan\")\n",
    "name=[\"Ansh\",'Roshan','''whole world''']\n",
    "paragraph=''' i am ansh roshan .\n",
    "i am stuying in the bce bhagalpur .\n",
    "i love to play the cricket'''\n",
    "print(paragraph)\n",
    "print(f\"Hi the name are: -{name[0]} and {name[1]} or {name}\",\"hello world\" ,sep=\" <--*-->\")"
   ]
  },
  {
   "cell_type": "code",
   "execution_count": 11,
   "metadata": {},
   "outputs": [
    {
     "name": "stdout",
     "output_type": "stream",
     "text": [
      "10\n",
      "11\n",
      "1\n",
      "-12   -11\n",
      "1\n"
     ]
    }
   ],
   "source": [
    "## order of operators\n",
    "\n",
    "#  () ---           bracket     L->R\n",
    "#  ** ---           Exponent    R->L\n",
    "#   * / // %  ---   Multi       L->R\n",
    "#   + - ---         Add,sub     L->R\n",
    "\n",
    "a=11 ; b=10\n",
    "print(a&b)\n",
    "print(a|b)\n",
    "print(a^b)\n",
    "print(~a ,\" \" , ~b)\n",
    "print(a^b)"
   ]
  },
  {
   "cell_type": "code",
   "execution_count": 18,
   "metadata": {},
   "outputs": [
    {
     "name": "stdout",
     "output_type": "stream",
     "text": [
      "12\n",
      "0.1678820229615965\n",
      " ---------- Other way to use import ------------- \n",
      "11\n",
      "0.1349978403539398\n",
      "10\n",
      "13.476786012728054\n",
      "2\n",
      "[8, 1, 6]\n",
      "None\n"
     ]
    }
   ],
   "source": [
    "# mersene-twister ---> random module\n",
    "import random \n",
    "\n",
    "#  a<= num<=b\n",
    "a=10;b=20;\n",
    "num=random.randint(a,b)\n",
    "print(num)\n",
    "\n",
    "#  0<= num<=1\n",
    "num=random.random()\n",
    "print(num)\n",
    "\n",
    "\n",
    "print (\" ---------- Other way to use import ------------- \")\n",
    "# from random import random,randint,randrange,uniform,choice,choices,shuffle\n",
    "from random import *\n",
    "\n",
    "num=randint(a,b)\n",
    "print(num)\n",
    "num=random()\n",
    "print(num)\n",
    "num=randrange(a,b)\n",
    "print(num)\n",
    "num=uniform(a,b)\n",
    "print(num)\n",
    "arr=[1 ,4, 6, 7, 8, 2]\n",
    "print(choice(arr))\n",
    "print(choices(arr,k=3))  # ---- important\n",
    "print(shuffle(arr))\n"
   ]
  },
  {
   "cell_type": "code",
   "execution_count": 27,
   "metadata": {},
   "outputs": [
    {
     "name": "stdout",
     "output_type": "stream",
     "text": [
      "[67, [12, 32, 98], 38]\n",
      "[23, 12, 67]\n",
      "[12, 67]\n",
      "[23, 67, 38]\n",
      "[32, 98]\n",
      "[12, 32]\n",
      "[12, 98]\n"
     ]
    }
   ],
   "source": [
    "# slicing\n",
    "list1=[23,12,67,[12,32,98],38]\n",
    "print(list1[2:])\n",
    "print(list1[:-2])\n",
    "print(list1[1:-2])\n",
    "print(list1[::2])\n",
    "print(list1[3][1:])\n",
    "print(list1[3][:-1])\n",
    "print(list1[3][::2])"
   ]
  },
  {
   "cell_type": "code",
   "execution_count": 15,
   "metadata": {},
   "outputs": [
    {
     "name": "stdout",
     "output_type": "stream",
     "text": [
      "Tail\n"
     ]
    }
   ],
   "source": [
    "# Head-Tails Exercise\n",
    "from random import choice\n",
    "coin=[\"Head\",\"Tail\"]\n",
    "side=choice(coin)\n",
    "print(side)"
   ]
  },
  {
   "cell_type": "code",
   "execution_count": 6,
   "metadata": {},
   "outputs": [
    {
     "name": "stdout",
     "output_type": "stream",
     "text": [
      "[12, 34, 56, 28]\n",
      "[34, 23, 67, 34, 78]\n"
     ]
    }
   ],
   "source": [
    "height1=list(map(int,input(\"Enter the Number:-> \").split(\" \")))\n",
    "height2 = [int(x) for x in input(\"Enter the Numbers: \").split()]\n",
    "print(height1)\n",
    "print(height2)"
   ]
  }
 ],
 "metadata": {
  "kernelspec": {
   "display_name": "Python 3 (ipykernel)",
   "language": "python",
   "name": "python3"
  },
  "language_info": {
   "codemirror_mode": {
    "name": "ipython",
    "version": 3
   },
   "file_extension": ".py",
   "mimetype": "text/x-python",
   "name": "python",
   "nbconvert_exporter": "python",
   "pygments_lexer": "ipython3",
   "version": "3.11.8"
  }
 },
 "nbformat": 4,
 "nbformat_minor": 2
}
