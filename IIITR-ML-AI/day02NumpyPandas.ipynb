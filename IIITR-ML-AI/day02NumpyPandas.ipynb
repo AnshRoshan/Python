{
 "cells": [
  {
   "cell_type": "code",
   "execution_count": null,
   "metadata": {},
   "outputs": [],
   "source": [
    "import numpy as np\n",
    "\n",
    "arr=np.array([1,2,3,4,5])\n",
    "arr=np.array((1,2,3,4,5))\n",
    "print(arr)\n",
    "print(np.__version__)\n",
    "print(np.__package__)\n",
    "print(np.__git_version__)"
   ]
  },
  {
   "cell_type": "code",
   "execution_count": null,
   "metadata": {},
   "outputs": [],
   "source": [
    "tupa=[[1,2,3],[4,5,6]]\n",
    "arr=np.array(tupa)\n",
    "print(arr)\n"
   ]
  },
  {
   "cell_type": "code",
   "execution_count": null,
   "metadata": {},
   "outputs": [],
   "source": [
    "a=np.arange(1,9)\n",
    "a=np.linspace(0,10,100)\n",
    "print(a)\n"
   ]
  },
  {
   "cell_type": "code",
   "execution_count": null,
   "metadata": {},
   "outputs": [],
   "source": [
    "a=np.arange(1,9)\n",
    "b=np.arange(12,18)\n",
    "c=np.concatenate((a,b))\n",
    "c"
   ]
  },
  {
   "cell_type": "code",
   "execution_count": null,
   "metadata": {},
   "outputs": [],
   "source": [
    "a=np.arange(1,9)\n",
    "b=np.arange(2,10)\n",
    "c=np.union1d(a,b)\n",
    "print(c)\n",
    "c=np.intersect1d(a,b)\n",
    "print(c)\n",
    "c=np.setdiff1d(a,b)\n",
    "print(c)\n",
    "c=np.sum([a,b])\n",
    "print(a.sum())\n",
    "print(a.mean())\n",
    "print(a.std())\n",
    "print(np.median(a))\n",
    "print(np.split(a,2))\n",
    "print(np.array_split(a,3))\n",
    "print(np.array_split(a,3)[0])\n",
    "print(np.array_split(a,3)[2])"
   ]
  },
  {
   "cell_type": "code",
   "execution_count": null,
   "metadata": {},
   "outputs": [],
   "source": [
    "ar=np.random.randint(1,99,size=[7,7])\n",
    "print(np.sort(ar))\n",
    "# print(np.searchsorted(ar,7))\n"
   ]
  },
  {
   "cell_type": "code",
   "execution_count": null,
   "metadata": {},
   "outputs": [],
   "source": [
    "my_array = np.array([\"red\",\"green\",\"orange\"])"
   ]
  },
  {
   "cell_type": "code",
   "execution_count": null,
   "metadata": {},
   "outputs": [],
   "source": [
    "extended = np.append(my_array,[\"yellow\",\"pink\"])\n",
    "print(extended)\n"
   ]
  },
  {
   "cell_type": "code",
   "execution_count": null,
   "metadata": {},
   "outputs": [],
   "source": [
    "import pandas as pd\n",
    "my_series = pd.Series()\n",
    "print(my_series)"
   ]
  },
  {
   "cell_type": "code",
   "execution_count": null,
   "metadata": {},
   "outputs": [],
   "source": [
    "my_series = np.array([10,20,30,40,50])\n",
    "my_series = pd.Series(my_series)\n",
    "print(my_series)"
   ]
  },
  {
   "cell_type": "code",
   "execution_count": null,
   "metadata": {},
   "outputs": [],
   "source": [
    "my_df = pd.DataFrame()\n",
    "print(my_df)"
   ]
  },
  {
   "cell_type": "code",
   "execution_count": null,
   "metadata": {},
   "outputs": [],
   "source": [
    "Scores = [[\"Math\",85],[\"c\",90],[\"phy\",66],[\"che\",99]]\n",
    "my_df1 = pd.DataFrame(Scores,columns=[\"Subject\",\"Score\"])\n",
    "print(my_df1)"
   ]
  },
  {
   "cell_type": "code",
   "execution_count": null,
   "metadata": {},
   "outputs": [],
   "source": [
    "Scores = {\n",
    "        \"subject\":[\"Math\",\"c\",\"phy\",\"chem\"],\n",
    "          \"marks\":[85,90,66,99]\n",
    "          }\n",
    "my_df2 = pd.DataFrame(Scores)\n",
    "print(my_df2)"
   ]
  }
 ],
 "metadata": {
  "kernelspec": {
   "display_name": "Python 3",
   "language": "python",
   "name": "python3"
  },
  "language_info": {
   "codemirror_mode": {
    "name": "ipython",
    "version": 3
   },
   "file_extension": ".py",
   "mimetype": "text/x-python",
   "name": "python",
   "nbconvert_exporter": "python",
   "pygments_lexer": "ipython3",
   "version": "3.11.5"
  },
  "orig_nbformat": 4
 },
 "nbformat": 4,
 "nbformat_minor": 2
}
