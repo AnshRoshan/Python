{
  "cells": [
    {
      "cell_type": "markdown",
      "metadata": {},
      "source": [
        "### Day 0 -  Basic Of The Python "
      ]
    },
    {
      "cell_type": "code",
      "execution_count": null,
      "metadata": {
        "id": "oWliGlQYNbCU"
      },
      "outputs": [],
      "source": [
        "import sys\n",
        "import keyword\n",
        "import operator\n",
        "import os"
      ]
    },
    {
      "cell_type": "markdown",
      "metadata": {},
      "source": [
        "['False', 'None', 'True', 'and', 'as', 'assert', 'async', 'await', 'break', 'class', 'continue', 'def', 'del', 'elif', 'else', 'except', 'finally', 'for', 'from', 'global', 'if', 'import', 'in', 'is', 'lambda', 'nonlocal', 'not', 'or', 'pass', 'raise', 'return', 'try', 'while', 'with', 'yield']"
      ]
    },
    {
      "cell_type": "code",
      "execution_count": null,
      "metadata": {
        "colab": {
          "base_uri": "https://localhost:8080/"
        },
        "id": "-Em_qvf8N3bU",
        "outputId": "a07425cd-ab90-4aea-a409-a96250326125"
      },
      "outputs": [],
      "source": [
        "# List of all the keyword in the python\n",
        "print(keyword.kwlist)\n",
        "print(len(keyword.kwlist))"
      ]
    },
    {
      "cell_type": "code",
      "execution_count": null,
      "metadata": {
        "colab": {
          "base_uri": "https://localhost:8080/"
        },
        "id": "zMxFSqk0PquI",
        "outputId": "2fc2d15f-76ef-4d06-d0a0-f530ed1e0f5c"
      },
      "outputs": [],
      "source": [
        "p=10\n",
        "if p==10:\n",
        "            print('p is equal to ten')\n"
      ]
    },
    {
      "cell_type": "code",
      "execution_count": null,
      "metadata": {
        "colab": {
          "base_uri": "https://localhost:8080/"
        },
        "id": "3L3qp2yyQkQX",
        "outputId": "03d7614c-cce3-417d-f5e2-149bda66a560"
      },
      "outputs": [],
      "source": [
        "variable='hello'\n",
        "type(variable)\n",
        "print(sys.getsizeof(variable))\n",
        "p3=10\n",
        "print(type(p3))\n",
        "print(p3)\n",
        "print(sys.getsizeof(p3))\n",
        "p4=10.09\n",
        "print(type(p4))\n",
        "print(p4)\n",
        "print(sys.getsizeof(p4))"
      ]
    },
    {
      "cell_type": "code",
      "execution_count": null,
      "metadata": {
        "colab": {
          "base_uri": "https://localhost:8080/"
        },
        "id": "pb90Ycd5S4Ab",
        "outputId": "0241e4f3-5c7f-451f-bc89-a98c82839478"
      },
      "outputs": [],
      "source": [
        "val16 = 25+10j\n",
        "print(val16)\n",
        "print(type(val16))\n",
        "print(sys.getsizeof(val16))"
      ]
    },
    {
      "cell_type": "code",
      "execution_count": null,
      "metadata": {
        "colab": {
          "base_uri": "https://localhost:8080/"
        },
        "id": "PoBTdPDUS_sp",
        "outputId": "965f0021-a2e5-4fb0-d5b0-f95c5dfff71b"
      },
      "outputs": [],
      "source": [
        "bol1 = True\n",
        "bol2 = False\n",
        "print(type(bol1))\n"
      ]
    },
    {
      "cell_type": "code",
      "execution_count": null,
      "metadata": {
        "colab": {
          "base_uri": "https://localhost:8080/"
        },
        "id": "tktgbsVDS_nj",
        "outputId": "34acf602-b7db-406f-eef8-d10a0057f345"
      },
      "outputs": [],
      "source": [
        "str1 = \"Hello Python\"\n",
        "print(str1)\n",
        "str2= 'Sun is \" Dark-Blue\" . '\n",
        "print(str2)\n",
        "print(str1[0])\n",
        "print(str1[1])\n",
        "print(str1[-1])\n",
        "print(str1[len(str1)-1])\n",
        "print(str1[:7])\n",
        "print(str1[0:7:2])\n",
        "print(str1[-4:])\n",
        "del str2\n",
        "print(str1+\" \"+\"hhh\")"
      ]
    },
    {
      "cell_type": "code",
      "execution_count": null,
      "metadata": {
        "colab": {
          "base_uri": "https://localhost:8080/",
          "height": 304
        },
        "id": "FpMlnfh0bXVQ",
        "outputId": "5e636474-8c25-4eb9-8ca9-a9e4ebf5d014"
      },
      "outputs": [],
      "source": [
        "list1=[]\n",
        "print(type(list1))\n",
        "list2=[10,20,30,'am',18.0j,88.98]\n",
        "print(list2[4])\n",
        "list2.append('four')\n",
        "print(list2)\n",
        "list2.insert(1,'fourty')\n",
        "print(list2)\n",
        "# work with the value \n",
        "list2.remove(20)\n",
        "print(list2)\n",
        "# work with the index\n",
        "list2.pop(0)\n",
        "print(list2)\n",
        "list2=list2[::-1]\n",
        "print(list2)\n",
        "list2.reverse()\n",
        "print(list2)\n",
        "list2.clear()\n",
        "print(list2)\n",
        "list2=[90,23,56,12,54]\n",
        "list2.sort()\n",
        "print(list2)\n",
        "sorted(list2)\n",
        "print(list2)\n",
        "\n",
        "\n"
      ]
    },
    {
      "cell_type": "code",
      "execution_count": null,
      "metadata": {
        "id": "LUuTsuxccQA2"
      },
      "outputs": [],
      "source": [
        "# tuple is immutable\n",
        "tupa=(12,34,12)\n",
        "print(tupa)\n",
        "print(len(tupa))\n",
        "tupa=(12,11)\n",
        "print(tupa)\n",
        "tupa=(12,13,14,(1,2,3,4))\n"
      ]
    },
    {
      "cell_type": "code",
      "execution_count": null,
      "metadata": {},
      "outputs": [],
      "source": [
        "set1={23,45,11,23,89,90,11}\n",
        "set2={1,2,3,4,5}\n",
        "print(set1)\n",
        "set1=set1.union(set2)\n",
        "print(set1)\n",
        "set1=set1.intersection(set2)\n",
        "print(set1)\n",
        "set1.add(34)\n",
        "print(set1)\n",
        "set3={7,8,9,0}\n",
        "set1 = set1 | set3\n",
        "print(set1)\n",
        "set1 = set1 - set3\n",
        "print(set1)\n",
        "set1 = set1 & set3\n",
        "print(set1)"
      ]
    }
  ],
  "metadata": {
    "colab": {
      "provenance": []
    },
    "kernelspec": {
      "display_name": "Python 3",
      "name": "python3"
    },
    "language_info": {
      "codemirror_mode": {
        "name": "ipython",
        "version": 3
      },
      "file_extension": ".py",
      "mimetype": "text/x-python",
      "name": "python",
      "nbconvert_exporter": "python",
      "pygments_lexer": "ipython3",
      "version": "3.11.5"
    }
  },
  "nbformat": 4,
  "nbformat_minor": 0
}
