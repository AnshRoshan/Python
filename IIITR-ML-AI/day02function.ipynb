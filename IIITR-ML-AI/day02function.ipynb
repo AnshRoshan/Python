{
 "cells": [
  {
   "cell_type": "code",
   "execution_count": 1,
   "metadata": {},
   "outputs": [],
   "source": [
    "def greet():\n",
    "    print(\"Hello Ansh Roshan !!!!!\")"
   ]
  },
  {
   "cell_type": "code",
   "execution_count": null,
   "metadata": {},
   "outputs": [],
   "source": [
    "def squareof(a):\n",
    "    return a*a\n",
    "squareof(2)"
   ]
  },
  {
   "cell_type": "code",
   "execution_count": null,
   "metadata": {},
   "outputs": [],
   "source": [
    "def oddoreven(num):\n",
    "    if num%2==0:\n",
    "        return \"even\"\n",
    "    return \"odd\"\n",
    "oddoreven(56)"
   ]
  },
  {
   "cell_type": "code",
   "execution_count": null,
   "metadata": {},
   "outputs": [],
   "source": [
    "def fibonacci(num):\n",
    "    a=(1+5**0.5)/2\n",
    "    b=(1-5**0.5)/2\n",
    "    return (a**num-b**num)/5**0.5\n",
    "\n",
    "fibonacci(6)\n"
   ]
  },
  {
   "cell_type": "code",
   "execution_count": null,
   "metadata": {},
   "outputs": [],
   "source": [
    "def fibonacci2(num):\n",
    "    a=0\n",
    "    b=1\n",
    "    if num<=1:\n",
    "        return 1\n",
    "    else:\n",
    "        for i in range(2,num):\n",
    "            sumuse=a+b\n",
    "            a=b\n",
    "            b=sumuse\n",
    "    return b\n",
    "\n",
    "fibonacci2(1)        "
   ]
  }
 ],
 "metadata": {
  "kernelspec": {
   "display_name": "Python 3",
   "language": "python",
   "name": "python3"
  },
  "language_info": {
   "codemirror_mode": {
    "name": "ipython",
    "version": 3
   },
   "file_extension": ".py",
   "mimetype": "text/x-python",
   "name": "python",
   "nbconvert_exporter": "python",
   "pygments_lexer": "ipython3",
   "version": "3.11.5"
  },
  "orig_nbformat": 4
 },
 "nbformat": 4,
 "nbformat_minor": 2
}
