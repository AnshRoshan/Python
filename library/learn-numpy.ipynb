{
 "cells": [
  {
   "cell_type": "code",
   "execution_count": null,
   "metadata": {},
   "outputs": [],
   "source": [
    "import numpy as np"
   ]
  },
  {
   "cell_type": "code",
   "execution_count": null,
   "metadata": {},
   "outputs": [],
   "source": [
    "list1=[1,2,3,4,5]\n",
    "arr=np.array(list1)\n",
    "print(arr)\n",
    "arr=np.append(arr,[8,9,0])\n",
    "print(arr)\n",
    "print(arr.shape)\n",
    "print(arr.size)\n",
    "print(arr.itemsize)\n",
    "print(arr.dtype)\n",
    "print(arr.ndim)\n",
    "\n",
    "list2=[90,98,65,45]\n",
    "newar=np.array(list2)\n",
    "newar=np.concatenate((newar,arr))\n",
    "print(newar)"
   ]
  },
  {
   "cell_type": "code",
   "execution_count": null,
   "metadata": {},
   "outputs": [],
   "source": [
    "lista=[1,2,3,4,5]\n",
    "listb=[9,8,7,6,5]\n",
    "veca=np.array(lista)\n",
    "vecb=np.array(listb)\n",
    "mult=veca * vecb\n",
    "dot=np.sum(mult)\n",
    "print(dot)\n",
    "dot=np.dot(veca,vecb)\n",
    "print(dot)\n",
    "dot=veca @ vecb\n",
    "print(dot)"
   ]
  },
  {
   "cell_type": "code",
   "execution_count": null,
   "metadata": {},
   "outputs": [],
   "source": [
    "print(''' \n",
    "###################################\n",
    "      Matrix Various Function\n",
    "###################################''')\n",
    "print(arr.T)\n",
    "print(np.linalg.inv(arr))\n",
    "print(np.linalg.det(arr))\n",
    "print(np.diag(arr))\n",
    "print(np.diag(np.diag(arr)))"
   ]
  },
  {
   "cell_type": "code",
   "execution_count": null,
   "metadata": {},
   "outputs": [],
   "source": [
    "#  indexing in numpy array\n",
    "list1=[[1,2,3,],[2,9,0],[7,8,5]]\n",
    "arr=np.array(list1)\n",
    "print(arr[0])\n",
    "print(arr[0 ,0])\n",
    "print(arr[-1,-1])\n",
    "print(arr[:,0])\n",
    "print(arr[0:])\n",
    "print(arr[0:0:2])\n",
    "print(arr[0:2,0:2])\n",
    "\n",
    "print(arr)\n",
    "print(arr>5)\n",
    "print(arr[arr>5])\n",
    "print(np.where(arr>5,1,0))\n",
    "\n",
    "arr=np.array([12,32,12,45,123,56,876,234,67])\n",
    "index=np.array([4,2,3,0])\n",
    "print(arr[index])\n",
    "\n",
    "even=np.argwhere(arr%2==0).flatten()\n",
    "print(arr[even])"
   ]
  },
  {
   "cell_type": "code",
   "execution_count": null,
   "metadata": {},
   "outputs": [],
   "source": [
    "\n",
    "arr=(np.arange(1,8,2))\n",
    "print(arr)\n",
    "print(arr.shape)\n",
    "nar=arr.reshape(2,2)\n",
    "print(nar)\n",
    "\n",
    "nar=arr[:,np.newaxis]\n",
    "print(nar)\n",
    "nar=arr[np.newaxis,:]\n",
    "print(nar)\n",
    "a=np.array([[1,2,0],[3,4,9],[5,6,11]])\n",
    "print(np.concatenate((a,a.T),axis=1))\n",
    "print(np.hstack((a,a.T)))\n",
    "print(np.vstack((a,a.T)))"
   ]
  },
  {
   "cell_type": "code",
   "execution_count": null,
   "metadata": {},
   "outputs": [],
   "source": [
    "a=np.array([[1,2,0],[3,4,9],[5,6,11]])\n",
    "val=np.array([1,0,5])\n",
    "print(a)\n",
    "print(a+val)\n",
    "\n",
    "x=np.array([1.0,2.0],dtype=np.int8)\n",
    "print(x.dtype)\n",
    "x=np.array([1.0,2.0],dtype=np.int64)\n",
    "print(x.dtype)\n",
    "x=np.array([1.0,2.0],dtype=np.float16)\n",
    "print(x.dtype)\n",
    "x=np.array([1.0,2.0],dtype=np.float16)\n",
    "print(x.dtype)"
   ]
  },
  {
   "cell_type": "code",
   "execution_count": null,
   "metadata": {},
   "outputs": [],
   "source": [
    "print(a.sum())\n",
    "print(a.sum(axis=None)) \n",
    "print(a.sum(axis=0)) \n",
    "print(a.sum(axis=1))\n",
    "\n",
    "print(a.mean())\n",
    "print(a.mean(axis=None)) \n",
    "print(a.mean(axis=0)) \n",
    "print(a.mean(axis=1))\n",
    "\n",
    "print(a.std(axis=None)) \n",
    "print(np.std(a,axis=None)) \n",
    "print(np.min(a,axis=None)) \n",
    "print(np.max(a,axis=None)) "
   ]
  },
  {
   "cell_type": "code",
   "execution_count": null,
   "metadata": {},
   "outputs": [],
   "source": [
    "a=np.array([1,2,3,4])\n",
    "\n",
    "b=a\n",
    "b[0]=42\n",
    "print(b)\n",
    "print(a)\n",
    "b=a.copy()\n",
    "b[0]=67\n",
    "print(b)\n",
    "print(a)\n"
   ]
  },
  {
   "cell_type": "code",
   "execution_count": null,
   "metadata": {},
   "outputs": [],
   "source": [
    "a=np.zeros((2,3))\n",
    "print(a)\n",
    "a=np.ones((2,3))\n",
    "print(a)\n",
    "a=np.eye(3)\n",
    "print(a)\n",
    "a=np.arange(20)\n",
    "print(a)\n",
    "a=np.linspace(0,15,11)\n",
    "print(a)\n",
    "a=np.full((2,3),11)\n",
    "print(a)"
   ]
  },
  {
   "cell_type": "code",
   "execution_count": null,
   "metadata": {},
   "outputs": [],
   "source": [
    "rvar=np.random.random((3,2))\n",
    "print(rvar)\n",
    "# guassian/normal distribution\n",
    "rvar=np.random.randn(3,2)\n",
    "print(rvar)\n",
    "# for guassian distribution mean is 0 and variance is 1\n",
    "rvar=np.random.randn(10000)\n",
    "print(\"  Mean ==>\",rvar.mean(),\"  Variance ==>\",rvar.var())\n",
    "rvar=np.random.randint(3,10,size=(4,4))\n",
    "print(rvar)\n",
    "rvar=np.random.choice([2,3,5,7,11,13],size=10)\n",
    "print(rvar)\n",
    "rvar=np.random.choice([\"Mon\",\"Tue\",\"Wed\",\"Thurs\",\"Fri\",\"Sat\",\"Sun\"],size=11)\n",
    "print(rvar)"
   ]
  },
  {
   "cell_type": "code",
   "execution_count": null,
   "metadata": {},
   "outputs": [],
   "source": [
    "arr=np.array([[1,2,3],[4,5,6],[7,8,9]])\n",
    "evalue,evector= np.linalg.eig(arr)\n",
    "print(evalue)\n",
    "print(evector) # column vector !!!\n",
    "# e_vec * e_val = A * e_vec\n",
    "tempa=evector[:,0] * evalue[0]\n",
    "print(tempa)\n",
    "tempb= arr @ evector[:,0]\n",
    "print(np.allclose(tempa,tempb))"
   ]
  },
  {
   "cell_type": "code",
   "execution_count": 32,
   "metadata": {},
   "outputs": [
    {
     "name": "stdout",
     "output_type": "stream",
     "text": [
      "[1500.  700.]\n",
      "[1500.  700.]\n"
     ]
    }
   ],
   "source": [
    "# X=[x1,x2]\n",
    "A=np.array([[1,1],[1.5,4]])\n",
    "b=np.array([2200 , 5050])\n",
    "\n",
    "# Ax=b  , x= A^-1b\n",
    "X=np.linalg.inv(A) @ b\n",
    "print(X)\n",
    "\n",
    "X=np.linalg.solve(A,b)\n",
    "print(X)"
   ]
  },
  {
   "cell_type": "code",
   "execution_count": null,
   "metadata": {},
   "outputs": [],
   "source": [
    "#  np.loadtxt and np.genfromtxt\n",
    "data=np.loadtxt('',delimiter=',',dtype=np.int8)\n",
    "print(data.shape)\n",
    "data=np.genfromtxt('',delimiter=',',dtype=np.int8)\n",
    "print(data.shape)"
   ]
  }
 ],
 "metadata": {
  "kernelspec": {
   "display_name": "Python 3",
   "language": "python",
   "name": "python3"
  },
  "language_info": {
   "codemirror_mode": {
    "name": "ipython",
    "version": 3
   },
   "file_extension": ".py",
   "mimetype": "text/x-python",
   "name": "python",
   "nbconvert_exporter": "python",
   "pygments_lexer": "ipython3",
   "version": "3.11.5"
  },
  "orig_nbformat": 4
 },
 "nbformat": 4,
 "nbformat_minor": 2
}
